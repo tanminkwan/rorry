{
 "cells": [
  {
   "cell_type": "code",
   "execution_count": null,
   "metadata": {},
   "outputs": [],
   "source": [
    "# API Key를 환경변수로 관리하기 위한 설정 파일\n",
    "\n",
    "from dotenv import load_dotenv\n",
    "\n",
    "# API Key 정보로드\n",
    "load_dotenv()"
   ]
  },
  {
   "cell_type": "code",
   "execution_count": null,
   "metadata": {},
   "outputs": [],
   "source": [
    "from sklearn.metrics.pairwise import cosine_similarity\n",
    "import openai\n",
    "import os\n",
    "import numpy as np\n",
    "\n",
    "# OpenAI API 키 설정\n",
    "openai.api_key = os.environ[\"OPENAI_API_KEY\"]  # 환경 변수에서 불러오는 것이 더 안전함\n",
    "\n",
    "# 문장을 임베딩으로 변환하는 함수\n",
    "def sentence_to_embedding(sentence):\n",
    "    response = openai.embeddings.create(\n",
    "        input=sentence,\n",
    "        model=\"text-embedding-ada-002\"  # OpenAI embedding 모델\n",
    "    )\n",
    "    return np.asarray(response.data[0].embedding, dtype=np.float32)  # ndarray Type 벡터 반환"
   ]
  },
  {
   "cell_type": "code",
   "execution_count": 75,
   "metadata": {},
   "outputs": [],
   "source": [
    "# 비교할 문장과 연산자(키워드) 리스트\n",
    "texts = [\n",
    "    \"나는 자동차를 좋아합니다.\",\n",
    "    \"나는 딸기를 싫어합니다.\",\n",
    "    \"나는 자동차를 싫어합니다.\",\n",
    "    \"나는 딸기를 좋아합니다.\",\n",
    "    \"한국에는 산이 많습니다.\"\n",
    "]\n",
    "\n",
    "operators = [\n",
    "    \"자동차\",\n",
    "    \"딸기\",\n",
    "    \"무엇인가를 좋아하다\",\n",
    "    \"무엇인가를 싫어하다\",\n",
    "]\n",
    "\n",
    "t_text = [{\"text\": s, \"embedding\":sentence_to_embedding(s)} for s in texts]\n",
    "o_embs = {s:sentence_to_embedding(s) for s in operators}"
   ]
  },
  {
   "cell_type": "code",
   "execution_count": null,
   "metadata": {},
   "outputs": [
    {
     "name": "stdout",
     "output_type": "stream",
     "text": [
      "원래 문장 : 나는 자동차를 좋아합니다.\n",
      "가장 유사한 문장 순위:\n",
      "1. 나는 딸기를 싫어합니다. (유사도: 0.8949)\n",
      "3. 나는 딸기를 좋아합니다. (유사도: 0.8526)\n",
      "2. 나는 자동차를 싫어합니다. (유사도: 0.8154)\n",
      "0. 나는 자동차를 좋아합니다. (유사도: 0.7736)\n",
      "4. 한국에는 산이 많습니다. (유사도: 0.7433)\n"
     ]
    }
   ],
   "source": [
    "\n",
    "\n",
    "# 원래 문장\n",
    "sentence = t_text[0]  # \"나는 자동차를 좋아합니다.\"\n",
    "print(f\"원래 문장 : {sentence['text']}\")\n",
    "\n",
    "weight1 = 1  # 목적어 가중치 설정\n",
    "weight2 = 1  # 동사 가중치 설정\n",
    "embedding = sentence[\"embedding\"]\\\n",
    "     + (o_embs[\"딸기\"] - o_embs[\"자동차\"]) * weight1 + \\\n",
    "     + (o_embs[\"무엇인가를 싫어하다\"] - o_embs[\"무엇인가를 좋아하다\"]) * weight2\n",
    "\n",
    "embedding = embedding / np.linalg.norm(embedding, ord=2)  # 정규화\n",
    "\n",
    "resutls = []\n",
    "for i, s in enumerate(t_text):\n",
    "    resutls.append({\"id\":i, \"text\":s['text'], \"similarity\":cosine_similarity([embedding], [s['embedding']])[0][0]})\n",
    "\n",
    "resutls = sorted(resutls, key=lambda x: x[\"similarity\"], reverse=True)\n",
    "\n",
    "print(\"가장 유사한 문장 순위:\")\n",
    "for r in resutls:\n",
    "    print(f\"{r['id']}. {r['text']} (유사도: {r['similarity']:.4f})\")"
   ]
  }
 ],
 "metadata": {
  "kernelspec": {
   "display_name": "Python 3",
   "language": "python",
   "name": "python3"
  },
  "language_info": {
   "codemirror_mode": {
    "name": "ipython",
    "version": 3
   },
   "file_extension": ".py",
   "mimetype": "text/x-python",
   "name": "python",
   "nbconvert_exporter": "python",
   "pygments_lexer": "ipython3",
   "version": "3.10.10"
  }
 },
 "nbformat": 4,
 "nbformat_minor": 2
}
