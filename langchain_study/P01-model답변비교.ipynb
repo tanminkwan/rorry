{
 "cells": [
  {
   "cell_type": "code",
   "execution_count": 1,
   "metadata": {},
   "outputs": [],
   "source": [
    "# API Key를 환경변수로 관리하기 위한 설정 파일\n",
    "\n",
    "from dotenv import load_dotenv\n",
    "\n",
    "# API Key 정보로드\n",
    "# - OPENAI_API_KEY = \"\"\n",
    "# - LANGCHAIN_TRACING_V2 = \"true\"\n",
    "# - LANGCHAIN_ENDPOINT = \"https://api.smith.langchain.com\"\n",
    "# - LANGCHAIN_API_KEY = \"\"\n",
    "load_dotenv()\n",
    "\n",
    "import os\n",
    "os.environ[\"LANGCHAIN_PROJECT\"] = \"langchain_study\" # Langsmith project 명"
   ]
  },
  {
   "cell_type": "code",
   "execution_count": 2,
   "metadata": {},
   "outputs": [],
   "source": [
    "# 비교대상 모델ID 상수 정의\n",
    "IS_HOME = False\n",
    "\n",
    "if IS_HOME:\n",
    "    AYA = \"aya:8b-23-q8_0\"\n",
    "    LLAMA3 = \"llama3:8b-instruct-q8_0\"\n",
    "    GEMMA = \"gemma:7b-instruct-q8_0\"\n",
    "    PHI3 = \"phi3:instruct\"\n",
    "else:\n",
    "    AYA = \"aya\"\n",
    "    LLAMA3 = \"llama3:instruct\"\n",
    "    GEMMA = \"gemma\"\n",
    "    PHI3 = \"phi3:instruct\"\n",
    "\n",
    "GPT = \"gpt-4o\""
   ]
  },
  {
   "cell_type": "code",
   "execution_count": 3,
   "metadata": {},
   "outputs": [],
   "source": [
    "from langchain_community.llms import Ollama\n",
    "\n",
    "llm_aya = Ollama(model=AYA, temperature=0)\n",
    "llm_llama3 = Ollama(model=LLAMA3, temperature=0)\n",
    "llm_gemma = Ollama(model=GEMMA, temperature=0)\n",
    "llm_phi3 = Ollama(model=PHI3, temperature=0)\n"
   ]
  },
  {
   "cell_type": "code",
   "execution_count": 4,
   "metadata": {},
   "outputs": [],
   "source": [
    "from langchain_openai import ChatOpenAI\n",
    "\n",
    "llm_gpt = ChatOpenAI(model=GPT, temperature=0)"
   ]
  },
  {
   "cell_type": "code",
   "execution_count": 5,
   "metadata": {},
   "outputs": [],
   "source": [
    "from langchain.prompts import PromptTemplate\n",
    "\n",
    "prompt = PromptTemplate.from_template(\n",
    "    \"\"\"\n",
    "    System : 너는 다음 Instruction을 잘 수행하는 assistant 이다.\n",
    "    Instruction : {instruction}\n",
    "    \"\"\"\n",
    ")"
   ]
  },
  {
   "cell_type": "code",
   "execution_count": 6,
   "metadata": {},
   "outputs": [],
   "source": [
    "from langchain_core.output_parsers import StrOutputParser\n",
    "output_parser = StrOutputParser()"
   ]
  },
  {
   "cell_type": "code",
   "execution_count": 7,
   "metadata": {},
   "outputs": [],
   "source": [
    "chain_aya = prompt | llm_aya | output_parser\n",
    "chain_llama3 = prompt | llm_llama3 | output_parser\n",
    "chain_gemma = prompt | llm_gemma | output_parser\n",
    "chain_phi3 = prompt | llm_phi3 | output_parser\n",
    "chain_gpt = prompt | llm_gpt | output_parser\n",
    "\n",
    "param = {\n",
    "    AYA : chain_aya ,\n",
    "    LLAMA3 : chain_llama3 ,\n",
    "    GEMMA : chain_gemma ,\n",
    "    PHI3 : chain_phi3 ,\n",
    "    GPT : chain_gpt ,\n",
    "}\n",
    "\n",
    "from langchain_core.runnables import RunnableParallel\n",
    "\n",
    "chain_llms = RunnableParallel(**param)"
   ]
  },
  {
   "cell_type": "markdown",
   "metadata": {},
   "source": [
    "#### (TEST) 평가대상 LLM 문제 출제 및 답안 작성"
   ]
  },
  {
   "cell_type": "code",
   "execution_count": 44,
   "metadata": {},
   "outputs": [
    {
     "name": "stdout",
     "output_type": "stream",
     "text": [
      "{'aya': '식혜는 한국의 전통 음료로, 쌀로 만든 시럽이나 꿀로 단맛을 내고 때때로 마늘이나 생강과 같은 향신료를 넣어 만듭니다. '\n",
      "        '그것은 종종 차가운 상태로 제공되며, 달콤하고 약간 매콤한 맛이 납니다. 식혜는 한국 문화에서 인기 있는 음료이며, 특히 '\n",
      "        '여름에 인기가 많습니다. 그것은 종종 건강 증진과 소화 개선에 도움이 되는 것으로 여겨집니다.',\n",
      " 'gemma': '식혜는 한국에서 유명한 음료수입니다. 주로 과일, 특히 사과를 주원으로 하고, 설탕과 향이 들어간 음료입니다. 식혜는 '\n",
      "          '건강에 도움이 되고, 특히 여름에 마셔면 신선감을 느끼고 휴식을 취할 수 있습니다.',\n",
      " 'gpt-4o': '식혜는 한국의 전통 음료수로, 주로 쌀과 엿기름을 사용하여 만듭니다. 식혜는 달콤하고 시원한 맛이 특징이며, 특히 '\n",
      "           '명절이나 특별한 행사에서 자주 즐겨 마십니다. 다음은 식혜에 대한 주요 정보입니다:\\n'\n",
      "           '\\n'\n",
      "           '1. **재료**:\\n'\n",
      "           '   - **쌀**: 주로 찹쌀을 사용하지만, 멥쌀을 사용하기도 합니다.\\n'\n",
      "           '   - **엿기름**: 엿기름 가루를 물에 우려내어 사용합니다.\\n'\n",
      "           '   - **설탕**: 단맛을 더하기 위해 사용합니다.\\n'\n",
      "           '   - **물**: 기본적인 재료로 사용됩니다.\\n'\n",
      "           '\\n'\n",
      "           '2. **만드는 방법**:\\n'\n",
      "           '   1. 엿기름 가루를 물에 넣고 잘 섞은 후, 체에 걸러 엿기름 물을 만듭니다.\\n'\n",
      "           '   2. 찹쌀을 씻어 물에 불린 후, 밥을 짓습니다.\\n'\n",
      "           '   3. 지은 밥을 엿기름 물에 넣고 일정 시간 동안 발효시킵니다. 이 과정에서 밥알이 떠오르면 발효가 잘 된 '\n",
      "           '것입니다.\\n'\n",
      "           '   4. 발효가 끝나면 밥알을 건져내고, 설탕을 넣어 단맛을 조절합니다.\\n'\n",
      "           '   5. 식혜를 냉장고에 넣어 시원하게 한 후, 떠오른 밥알과 함께 서빙합니다.\\n'\n",
      "           '\\n'\n",
      "           '3. **효능**:\\n'\n",
      "           '   - 소화를 돕는 효능이 있어 식후 음료로 좋습니다.\\n'\n",
      "           '   - 엿기름에 포함된 효소가 소화 작용을 도와줍니다.\\n'\n",
      "           '   - 갈증 해소에 효과적입니다.\\n'\n",
      "           '\\n'\n",
      "           '4. **문화적 의미**:\\n'\n",
      "           '   - 식혜는 한국의 전통 명절인 설날과 추석에 자주 마시는 음료입니다.\\n'\n",
      "           '   - 전통적으로 가정에서 직접 만들어 마시기도 하지만, 현대에는 상점에서 쉽게 구입할 수 있는 제품도 많이 나와 '\n",
      "           '있습니다.\\n'\n",
      "           '\\n'\n",
      "           '식혜는 그 독특한 맛과 향으로 많은 사람들에게 사랑받는 음료입니다. 시원하게 마시면 더욱 맛있으며, 특히 더운 여름철에 '\n",
      "           '인기가 많습니다.',\n",
      " 'llama3:instruct': '😊\\n'\n",
      "                    '\\n'\n",
      "                    'So, you want to know about Sikhye (식혜), a traditional '\n",
      "                    'Korean drink. Sikhye is a sweet, fermented rice drink '\n",
      "                    \"that has been enjoyed for centuries in Korea. Here's what \"\n",
      "                    'I can tell you about it:\\n'\n",
      "                    '\\n'\n",
      "                    '**What is Sikhye?**\\n'\n",
      "                    'Sikhye is a type of Korean beverage made from fermented '\n",
      "                    'glutinous rice and various flavorings such as sugar, '\n",
      "                    'honey, or fruit extracts. The fermentation process gives '\n",
      "                    'the drink its unique sweet and slightly sour taste.\\n'\n",
      "                    '\\n'\n",
      "                    '**History**\\n'\n",
      "                    'Sikhye has been a part of Korean culture for over 1,000 '\n",
      "                    'years. It was originally consumed by royalty and nobles, '\n",
      "                    'but later became popular among common people as well. '\n",
      "                    'Sikhye was often served at special occasions like '\n",
      "                    'weddings and holidays.\\n'\n",
      "                    '\\n'\n",
      "                    '**Taste and Texture**\\n'\n",
      "                    'The taste of Sikhye is sweet and slightly sour, with a '\n",
      "                    'hint of fermentation flavor. The texture is thick and '\n",
      "                    'syrupy, similar to honey or molasses.\\n'\n",
      "                    '\\n'\n",
      "                    '**Variations**\\n'\n",
      "                    'There are many variations of Sikhye, depending on the '\n",
      "                    'type of rice used, the level of fermentation, and the '\n",
      "                    'added flavorings. Some common flavors include:\\n'\n",
      "                    '\\n'\n",
      "                    '* Original: Made with glutinous rice and sugar\\n'\n",
      "                    '* Fruit-flavored: Infused with fruit extracts like '\n",
      "                    'strawberry, orange, or grapefruit\\n'\n",
      "                    '* Honey-flavored: Made with honey instead of sugar\\n'\n",
      "                    '* Spiced: Adds spices like cinnamon, ginger, or nutmeg '\n",
      "                    'for extra flavor\\n'\n",
      "                    '\\n'\n",
      "                    '**Health Benefits**\\n'\n",
      "                    'Sikhye is believed to have several health benefits, '\n",
      "                    'including:\\n'\n",
      "                    '\\n'\n",
      "                    '* Aiding digestion and relieving stomach discomfort\\n'\n",
      "                    '* Providing antioxidants and vitamins\\n'\n",
      "                    '* Helping to regulate blood sugar levels\\n'\n",
      "                    '\\n'\n",
      "                    '**How to Enjoy Sikhye**\\n'\n",
      "                    'Sikhye can be enjoyed on its own as a refreshing drink or '\n",
      "                    \"used as an ingredient in cooking. It's often served warm \"\n",
      "                    'during the winter months, but it can also be chilled for '\n",
      "                    'a summer treat.\\n'\n",
      "                    '\\n'\n",
      "                    'I hope this helps you understand more about Sikhye! Do '\n",
      "                    'you have any specific questions or would you like to know '\n",
      "                    'more about Korean culture and traditions? 😊',\n",
      " 'phi3:instruct': ' 식혜라는 음료수은 한국의 고유입니다. 이 음료수는 청산물과 같은 맨바리를 기르기 위해 사연화 소화물로, '\n",
      "                  '따라서 청산물과 같은 영향을 주는 합성물입니다. 식혜라의 기타 정보는 다음으로 설명될 수 있습니다:\\n'\n",
      "                  '\\n'\n",
      "                  '- 화학 이름: 소화물 근비\\n'\n",
      "                  '- 가스 유클리드 수치: 1.02\\n'\n",
      "                  '- 시도 유탱자: 청산물\\n'\n",
      "                  '- 기타 정보: 식혜라는 한국의 고유입니다. 이 음료수는 청산물과 같은 영향을 주는 합성물입니다.\\n'\n",
      "                  '\\n'\n",
      "                  '식혜라는 한국의 고유입니다, 청산물과 같은 영향을 주는 합성물이며, 소화물 근비를 가진 화학 이름인 소화물 '\n",
      "                  '근비입니다. 식혜라의 유클리드 수치는 1.02입니다.\\n'\n",
      "                  '\\n'\n",
      "                  '또한, 식혜라는 음료수가 주로 한국에서 사용되어 있는 음료수로, 일부 음식에서 사용되는 합성물이며, '\n",
      "                  '청산물과 같은 영향을 주는 합성물입니다.\\n'\n",
      "                  ' Written in'}\n"
     ]
    }
   ],
   "source": [
    "# chain_llms 실행 Test\n",
    "responses = chain_llms.invoke({\"instruction\":\"식혜라는 음료수에 대해 알려주세요.\"})\n",
    "\n",
    "from pprint import pprint\n",
    "pprint(responses)"
   ]
  },
  {
   "cell_type": "code",
   "execution_count": 8,
   "metadata": {},
   "outputs": [],
   "source": [
    "#instruction = \"1990년대 한국 대중가요에 대해 알려주세요.\"\n",
    "instruction = \"필리핀의 대표적인 대중교통 알려줘\""
   ]
  },
  {
   "cell_type": "markdown",
   "metadata": {},
   "source": [
    "#### CASE # 1. StrOutputParser"
   ]
  },
  {
   "cell_type": "code",
   "execution_count": 47,
   "metadata": {},
   "outputs": [],
   "source": [
    "eval_prompt = PromptTemplate(\n",
    "    template=\"\"\"\n",
    "    System : \n",
    "    너는 llm model들의 답변을 비교하고 평가하는 AI 이다.\n",
    "    Instruction과 Responses 안의 각각의 llm별 응답을 \n",
    "    정확성(Accuracy), 관련성(Relevance), 유창성(Fluency), 완전성(Completeness) 측면에서    \n",
    "    분석하고 최고 점수 5점으로 0점 ~ 5점 사이 점수를 부여하라.\n",
    "\n",
    "    한국어로 답변해줘.\n",
    "\n",
    "    Instruction : {instruction}\n",
    "    Resonses : {responses}\n",
    "    \"\"\",\n",
    "    input_variables=[\"instruction\", \"responses\"],\n",
    ")"
   ]
  },
  {
   "cell_type": "code",
   "execution_count": 48,
   "metadata": {},
   "outputs": [],
   "source": [
    "from langchain_core.runnables import RunnablePassthrough\n",
    "\n",
    "chain_combinded = (\n",
    "    {\"responses\" : chain_llms, \"instruction\" : RunnablePassthrough()}\n",
    "    | eval_prompt\n",
    "    | llm_gpt\n",
    "    | output_parser\n",
    ")"
   ]
  },
  {
   "cell_type": "markdown",
   "metadata": {},
   "source": [
    "- 실행(invoke)"
   ]
  },
  {
   "cell_type": "code",
   "execution_count": 49,
   "metadata": {},
   "outputs": [
    {
     "name": "stdout",
     "output_type": "stream",
     "text": [
      "### 평가 기준\n",
      "1. **정확성(Accuracy)**: 제공된 정보가 사실에 부합하는지 여부.\n",
      "2. **관련성(Relevance)**: 질문에 대한 답변이 얼마나 관련성이 있는지.\n",
      "3. **유창성(Fluency)**: 문장이 얼마나 자연스럽고 읽기 쉬운지.\n",
      "4. **완전성(Completeness)**: 답변이 질문에 대해 얼마나 완전하게 설명하는지.\n",
      "\n",
      "### 평가 결과\n",
      "\n",
      "#### aya\n",
      "- **정확성**: 5점\n",
      "  - 쿠바 미사일 위기의 주요 사건과 결과를 정확하게 설명함.\n",
      "- **관련성**: 5점\n",
      "  - 질문에 대한 답변이 매우 관련성이 높음.\n",
      "- **유창성**: 5점\n",
      "  - 문장이 자연스럽고 읽기 쉬움.\n",
      "- **완전성**: 5점\n",
      "  - 사건의 배경, 전개, 결과를 모두 포함하여 완전하게 설명함.\n",
      "\n",
      "#### llama3:instruct\n",
      "- **정확성**: 5점\n",
      "  - 쿠바 미사일 위기의 주요 사건과 결과를 정확하게 설명함.\n",
      "- **관련성**: 5점\n",
      "  - 질문에 대한 답변이 매우 관련성이 높음.\n",
      "- **유창성**: 5점\n",
      "  - 문장이 자연스럽고 읽기 쉬움.\n",
      "- **완전성**: 5점\n",
      "  - 사건의 배경, 전개, 결과를 모두 포함하여 완전하게 설명함.\n",
      "\n",
      "#### gemma\n",
      "- **정확성**: 2점\n",
      "  - 쿠바 미사일 위기와 관련된 정보가 부정확하고, 쿠바의 외교 정책에 대한 설명이 주를 이룸.\n",
      "- **관련성**: 2점\n",
      "  - 질문에 대한 답변이 다소 관련성이 떨어짐.\n",
      "- **유창성**: 4점\n",
      "  - 문장은 자연스럽고 읽기 쉬움.\n",
      "- **완전성**: 2점\n",
      "  - 쿠바 미사일 위기의 주요 사건과 결과에 대한 설명이 부족함.\n",
      "\n",
      "#### phi3:instruct\n",
      "- **정확성**: 0점\n",
      "  - 제공된 정보가 쿠바 미사일 위기와 전혀 관련이 없음.\n",
      "- **관련성**: 0점\n",
      "  - 질문에 대한 답변이 전혀 관련성이 없음.\n",
      "- **유창성**: 1점\n",
      "  - 문장이 반복적이고 읽기 어려움.\n",
      "- **완전성**: 0점\n",
      "  - 쿠바 미사일 위기에 대한 설명이 전혀 없음.\n",
      "\n",
      "#### gpt-4o\n",
      "- **정확성**: 5점\n",
      "  - 쿠바 미사일 위기의 주요 사건과 결과를 정확하게 설명함.\n",
      "- **관련성**: 5점\n",
      "  - 질문에 대한 답변이 매우 관련성이 높음.\n",
      "- **유창성**: 5점\n",
      "  - 문장이 자연스럽고 읽기 쉬움.\n",
      "- **완전성**: 5점\n",
      "  - 사건의 배경, 전개, 결과를 모두 포함하여 완전하게 설명함.\n",
      "\n",
      "### 종합 평가\n",
      "- **aya**: 5점\n",
      "- **llama3:instruct**: 5점\n",
      "- **gemma**: 2.5점\n",
      "- **phi3:instruct**: 0.25점\n",
      "- **gpt-4o**: 5점\n",
      "\n",
      "**최종 평가**: aya, llama3:instruct, gpt-4o가 가장 높은 점수를 받았으며, 쿠바 미사일 위기에 대해 정확하고 완전한 설명을 제공했습니다.\n"
     ]
    }
   ],
   "source": [
    "response = chain_combinded.invoke({\"instruction\":instruction})\n",
    "print(response)"
   ]
  },
  {
   "cell_type": "markdown",
   "metadata": {},
   "source": [
    "#### CASE # 2. PydanticOutputParser"
   ]
  },
  {
   "cell_type": "code",
   "execution_count": 9,
   "metadata": {},
   "outputs": [],
   "source": [
    "from typing import List\n",
    "from langchain_core.pydantic_v1 import BaseModel, Field\n",
    "\n",
    "class EvaluationByModel(BaseModel):\n",
    "    model_id: str = Field(description=\"LLM 모델 이름 또는 LLM 모델 ID\")\n",
    "    accuracy_eval: str = Field(description=\"정확성(Accuracy) 평가\")\n",
    "    accuracy_score: int = Field(description=\"정확성(Accuracy) 평가 점수\")\n",
    "    relevance_eval: str = Field(description=\"관련성(Relevance) 평가\")\n",
    "    relevance_score: int = Field(description=\"관련성(Relevance) 평가 점수\")\n",
    "    fluency_eval: str = Field(description=\"유창성(Fluency) 평가\")\n",
    "    fluency_score: int = Field(description=\"유창성(Fluency) 평가 점수\")\n",
    "    completeness_eval: str = Field(description=\"완전성(Completeness) 평가\")\n",
    "    completeness_score: int = Field(description=\"관련성(Relevance) 평가 점수\")\n",
    "\n",
    "class EvaluationResponse(BaseModel):\n",
    "    instruction: str = Field(description=\"Instruction 내용 원문\")\n",
    "    accuracy: str = Field(description=\"정확성(Accuracy) 평가 기준\")\n",
    "    relevance: str = Field(description=\"관련성(Relevance) 평가 기준\")\n",
    "    fluency: str = Field(description=\"유창성(Fluency) 평가 기준\")\n",
    "    completeness: str = Field(description=\"완전성(Completeness) 평가 기준\")\n",
    "    evaluation_by_model: List[EvaluationByModel] = Field(description=\"LLM 모델별 세부 평가 내용\")\n",
    "    overall: str = Field(description=\"종합평가\")"
   ]
  },
  {
   "cell_type": "code",
   "execution_count": 10,
   "metadata": {},
   "outputs": [
    {
     "name": "stderr",
     "output_type": "stream",
     "text": [
      "c:\\Users\\prof\\AppData\\Local\\Programs\\Python\\Python312\\Lib\\site-packages\\langchain_core\\_api\\deprecation.py:119: LangChainDeprecationWarning: The function `convert_pydantic_to_openai_function` was deprecated in LangChain 0.1.16 and will be removed in 0.3.0. Use langchain_core.utils.function_calling.convert_to_openai_function() instead.\n",
      "  warn_deprecated(\n"
     ]
    },
    {
     "data": {
      "text/plain": [
       "{'name': 'EvaluationResponse',\n",
       " 'description': '',\n",
       " 'parameters': {'type': 'object',\n",
       "  'properties': {'instruction': {'description': 'Instruction 내용 원문',\n",
       "    'type': 'string'},\n",
       "   'accuracy': {'description': '정확성(Accuracy) 평가 기준', 'type': 'string'},\n",
       "   'relevance': {'description': '관련성(Relevance) 평가 기준', 'type': 'string'},\n",
       "   'fluency': {'description': '유창성(Fluency) 평가 기준', 'type': 'string'},\n",
       "   'completeness': {'description': '완전성(Completeness) 평가 기준',\n",
       "    'type': 'string'},\n",
       "   'evaluation_by_model': {'description': 'LLM 모델별 세부 평가 내용',\n",
       "    'type': 'array',\n",
       "    'items': {'type': 'object',\n",
       "     'properties': {'model_id': {'description': 'LLM 모델 이름 또는 LLM 모델 ID',\n",
       "       'type': 'string'},\n",
       "      'accuracy_eval': {'description': '정확성(Accuracy) 평가', 'type': 'string'},\n",
       "      'accuracy_score': {'description': '정확성(Accuracy) 평가 점수',\n",
       "       'type': 'integer'},\n",
       "      'relevance_eval': {'description': '관련성(Relevance) 평가', 'type': 'string'},\n",
       "      'relevance_score': {'description': '관련성(Relevance) 평가 점수',\n",
       "       'type': 'integer'},\n",
       "      'fluency_eval': {'description': '유창성(Fluency) 평가', 'type': 'string'},\n",
       "      'fluency_score': {'description': '유창성(Fluency) 평가 점수',\n",
       "       'type': 'integer'},\n",
       "      'completeness_eval': {'description': '완전성(Completeness) 평가',\n",
       "       'type': 'string'},\n",
       "      'completeness_score': {'description': '관련성(Relevance) 평가 점수',\n",
       "       'type': 'integer'}},\n",
       "     'required': ['model_id',\n",
       "      'accuracy_eval',\n",
       "      'accuracy_score',\n",
       "      'relevance_eval',\n",
       "      'relevance_score',\n",
       "      'fluency_eval',\n",
       "      'fluency_score',\n",
       "      'completeness_eval',\n",
       "      'completeness_score']}},\n",
       "   'overall': {'description': '종합평가', 'type': 'string'}},\n",
       "  'required': ['instruction',\n",
       "   'accuracy',\n",
       "   'relevance',\n",
       "   'fluency',\n",
       "   'completeness',\n",
       "   'evaluation_by_model',\n",
       "   'overall']}}"
      ]
     },
     "execution_count": 10,
     "metadata": {},
     "output_type": "execute_result"
    }
   ],
   "source": [
    "# Schema 확인\n",
    "from langchain.utils.openai_functions import convert_pydantic_to_openai_function\n",
    "f = convert_pydantic_to_openai_function(EvaluationResponse)\n",
    "f"
   ]
  },
  {
   "cell_type": "code",
   "execution_count": 11,
   "metadata": {},
   "outputs": [],
   "source": [
    "from langchain.output_parsers import PydanticOutputParser\n",
    "\n",
    "p_parser = PydanticOutputParser(pydantic_object=EvaluationResponse)"
   ]
  },
  {
   "cell_type": "code",
   "execution_count": 12,
   "metadata": {},
   "outputs": [],
   "source": [
    "eval_prompt = PromptTemplate(\n",
    "    template=\"\"\"\n",
    "    System : \n",
    "    너는 llm model들의 답변을 비교하고 평가하는 AI 이다.\n",
    "    Instruction과 Responses 안의 각각의 llm별 응답을\n",
    "    정확성(Accuracy), 관련성(Relevance), 유창성(Fluency), 완전성(Completeness) 측면에서    \n",
    "    분석하고 최고 점수 5점으로 0점 ~ 5점 사이 점수를 부여하라.\n",
    "\n",
    "    한국어로 답변해줘.\n",
    "    Format 에 맞춰서 답변해줘\n",
    "\n",
    "    Instruction : {instruction}\n",
    "    Responses : {responses}\n",
    "\n",
    "    Format : \n",
    "    {format}\n",
    "    \"\"\",\n",
    "    input_variables=[\"instruction\", \"responses\"],\n",
    "    partial_variables={\"format\" : p_parser.get_format_instructions()},\n",
    ")"
   ]
  },
  {
   "cell_type": "code",
   "execution_count": 13,
   "metadata": {},
   "outputs": [],
   "source": [
    "from langchain_core.runnables import RunnablePassthrough\n",
    "\n",
    "chain_combinded = (\n",
    "    {\"responses\" : chain_llms, \"instruction\" : RunnablePassthrough()}\n",
    "    | eval_prompt \n",
    "    | llm_gpt\n",
    "    | p_parser\n",
    ")"
   ]
  },
  {
   "cell_type": "markdown",
   "metadata": {},
   "source": [
    "- 실행(invoke)"
   ]
  },
  {
   "cell_type": "code",
   "execution_count": 14,
   "metadata": {},
   "outputs": [
    {
     "name": "stderr",
     "output_type": "stream",
     "text": [
      "c:\\Users\\prof\\AppData\\Local\\Programs\\Python\\Python312\\Lib\\site-packages\\urllib3\\connectionpool.py:1103: InsecureRequestWarning: Unverified HTTPS request is being made to host '70.10.15.10'. Adding certificate verification is strongly advised. See: https://urllib3.readthedocs.io/en/latest/advanced-usage.html#tls-warnings\n",
      "  warnings.warn(\n",
      "c:\\Users\\prof\\AppData\\Local\\Programs\\Python\\Python312\\Lib\\site-packages\\urllib3\\connectionpool.py:1103: InsecureRequestWarning: Unverified HTTPS request is being made to host '70.10.15.10'. Adding certificate verification is strongly advised. See: https://urllib3.readthedocs.io/en/latest/advanced-usage.html#tls-warnings\n",
      "  warnings.warn(\n",
      "c:\\Users\\prof\\AppData\\Local\\Programs\\Python\\Python312\\Lib\\site-packages\\urllib3\\connectionpool.py:1103: InsecureRequestWarning: Unverified HTTPS request is being made to host '70.10.15.10'. Adding certificate verification is strongly advised. See: https://urllib3.readthedocs.io/en/latest/advanced-usage.html#tls-warnings\n",
      "  warnings.warn(\n",
      "c:\\Users\\prof\\AppData\\Local\\Programs\\Python\\Python312\\Lib\\site-packages\\urllib3\\connectionpool.py:1103: InsecureRequestWarning: Unverified HTTPS request is being made to host '70.10.15.10'. Adding certificate verification is strongly advised. See: https://urllib3.readthedocs.io/en/latest/advanced-usage.html#tls-warnings\n",
      "  warnings.warn(\n",
      "c:\\Users\\prof\\AppData\\Local\\Programs\\Python\\Python312\\Lib\\site-packages\\urllib3\\connectionpool.py:1103: InsecureRequestWarning: Unverified HTTPS request is being made to host '70.10.15.10'. Adding certificate verification is strongly advised. See: https://urllib3.readthedocs.io/en/latest/advanced-usage.html#tls-warnings\n",
      "  warnings.warn(\n",
      "c:\\Users\\prof\\AppData\\Local\\Programs\\Python\\Python312\\Lib\\site-packages\\urllib3\\connectionpool.py:1103: InsecureRequestWarning: Unverified HTTPS request is being made to host '70.10.15.10'. Adding certificate verification is strongly advised. See: https://urllib3.readthedocs.io/en/latest/advanced-usage.html#tls-warnings\n",
      "  warnings.warn(\n",
      "c:\\Users\\prof\\AppData\\Local\\Programs\\Python\\Python312\\Lib\\site-packages\\urllib3\\connectionpool.py:1103: InsecureRequestWarning: Unverified HTTPS request is being made to host '70.10.15.10'. Adding certificate verification is strongly advised. See: https://urllib3.readthedocs.io/en/latest/advanced-usage.html#tls-warnings\n",
      "  warnings.warn(\n"
     ]
    },
    {
     "name": "stdout",
     "output_type": "stream",
     "text": [
      "instruction='필리핀의 대표적인 대중교통 알려줘' accuracy='각 모델의 응답이 필리핀의 대표적인 대중교통 수단을 정확하게 설명하는지 평가' relevance='응답이 주어진 질문과 얼마나 관련성이 있는지 평가' fluency='응답이 문법적으로 얼마나 유창하게 작성되었는지 평가' completeness='응답이 질문에 대해 얼마나 완전하게 답변했는지 평가' evaluation_by_model=[EvaluationByModel(model_id='aya', accuracy_eval='지프니, 버스, 트라이시클, 보트, 기차 등 필리핀의 주요 대중교통 수단을 정확하게 설명함', accuracy_score=5, relevance_eval='질문과 매우 관련성이 높음', relevance_score=5, fluency_eval='문법적으로 매우 유창하게 작성됨', fluency_score=5, completeness_eval='다양한 대중교통 수단을 포괄적으로 설명함', completeness_score=5), EvaluationByModel(model_id='llama3:instruct', accuracy_eval='지프니, 버스, 트라이시클, 택시, 페디캡, 페리 등 필리핀의 주요 대중교통 수단을 정확하게 설명함', accuracy_score=5, relevance_eval='질문과 매우 관련성이 높음', relevance_score=5, fluency_eval='문법적으로 매우 유창하게 작성됨', fluency_score=5, completeness_eval='다양한 대중교통 수단을 포괄적으로 설명함', completeness_score=5), EvaluationByModel(model_id='gemma', accuracy_eval='LRT, MRT, 버스, 지프니 등 필리핀의 주요 대중교통 수단을 설명함', accuracy_score=4, relevance_eval='질문과 관련성이 높음', relevance_score=4, fluency_eval='문법적으로 유창하게 작성됨', fluency_score=4, completeness_eval='다양한 대중교통 수단을 설명했으나, 일부 중요한 수단이 누락됨', completeness_score=4), EvaluationByModel(model_id='phi3:instruct', accuracy_eval='버스, 트랜스포터, 자동차, 비행기 등 필리핀의 대중교통 수단을 설명함', accuracy_score=3, relevance_eval='질문과 관련성이 있음', relevance_score=3, fluency_eval='문법적으로 유창하게 작성되었으나, 일부 문장이 어색함', fluency_score=3, completeness_eval='일부 대중교통 수단이 누락되었고, 설명이 중복됨', completeness_score=3), EvaluationByModel(model_id='gpt-4o', accuracy_eval='지프니, 트라이시클, 버스, 택시, UV 익스프레스, 페디캡, 페리 등 필리핀의 주요 대중교통 수단을 정확하게 설명함', accuracy_score=5, relevance_eval='질문과 매우 관련성이 높음', relevance_score=5, fluency_eval='문법적으로 매우 유창하게 작성됨', fluency_score=5, completeness_eval='다양한 대중교통 수단을 포괄적으로 설명함', completeness_score=5)] overall='aya, llama3:instruct, gpt-4o 모델이 정확성, 관련성, 유창성, 완전성 측면에서 모두 높은 점수를 받았으며, gemma와 phi3:instruct 모델은 일부 측면에서 다소 부족함'\n"
     ]
    },
    {
     "name": "stderr",
     "output_type": "stream",
     "text": [
      "c:\\Users\\prof\\AppData\\Local\\Programs\\Python\\Python312\\Lib\\site-packages\\urllib3\\connectionpool.py:1103: InsecureRequestWarning: Unverified HTTPS request is being made to host '70.10.15.10'. Adding certificate verification is strongly advised. See: https://urllib3.readthedocs.io/en/latest/advanced-usage.html#tls-warnings\n",
      "  warnings.warn(\n"
     ]
    }
   ],
   "source": [
    "response = chain_combinded.invoke({\"instruction\":instruction})\n",
    "print(response)"
   ]
  },
  {
   "cell_type": "markdown",
   "metadata": {},
   "source": [
    "#### 질문과 평가결과를 DB에 저장하기"
   ]
  },
  {
   "cell_type": "code",
   "execution_count": 15,
   "metadata": {},
   "outputs": [
    {
     "name": "stderr",
     "output_type": "stream",
     "text": [
      "C:\\Users\\tiffanie.kim\\AppData\\Local\\Temp\\ipykernel_12772\\2944376351.py:5: MovedIn20Warning: Deprecated API features detected! These feature(s) are not compatible with SQLAlchemy 2.0. To prevent incompatible upgrades prior to updating applications, ensure requirements files are pinned to \"sqlalchemy<2.0\". Set environment variable SQLALCHEMY_WARN_20=1 to show all deprecation warnings.  Set environment variable SQLALCHEMY_SILENCE_UBER_WARNING=1 to silence this message. (Background on SQLAlchemy 2.0 at: https://sqlalche.me/e/b8d9)\n",
      "  Base = declarative_base()\n"
     ]
    }
   ],
   "source": [
    "from sqlalchemy import create_engine\n",
    "from sqlalchemy.ext.declarative import declarative_base\n",
    "from sqlalchemy.orm import Session, relationship, sessionmaker\n",
    "\n",
    "Base = declarative_base()\n",
    "\n",
    "engine = create_engine(\"sqlite://\", echo=True)"
   ]
  },
  {
   "cell_type": "markdown",
   "metadata": {},
   "source": [
    "- CASE #1. 명시적으로 Table 만들기"
   ]
  },
  {
   "cell_type": "code",
   "execution_count": 60,
   "metadata": {},
   "outputs": [
    {
     "name": "stderr",
     "output_type": "stream",
     "text": [
      "C:\\Users\\tiffanie.kim\\AppData\\Local\\Temp\\ipykernel_2876\\1723458513.py:5: MovedIn20Warning: Deprecated API features detected! These feature(s) are not compatible with SQLAlchemy 2.0. To prevent incompatible upgrades prior to updating applications, ensure requirements files are pinned to \"sqlalchemy<2.0\". Set environment variable SQLALCHEMY_WARN_20=1 to show all deprecation warnings.  Set environment variable SQLALCHEMY_SILENCE_UBER_WARNING=1 to silence this message. (Background on SQLAlchemy 2.0 at: https://sqlalche.me/e/b8d9)\n",
      "  Base = declarative_base()\n"
     ]
    }
   ],
   "source": [
    "from sqlalchemy import Column, Integer, String, Text, ForeignKey\n",
    "from sqlalchemy.ext.declarative import declarative_base\n",
    "from sqlalchemy.orm import relationship, sessionmaker\n",
    "\n",
    "Base = declarative_base()\n",
    "\n",
    "class TEvaluationResponse(Base):\n",
    "    __tablename__ = 'evaluation_responses'\n",
    "    \n",
    "    id = Column(Integer, primary_key=True, autoincrement=True)\n",
    "    instruction = Column(Text, nullable=False)\n",
    "    accuracy = Column(Text, nullable=False)\n",
    "    relevance = Column(Text, nullable=False)\n",
    "    fluency = Column(Text, nullable=False)\n",
    "    completeness = Column(Text, nullable=False)\n",
    "    overall = Column(Text, nullable=False)\n",
    "    \n",
    "    evaluations = relationship(\"TEvaluationByModel\", back_populates=\"response\")\n",
    "\n",
    "class TEvaluationByModel(Base):\n",
    "    __tablename__ = 'evaluation_by_model'\n",
    "    \n",
    "    id = Column(Integer, primary_key=True, autoincrement=True)\n",
    "    model_id = Column(String, nullable=False)\n",
    "    accuracy_eval = Column(Text, nullable=False)\n",
    "    accuracy_score = Column(Integer, nullable=False)\n",
    "    relevance_eval = Column(Text, nullable=False)\n",
    "    relevance_score = Column(Integer, nullable=False)\n",
    "    fluency_eval = Column(Text, nullable=False)\n",
    "    fluency_score = Column(Integer, nullable=False)\n",
    "    completeness_eval = Column(Text, nullable=False)\n",
    "    completeness_score = Column(Integer, nullable=False)\n",
    "    \n",
    "    response_id = Column(Integer, ForeignKey('evaluation_responses.id'))\n",
    "    response = relationship(\"TEvaluationResponse\", back_populates=\"evaluations\")\n",
    "\n",
    "# Create an engine and a session\n",
    "engine = create_engine('sqlite:///evaluations.db')\n",
    "Session = sessionmaker(bind=engine)\n",
    "Base.metadata.create_all(engine)\n"
   ]
  },
  {
   "cell_type": "markdown",
   "metadata": {},
   "source": [
    "- CASE #2. Pydantic Schema를 이용하여 동적으로 Table 만들기 (ChatGPT가 만들어 줌)"
   ]
  },
  {
   "cell_type": "code",
   "execution_count": 16,
   "metadata": {},
   "outputs": [],
   "source": [
    "from sqlalchemy import Column, Integer, String, Text, ForeignKey\n",
    "from sqlalchemy.ext.declarative import declarative_base\n",
    "from sqlalchemy.orm import relationship, sessionmaker\n",
    "from typing import Dict, Type\n",
    "\n",
    "Base = declarative_base()\n",
    "\n",
    "# Mapping Pydantic types to SQLAlchemy types\n",
    "type_mapping = {\n",
    "    str: String,\n",
    "    int: Integer,\n",
    "    float: Text,\n",
    "}\n",
    "\n",
    "def create_sqlalchemy_model(pydantic_model: Type[BaseModel], base: Type[Base], table_name: str, exclude_fields: List[str] = None, additional_columns: Dict[str, Type[Column]] = None):\n",
    "    if exclude_fields is None:\n",
    "        exclude_fields = []\n",
    "    if additional_columns is None:\n",
    "        additional_columns = {}\n",
    "\n",
    "    fields = pydantic_model.__fields__\n",
    "    columns = {\n",
    "        '__tablename__': table_name,\n",
    "        'id': Column(Integer, primary_key=True, autoincrement=True)\n",
    "    }\n",
    "    \n",
    "    for field_name, field in fields.items():\n",
    "        if field_name in exclude_fields:\n",
    "            continue\n",
    "        field_type = field.outer_type_\n",
    "        columns[field_name] = Column(type_mapping[field_type], nullable=False)\n",
    "    \n",
    "    # Add additional columns for relationships or other special cases\n",
    "    columns.update(additional_columns)\n",
    "    \n",
    "    # Create the new model class\n",
    "    model = type(table_name, (base,), columns)\n",
    "    return model\n",
    "\n",
    "# Dynamically create SQLAlchemy models without relationships\n",
    "TEvaluationResponse = create_sqlalchemy_model(\n",
    "    EvaluationResponse, \n",
    "    Base, \n",
    "    'evaluation_responses', \n",
    "    exclude_fields=['evaluation_by_model']\n",
    ")\n",
    "TEvaluationByModel = create_sqlalchemy_model(\n",
    "    EvaluationByModel, \n",
    "    Base, \n",
    "    'evaluation_by_model'\n",
    ")\n",
    "\n",
    "# Define relationships after both classes have been created\n",
    "TEvaluationResponse.evaluations = relationship(\"TEvaluationByModel\", back_populates=\"response\")\n",
    "TEvaluationByModel.response_id = Column(Integer, ForeignKey('evaluation_responses.id'))\n",
    "TEvaluationByModel.response = relationship(\"TEvaluationResponse\", back_populates=\"evaluations\")\n",
    "\n",
    "# Create an engine and a session\n",
    "engine = create_engine('sqlite:///evaluations.db')\n",
    "Session = sessionmaker(bind=engine)\n",
    "Base.metadata.create_all(engine)\n"
   ]
  },
  {
   "cell_type": "code",
   "execution_count": 17,
   "metadata": {},
   "outputs": [],
   "source": [
    "def save_evaluation_response(session, evaluation_response):\n",
    "\n",
    "    response_dict = evaluation_response.dict(exclude={\"evaluation_by_model\"})\n",
    "    response = TEvaluationResponse(\n",
    "        **response_dict  # Unpack the dictionary into keyword arguments\n",
    "    )\n",
    "    session.add(response)\n",
    "    session.flush()\n",
    "\n",
    "    for eval_model in evaluation_response.evaluation_by_model:\n",
    "        model_evaluation = TEvaluationByModel(\n",
    "            response_id=response.id,  # Use the generated ID\n",
    "            **eval_model.dict()  # Unpack the dictionary into keyword arguments\n",
    "        )\n",
    "        session.add(model_evaluation)\n",
    "    \n",
    "    session.commit()"
   ]
  },
  {
   "cell_type": "code",
   "execution_count": 20,
   "metadata": {},
   "outputs": [
    {
     "data": {
      "text/plain": [
       "mappingproxy({'__tablename__': 'evaluation_responses',\n",
       "              'id': <sqlalchemy.orm.attributes.InstrumentedAttribute at 0x2246aa10f50>,\n",
       "              'instruction': <sqlalchemy.orm.attributes.InstrumentedAttribute at 0x2246aa10fa0>,\n",
       "              'accuracy': <sqlalchemy.orm.attributes.InstrumentedAttribute at 0x2246aa10ff0>,\n",
       "              'relevance': <sqlalchemy.orm.attributes.InstrumentedAttribute at 0x2246aa11040>,\n",
       "              'fluency': <sqlalchemy.orm.attributes.InstrumentedAttribute at 0x2246aa11090>,\n",
       "              'completeness': <sqlalchemy.orm.attributes.InstrumentedAttribute at 0x2246aa110e0>,\n",
       "              'overall': <sqlalchemy.orm.attributes.InstrumentedAttribute at 0x2246aa11130>,\n",
       "              'evaluations': <sqlalchemy.orm.attributes.InstrumentedAttribute at 0x2246a9cf1b0>,\n",
       "              '__module__': '__main__',\n",
       "              '__doc__': None,\n",
       "              '_sa_class_manager': <ClassManager of <class '__main__.evaluation_responses'> at 2245ba9a030>,\n",
       "              '__table__': Table('evaluation_responses', MetaData(), Column('id', Integer(), table=<evaluation_responses>, primary_key=True, nullable=False), Column('instruction', String(), table=<evaluation_responses>, nullable=False), Column('accuracy', String(), table=<evaluation_responses>, nullable=False), Column('relevance', String(), table=<evaluation_responses>, nullable=False), Column('fluency', String(), table=<evaluation_responses>, nullable=False), Column('completeness', String(), table=<evaluation_responses>, nullable=False), Column('overall', String(), table=<evaluation_responses>, nullable=False), schema=None),\n",
       "              '__init__': <function sqlalchemy.orm.instrumentation.__init__(self, **kwargs)>,\n",
       "              '__mapper__': <Mapper at 0x2246a2f7f80; evaluation_responses>})"
      ]
     },
     "execution_count": 20,
     "metadata": {},
     "output_type": "execute_result"
    }
   ],
   "source": [
    "TEvaluationResponse.__dict__"
   ]
  },
  {
   "cell_type": "code",
   "execution_count": 18,
   "metadata": {},
   "outputs": [
    {
     "ename": "InvalidRequestError",
     "evalue": "When initializing mapper mapped class evaluation_responses->evaluation_responses, expression 'TEvaluationByModel' failed to locate a name ('TEvaluationByModel'). If this is a class name, consider adding this relationship() to the <class '__main__.evaluation_responses'> class after both dependent classes have been defined.",
     "output_type": "error",
     "traceback": [
      "\u001b[1;31m---------------------------------------------------------------------------\u001b[0m",
      "\u001b[1;31mKeyError\u001b[0m                                  Traceback (most recent call last)",
      "File \u001b[1;32mc:\\Users\\prof\\AppData\\Local\\Programs\\Python\\Python312\\Lib\\site-packages\\sqlalchemy\\orm\\clsregistry.py:393\u001b[0m, in \u001b[0;36m_class_resolver._resolve_name\u001b[1;34m(self)\u001b[0m\n\u001b[0;32m    392\u001b[0m \u001b[38;5;28;01mif\u001b[39;00m rval \u001b[38;5;129;01mis\u001b[39;00m \u001b[38;5;28;01mNone\u001b[39;00m:\n\u001b[1;32m--> 393\u001b[0m     rval \u001b[38;5;241m=\u001b[39m \u001b[43md\u001b[49m\u001b[43m[\u001b[49m\u001b[43mtoken\u001b[49m\u001b[43m]\u001b[49m\n\u001b[0;32m    394\u001b[0m \u001b[38;5;28;01melse\u001b[39;00m:\n",
      "File \u001b[1;32mc:\\Users\\prof\\AppData\\Local\\Programs\\Python\\Python312\\Lib\\site-packages\\sqlalchemy\\util\\_collections.py:746\u001b[0m, in \u001b[0;36mPopulateDict.__missing__\u001b[1;34m(self, key)\u001b[0m\n\u001b[0;32m    745\u001b[0m \u001b[38;5;28;01mdef\u001b[39;00m \u001b[38;5;21m__missing__\u001b[39m(\u001b[38;5;28mself\u001b[39m, key):\n\u001b[1;32m--> 746\u001b[0m     \u001b[38;5;28mself\u001b[39m[key] \u001b[38;5;241m=\u001b[39m val \u001b[38;5;241m=\u001b[39m \u001b[38;5;28;43mself\u001b[39;49m\u001b[38;5;241;43m.\u001b[39;49m\u001b[43mcreator\u001b[49m\u001b[43m(\u001b[49m\u001b[43mkey\u001b[49m\u001b[43m)\u001b[49m\n\u001b[0;32m    747\u001b[0m     \u001b[38;5;28;01mreturn\u001b[39;00m val\n",
      "File \u001b[1;32mc:\\Users\\prof\\AppData\\Local\\Programs\\Python\\Python312\\Lib\\site-packages\\sqlalchemy\\orm\\clsregistry.py:372\u001b[0m, in \u001b[0;36m_class_resolver._access_cls\u001b[1;34m(self, key)\u001b[0m\n\u001b[0;32m    370\u001b[0m             \u001b[38;5;28;01mreturn\u001b[39;00m value\n\u001b[1;32m--> 372\u001b[0m \u001b[38;5;28;01mreturn\u001b[39;00m \u001b[38;5;28;43mself\u001b[39;49m\u001b[38;5;241;43m.\u001b[39;49m\u001b[43mfallback\u001b[49m\u001b[43m[\u001b[49m\u001b[43mkey\u001b[49m\u001b[43m]\u001b[49m\n",
      "\u001b[1;31mKeyError\u001b[0m: 'TEvaluationByModel'",
      "\nThe above exception was the direct cause of the following exception:\n",
      "\u001b[1;31mInvalidRequestError\u001b[0m                       Traceback (most recent call last)",
      "Cell \u001b[1;32mIn[18], line 2\u001b[0m\n\u001b[0;32m      1\u001b[0m session \u001b[38;5;241m=\u001b[39m Session()\n\u001b[1;32m----> 2\u001b[0m \u001b[43msave_evaluation_response\u001b[49m\u001b[43m(\u001b[49m\u001b[43msession\u001b[49m\u001b[43m,\u001b[49m\u001b[43m \u001b[49m\u001b[43mresponse\u001b[49m\u001b[43m)\u001b[49m\n\u001b[0;32m      3\u001b[0m session\u001b[38;5;241m.\u001b[39mclose()\n",
      "Cell \u001b[1;32mIn[17], line 4\u001b[0m, in \u001b[0;36msave_evaluation_response\u001b[1;34m(session, evaluation_response)\u001b[0m\n\u001b[0;32m      1\u001b[0m \u001b[38;5;28;01mdef\u001b[39;00m \u001b[38;5;21msave_evaluation_response\u001b[39m(session, evaluation_response):\n\u001b[0;32m      3\u001b[0m     response_dict \u001b[38;5;241m=\u001b[39m evaluation_response\u001b[38;5;241m.\u001b[39mdict(exclude\u001b[38;5;241m=\u001b[39m{\u001b[38;5;124m\"\u001b[39m\u001b[38;5;124mevaluation_by_model\u001b[39m\u001b[38;5;124m\"\u001b[39m})\n\u001b[1;32m----> 4\u001b[0m     response \u001b[38;5;241m=\u001b[39m \u001b[43mTEvaluationResponse\u001b[49m\u001b[43m(\u001b[49m\n\u001b[0;32m      5\u001b[0m \u001b[43m        \u001b[49m\u001b[38;5;241;43m*\u001b[39;49m\u001b[38;5;241;43m*\u001b[39;49m\u001b[43mresponse_dict\u001b[49m\u001b[43m  \u001b[49m\u001b[38;5;66;43;03m# Unpack the dictionary into keyword arguments\u001b[39;49;00m\n\u001b[0;32m      6\u001b[0m \u001b[43m    \u001b[49m\u001b[43m)\u001b[49m\n\u001b[0;32m      7\u001b[0m     session\u001b[38;5;241m.\u001b[39madd(response)\n\u001b[0;32m      8\u001b[0m     session\u001b[38;5;241m.\u001b[39mflush()\n",
      "File \u001b[1;32m<string>:4\u001b[0m, in \u001b[0;36m__init__\u001b[1;34m(self, **kwargs)\u001b[0m\n",
      "File \u001b[1;32mc:\\Users\\prof\\AppData\\Local\\Programs\\Python\\Python312\\Lib\\site-packages\\sqlalchemy\\orm\\state.py:476\u001b[0m, in \u001b[0;36mInstanceState._initialize_instance\u001b[1;34m(*mixed, **kwargs)\u001b[0m\n\u001b[0;32m    473\u001b[0m \u001b[38;5;28mself\u001b[39m, instance, args \u001b[38;5;241m=\u001b[39m mixed[\u001b[38;5;241m0\u001b[39m], mixed[\u001b[38;5;241m1\u001b[39m], mixed[\u001b[38;5;241m2\u001b[39m:]  \u001b[38;5;66;03m# noqa\u001b[39;00m\n\u001b[0;32m    474\u001b[0m manager \u001b[38;5;241m=\u001b[39m \u001b[38;5;28mself\u001b[39m\u001b[38;5;241m.\u001b[39mmanager\n\u001b[1;32m--> 476\u001b[0m \u001b[43mmanager\u001b[49m\u001b[38;5;241;43m.\u001b[39;49m\u001b[43mdispatch\u001b[49m\u001b[38;5;241;43m.\u001b[39;49m\u001b[43minit\u001b[49m\u001b[43m(\u001b[49m\u001b[38;5;28;43mself\u001b[39;49m\u001b[43m,\u001b[49m\u001b[43m \u001b[49m\u001b[43margs\u001b[49m\u001b[43m,\u001b[49m\u001b[43m \u001b[49m\u001b[43mkwargs\u001b[49m\u001b[43m)\u001b[49m\n\u001b[0;32m    478\u001b[0m \u001b[38;5;28;01mtry\u001b[39;00m:\n\u001b[0;32m    479\u001b[0m     \u001b[38;5;28;01mreturn\u001b[39;00m manager\u001b[38;5;241m.\u001b[39moriginal_init(\u001b[38;5;241m*\u001b[39mmixed[\u001b[38;5;241m1\u001b[39m:], \u001b[38;5;241m*\u001b[39m\u001b[38;5;241m*\u001b[39mkwargs)\n",
      "File \u001b[1;32mc:\\Users\\prof\\AppData\\Local\\Programs\\Python\\Python312\\Lib\\site-packages\\sqlalchemy\\event\\attr.py:346\u001b[0m, in \u001b[0;36m_CompoundListener.__call__\u001b[1;34m(self, *args, **kw)\u001b[0m\n\u001b[0;32m    344\u001b[0m     fn(\u001b[38;5;241m*\u001b[39margs, \u001b[38;5;241m*\u001b[39m\u001b[38;5;241m*\u001b[39mkw)\n\u001b[0;32m    345\u001b[0m \u001b[38;5;28;01mfor\u001b[39;00m fn \u001b[38;5;129;01min\u001b[39;00m \u001b[38;5;28mself\u001b[39m\u001b[38;5;241m.\u001b[39mlisteners:\n\u001b[1;32m--> 346\u001b[0m     \u001b[43mfn\u001b[49m\u001b[43m(\u001b[49m\u001b[38;5;241;43m*\u001b[39;49m\u001b[43margs\u001b[49m\u001b[43m,\u001b[49m\u001b[43m \u001b[49m\u001b[38;5;241;43m*\u001b[39;49m\u001b[38;5;241;43m*\u001b[39;49m\u001b[43mkw\u001b[49m\u001b[43m)\u001b[49m\n",
      "File \u001b[1;32mc:\\Users\\prof\\AppData\\Local\\Programs\\Python\\Python312\\Lib\\site-packages\\sqlalchemy\\orm\\mapper.py:3716\u001b[0m, in \u001b[0;36m_event_on_init\u001b[1;34m(state, args, kwargs)\u001b[0m\n\u001b[0;32m   3714\u001b[0m instrumenting_mapper \u001b[38;5;241m=\u001b[39m state\u001b[38;5;241m.\u001b[39mmanager\u001b[38;5;241m.\u001b[39mmapper\n\u001b[0;32m   3715\u001b[0m \u001b[38;5;28;01mif\u001b[39;00m instrumenting_mapper:\n\u001b[1;32m-> 3716\u001b[0m     \u001b[43minstrumenting_mapper\u001b[49m\u001b[38;5;241;43m.\u001b[39;49m\u001b[43m_check_configure\u001b[49m\u001b[43m(\u001b[49m\u001b[43m)\u001b[49m\n\u001b[0;32m   3717\u001b[0m     \u001b[38;5;28;01mif\u001b[39;00m instrumenting_mapper\u001b[38;5;241m.\u001b[39m_set_polymorphic_identity:\n\u001b[0;32m   3718\u001b[0m         instrumenting_mapper\u001b[38;5;241m.\u001b[39m_set_polymorphic_identity(state)\n",
      "File \u001b[1;32mc:\\Users\\prof\\AppData\\Local\\Programs\\Python\\Python312\\Lib\\site-packages\\sqlalchemy\\orm\\mapper.py:1941\u001b[0m, in \u001b[0;36mMapper._check_configure\u001b[1;34m(self)\u001b[0m\n\u001b[0;32m   1939\u001b[0m \u001b[38;5;28;01mdef\u001b[39;00m \u001b[38;5;21m_check_configure\u001b[39m(\u001b[38;5;28mself\u001b[39m):\n\u001b[0;32m   1940\u001b[0m     \u001b[38;5;28;01mif\u001b[39;00m \u001b[38;5;28mself\u001b[39m\u001b[38;5;241m.\u001b[39mregistry\u001b[38;5;241m.\u001b[39m_new_mappers:\n\u001b[1;32m-> 1941\u001b[0m         \u001b[43m_configure_registries\u001b[49m\u001b[43m(\u001b[49m\u001b[43m{\u001b[49m\u001b[38;5;28;43mself\u001b[39;49m\u001b[38;5;241;43m.\u001b[39;49m\u001b[43mregistry\u001b[49m\u001b[43m}\u001b[49m\u001b[43m,\u001b[49m\u001b[43m \u001b[49m\u001b[43mcascade\u001b[49m\u001b[38;5;241;43m=\u001b[39;49m\u001b[38;5;28;43;01mTrue\u001b[39;49;00m\u001b[43m)\u001b[49m\n",
      "File \u001b[1;32mc:\\Users\\prof\\AppData\\Local\\Programs\\Python\\Python312\\Lib\\site-packages\\sqlalchemy\\orm\\mapper.py:3527\u001b[0m, in \u001b[0;36m_configure_registries\u001b[1;34m(registries, cascade)\u001b[0m\n\u001b[0;32m   3521\u001b[0m     Mapper\u001b[38;5;241m.\u001b[39mdispatch\u001b[38;5;241m.\u001b[39m_for_class(Mapper)\u001b[38;5;241m.\u001b[39mbefore_configured()\n\u001b[0;32m   3522\u001b[0m     \u001b[38;5;66;03m# initialize properties on all mappers\u001b[39;00m\n\u001b[0;32m   3523\u001b[0m     \u001b[38;5;66;03m# note that _mapper_registry is unordered, which\u001b[39;00m\n\u001b[0;32m   3524\u001b[0m     \u001b[38;5;66;03m# may randomly conceal/reveal issues related to\u001b[39;00m\n\u001b[0;32m   3525\u001b[0m     \u001b[38;5;66;03m# the order of mapper compilation\u001b[39;00m\n\u001b[1;32m-> 3527\u001b[0m     \u001b[43m_do_configure_registries\u001b[49m\u001b[43m(\u001b[49m\u001b[43mregistries\u001b[49m\u001b[43m,\u001b[49m\u001b[43m \u001b[49m\u001b[43mcascade\u001b[49m\u001b[43m)\u001b[49m\n\u001b[0;32m   3528\u001b[0m \u001b[38;5;28;01mfinally\u001b[39;00m:\n\u001b[0;32m   3529\u001b[0m     _already_compiling \u001b[38;5;241m=\u001b[39m \u001b[38;5;28;01mFalse\u001b[39;00m\n",
      "File \u001b[1;32mc:\\Users\\prof\\AppData\\Local\\Programs\\Python\\Python312\\Lib\\site-packages\\sqlalchemy\\orm\\mapper.py:3566\u001b[0m, in \u001b[0;36m_do_configure_registries\u001b[1;34m(registries, cascade)\u001b[0m\n\u001b[0;32m   3564\u001b[0m \u001b[38;5;28;01mif\u001b[39;00m \u001b[38;5;129;01mnot\u001b[39;00m mapper\u001b[38;5;241m.\u001b[39mconfigured:\n\u001b[0;32m   3565\u001b[0m     \u001b[38;5;28;01mtry\u001b[39;00m:\n\u001b[1;32m-> 3566\u001b[0m         \u001b[43mmapper\u001b[49m\u001b[38;5;241;43m.\u001b[39;49m\u001b[43m_post_configure_properties\u001b[49m\u001b[43m(\u001b[49m\u001b[43m)\u001b[49m\n\u001b[0;32m   3567\u001b[0m         mapper\u001b[38;5;241m.\u001b[39m_expire_memoizations()\n\u001b[0;32m   3568\u001b[0m         mapper\u001b[38;5;241m.\u001b[39mdispatch\u001b[38;5;241m.\u001b[39mmapper_configured(mapper, mapper\u001b[38;5;241m.\u001b[39mclass_)\n",
      "File \u001b[1;32mc:\\Users\\prof\\AppData\\Local\\Programs\\Python\\Python312\\Lib\\site-packages\\sqlalchemy\\orm\\mapper.py:1958\u001b[0m, in \u001b[0;36mMapper._post_configure_properties\u001b[1;34m(self)\u001b[0m\n\u001b[0;32m   1955\u001b[0m \u001b[38;5;28mself\u001b[39m\u001b[38;5;241m.\u001b[39m_log(\u001b[38;5;124m\"\u001b[39m\u001b[38;5;124minitialize prop \u001b[39m\u001b[38;5;132;01m%s\u001b[39;00m\u001b[38;5;124m\"\u001b[39m, key)\n\u001b[0;32m   1957\u001b[0m \u001b[38;5;28;01mif\u001b[39;00m prop\u001b[38;5;241m.\u001b[39mparent \u001b[38;5;129;01mis\u001b[39;00m \u001b[38;5;28mself\u001b[39m \u001b[38;5;129;01mand\u001b[39;00m \u001b[38;5;129;01mnot\u001b[39;00m prop\u001b[38;5;241m.\u001b[39m_configure_started:\n\u001b[1;32m-> 1958\u001b[0m     \u001b[43mprop\u001b[49m\u001b[38;5;241;43m.\u001b[39;49m\u001b[43minit\u001b[49m\u001b[43m(\u001b[49m\u001b[43m)\u001b[49m\n\u001b[0;32m   1960\u001b[0m \u001b[38;5;28;01mif\u001b[39;00m prop\u001b[38;5;241m.\u001b[39m_configure_finished:\n\u001b[0;32m   1961\u001b[0m     prop\u001b[38;5;241m.\u001b[39mpost_instrument_class(\u001b[38;5;28mself\u001b[39m)\n",
      "File \u001b[1;32mc:\\Users\\prof\\AppData\\Local\\Programs\\Python\\Python312\\Lib\\site-packages\\sqlalchemy\\orm\\interfaces.py:231\u001b[0m, in \u001b[0;36mMapperProperty.init\u001b[1;34m(self)\u001b[0m\n\u001b[0;32m    224\u001b[0m \u001b[38;5;250m\u001b[39m\u001b[38;5;124;03m\"\"\"Called after all mappers are created to assemble\u001b[39;00m\n\u001b[0;32m    225\u001b[0m \u001b[38;5;124;03mrelationships between mappers and perform other post-mapper-creation\u001b[39;00m\n\u001b[0;32m    226\u001b[0m \u001b[38;5;124;03minitialization steps.\u001b[39;00m\n\u001b[0;32m    227\u001b[0m \n\u001b[0;32m    228\u001b[0m \n\u001b[0;32m    229\u001b[0m \u001b[38;5;124;03m\"\"\"\u001b[39;00m\n\u001b[0;32m    230\u001b[0m \u001b[38;5;28mself\u001b[39m\u001b[38;5;241m.\u001b[39m_configure_started \u001b[38;5;241m=\u001b[39m \u001b[38;5;28;01mTrue\u001b[39;00m\n\u001b[1;32m--> 231\u001b[0m \u001b[38;5;28;43mself\u001b[39;49m\u001b[38;5;241;43m.\u001b[39;49m\u001b[43mdo_init\u001b[49m\u001b[43m(\u001b[49m\u001b[43m)\u001b[49m\n\u001b[0;32m    232\u001b[0m \u001b[38;5;28mself\u001b[39m\u001b[38;5;241m.\u001b[39m_configure_finished \u001b[38;5;241m=\u001b[39m \u001b[38;5;28;01mTrue\u001b[39;00m\n",
      "File \u001b[1;32mc:\\Users\\prof\\AppData\\Local\\Programs\\Python\\Python312\\Lib\\site-packages\\sqlalchemy\\orm\\relationships.py:2150\u001b[0m, in \u001b[0;36mRelationshipProperty.do_init\u001b[1;34m(self)\u001b[0m\n\u001b[0;32m   2148\u001b[0m \u001b[38;5;28;01mdef\u001b[39;00m \u001b[38;5;21mdo_init\u001b[39m(\u001b[38;5;28mself\u001b[39m):\n\u001b[0;32m   2149\u001b[0m     \u001b[38;5;28mself\u001b[39m\u001b[38;5;241m.\u001b[39m_check_conflicts()\n\u001b[1;32m-> 2150\u001b[0m     \u001b[38;5;28;43mself\u001b[39;49m\u001b[38;5;241;43m.\u001b[39;49m\u001b[43m_process_dependent_arguments\u001b[49m\u001b[43m(\u001b[49m\u001b[43m)\u001b[49m\n\u001b[0;32m   2151\u001b[0m     \u001b[38;5;28mself\u001b[39m\u001b[38;5;241m.\u001b[39m_setup_registry_dependencies()\n\u001b[0;32m   2152\u001b[0m     \u001b[38;5;28mself\u001b[39m\u001b[38;5;241m.\u001b[39m_setup_join_conditions()\n",
      "File \u001b[1;32mc:\\Users\\prof\\AppData\\Local\\Programs\\Python\\Python312\\Lib\\site-packages\\sqlalchemy\\orm\\relationships.py:2245\u001b[0m, in \u001b[0;36mRelationshipProperty._process_dependent_arguments\u001b[1;34m(self)\u001b[0m\n\u001b[0;32m   2231\u001b[0m \u001b[38;5;28mself\u001b[39m\u001b[38;5;241m.\u001b[39m_user_defined_foreign_keys \u001b[38;5;241m=\u001b[39m util\u001b[38;5;241m.\u001b[39mcolumn_set(\n\u001b[0;32m   2232\u001b[0m     coercions\u001b[38;5;241m.\u001b[39mexpect(\n\u001b[0;32m   2233\u001b[0m         roles\u001b[38;5;241m.\u001b[39mColumnArgumentRole, x, argname\u001b[38;5;241m=\u001b[39m\u001b[38;5;124m\"\u001b[39m\u001b[38;5;124mforeign_keys\u001b[39m\u001b[38;5;124m\"\u001b[39m\n\u001b[0;32m   2234\u001b[0m     )\n\u001b[0;32m   2235\u001b[0m     \u001b[38;5;28;01mfor\u001b[39;00m x \u001b[38;5;129;01min\u001b[39;00m util\u001b[38;5;241m.\u001b[39mto_column_set(\u001b[38;5;28mself\u001b[39m\u001b[38;5;241m.\u001b[39m_user_defined_foreign_keys)\n\u001b[0;32m   2236\u001b[0m )\n\u001b[0;32m   2238\u001b[0m \u001b[38;5;28mself\u001b[39m\u001b[38;5;241m.\u001b[39mremote_side \u001b[38;5;241m=\u001b[39m util\u001b[38;5;241m.\u001b[39mcolumn_set(\n\u001b[0;32m   2239\u001b[0m     coercions\u001b[38;5;241m.\u001b[39mexpect(\n\u001b[0;32m   2240\u001b[0m         roles\u001b[38;5;241m.\u001b[39mColumnArgumentRole, x, argname\u001b[38;5;241m=\u001b[39m\u001b[38;5;124m\"\u001b[39m\u001b[38;5;124mremote_side\u001b[39m\u001b[38;5;124m\"\u001b[39m\n\u001b[0;32m   2241\u001b[0m     )\n\u001b[0;32m   2242\u001b[0m     \u001b[38;5;28;01mfor\u001b[39;00m x \u001b[38;5;129;01min\u001b[39;00m util\u001b[38;5;241m.\u001b[39mto_column_set(\u001b[38;5;28mself\u001b[39m\u001b[38;5;241m.\u001b[39mremote_side)\n\u001b[0;32m   2243\u001b[0m )\n\u001b[1;32m-> 2245\u001b[0m \u001b[38;5;28mself\u001b[39m\u001b[38;5;241m.\u001b[39mtarget \u001b[38;5;241m=\u001b[39m \u001b[38;5;28;43mself\u001b[39;49m\u001b[38;5;241;43m.\u001b[39;49m\u001b[43mentity\u001b[49m\u001b[38;5;241m.\u001b[39mpersist_selectable\n",
      "File \u001b[1;32mc:\\Users\\prof\\AppData\\Local\\Programs\\Python\\Python312\\Lib\\site-packages\\sqlalchemy\\util\\langhelpers.py:1113\u001b[0m, in \u001b[0;36mmemoized_property.__get__\u001b[1;34m(self, obj, cls)\u001b[0m\n\u001b[0;32m   1111\u001b[0m \u001b[38;5;28;01mif\u001b[39;00m obj \u001b[38;5;129;01mis\u001b[39;00m \u001b[38;5;28;01mNone\u001b[39;00m:\n\u001b[0;32m   1112\u001b[0m     \u001b[38;5;28;01mreturn\u001b[39;00m \u001b[38;5;28mself\u001b[39m\n\u001b[1;32m-> 1113\u001b[0m obj\u001b[38;5;241m.\u001b[39m\u001b[38;5;18m__dict__\u001b[39m[\u001b[38;5;28mself\u001b[39m\u001b[38;5;241m.\u001b[39m\u001b[38;5;18m__name__\u001b[39m] \u001b[38;5;241m=\u001b[39m result \u001b[38;5;241m=\u001b[39m \u001b[38;5;28;43mself\u001b[39;49m\u001b[38;5;241;43m.\u001b[39;49m\u001b[43mfget\u001b[49m\u001b[43m(\u001b[49m\u001b[43mobj\u001b[49m\u001b[43m)\u001b[49m\n\u001b[0;32m   1114\u001b[0m \u001b[38;5;28;01mreturn\u001b[39;00m result\n",
      "File \u001b[1;32mc:\\Users\\prof\\AppData\\Local\\Programs\\Python\\Python312\\Lib\\site-packages\\sqlalchemy\\orm\\relationships.py:2112\u001b[0m, in \u001b[0;36mRelationshipProperty.entity\u001b[1;34m(self)\u001b[0m\n\u001b[0;32m   2109\u001b[0m mapperlib \u001b[38;5;241m=\u001b[39m util\u001b[38;5;241m.\u001b[39mpreloaded\u001b[38;5;241m.\u001b[39morm_mapper\n\u001b[0;32m   2111\u001b[0m \u001b[38;5;28;01mif\u001b[39;00m \u001b[38;5;28misinstance\u001b[39m(\u001b[38;5;28mself\u001b[39m\u001b[38;5;241m.\u001b[39margument, util\u001b[38;5;241m.\u001b[39mstring_types):\n\u001b[1;32m-> 2112\u001b[0m     argument \u001b[38;5;241m=\u001b[39m \u001b[38;5;28;43mself\u001b[39;49m\u001b[38;5;241;43m.\u001b[39;49m\u001b[43m_clsregistry_resolve_name\u001b[49m\u001b[43m(\u001b[49m\u001b[38;5;28;43mself\u001b[39;49m\u001b[38;5;241;43m.\u001b[39;49m\u001b[43margument\u001b[49m\u001b[43m)\u001b[49m\u001b[43m(\u001b[49m\u001b[43m)\u001b[49m\n\u001b[0;32m   2114\u001b[0m \u001b[38;5;28;01melif\u001b[39;00m \u001b[38;5;28mcallable\u001b[39m(\u001b[38;5;28mself\u001b[39m\u001b[38;5;241m.\u001b[39margument) \u001b[38;5;129;01mand\u001b[39;00m \u001b[38;5;129;01mnot\u001b[39;00m \u001b[38;5;28misinstance\u001b[39m(\n\u001b[0;32m   2115\u001b[0m     \u001b[38;5;28mself\u001b[39m\u001b[38;5;241m.\u001b[39margument, (\u001b[38;5;28mtype\u001b[39m, mapperlib\u001b[38;5;241m.\u001b[39mMapper)\n\u001b[0;32m   2116\u001b[0m ):\n\u001b[0;32m   2117\u001b[0m     argument \u001b[38;5;241m=\u001b[39m \u001b[38;5;28mself\u001b[39m\u001b[38;5;241m.\u001b[39margument()\n",
      "File \u001b[1;32mc:\\Users\\prof\\AppData\\Local\\Programs\\Python\\Python312\\Lib\\site-packages\\sqlalchemy\\orm\\clsregistry.py:397\u001b[0m, in \u001b[0;36m_class_resolver._resolve_name\u001b[1;34m(self)\u001b[0m\n\u001b[0;32m    395\u001b[0m             rval \u001b[38;5;241m=\u001b[39m \u001b[38;5;28mgetattr\u001b[39m(rval, token)\n\u001b[0;32m    396\u001b[0m \u001b[38;5;28;01mexcept\u001b[39;00m \u001b[38;5;167;01mKeyError\u001b[39;00m \u001b[38;5;28;01mas\u001b[39;00m err:\n\u001b[1;32m--> 397\u001b[0m     \u001b[38;5;28;43mself\u001b[39;49m\u001b[38;5;241;43m.\u001b[39;49m\u001b[43m_raise_for_name\u001b[49m\u001b[43m(\u001b[49m\u001b[43mname\u001b[49m\u001b[43m,\u001b[49m\u001b[43m \u001b[49m\u001b[43merr\u001b[49m\u001b[43m)\u001b[49m\n\u001b[0;32m    398\u001b[0m \u001b[38;5;28;01mexcept\u001b[39;00m \u001b[38;5;167;01mNameError\u001b[39;00m \u001b[38;5;28;01mas\u001b[39;00m n:\n\u001b[0;32m    399\u001b[0m     \u001b[38;5;28mself\u001b[39m\u001b[38;5;241m.\u001b[39m_raise_for_name(n\u001b[38;5;241m.\u001b[39margs[\u001b[38;5;241m0\u001b[39m], n)\n",
      "File \u001b[1;32mc:\\Users\\prof\\AppData\\Local\\Programs\\Python\\Python312\\Lib\\site-packages\\sqlalchemy\\orm\\clsregistry.py:375\u001b[0m, in \u001b[0;36m_class_resolver._raise_for_name\u001b[1;34m(self, name, err)\u001b[0m\n\u001b[0;32m    374\u001b[0m \u001b[38;5;28;01mdef\u001b[39;00m \u001b[38;5;21m_raise_for_name\u001b[39m(\u001b[38;5;28mself\u001b[39m, name, err):\n\u001b[1;32m--> 375\u001b[0m     \u001b[43mutil\u001b[49m\u001b[38;5;241;43m.\u001b[39;49m\u001b[43mraise_\u001b[49m\u001b[43m(\u001b[49m\n\u001b[0;32m    376\u001b[0m \u001b[43m        \u001b[49m\u001b[43mexc\u001b[49m\u001b[38;5;241;43m.\u001b[39;49m\u001b[43mInvalidRequestError\u001b[49m\u001b[43m(\u001b[49m\n\u001b[0;32m    377\u001b[0m \u001b[43m            \u001b[49m\u001b[38;5;124;43m\"\u001b[39;49m\u001b[38;5;124;43mWhen initializing mapper \u001b[39;49m\u001b[38;5;132;43;01m%s\u001b[39;49;00m\u001b[38;5;124;43m, expression \u001b[39;49m\u001b[38;5;132;43;01m%r\u001b[39;49;00m\u001b[38;5;124;43m failed to \u001b[39;49m\u001b[38;5;124;43m\"\u001b[39;49m\n\u001b[0;32m    378\u001b[0m \u001b[43m            \u001b[49m\u001b[38;5;124;43m\"\u001b[39;49m\u001b[38;5;124;43mlocate a name (\u001b[39;49m\u001b[38;5;132;43;01m%r\u001b[39;49;00m\u001b[38;5;124;43m). If this is a class name, consider \u001b[39;49m\u001b[38;5;124;43m\"\u001b[39;49m\n\u001b[0;32m    379\u001b[0m \u001b[43m            \u001b[49m\u001b[38;5;124;43m\"\u001b[39;49m\u001b[38;5;124;43madding this relationship() to the \u001b[39;49m\u001b[38;5;132;43;01m%r\u001b[39;49;00m\u001b[38;5;124;43m class after \u001b[39;49m\u001b[38;5;124;43m\"\u001b[39;49m\n\u001b[0;32m    380\u001b[0m \u001b[43m            \u001b[49m\u001b[38;5;124;43m\"\u001b[39;49m\u001b[38;5;124;43mboth dependent classes have been defined.\u001b[39;49m\u001b[38;5;124;43m\"\u001b[39;49m\n\u001b[0;32m    381\u001b[0m \u001b[43m            \u001b[49m\u001b[38;5;241;43m%\u001b[39;49m\u001b[43m \u001b[49m\u001b[43m(\u001b[49m\u001b[38;5;28;43mself\u001b[39;49m\u001b[38;5;241;43m.\u001b[39;49m\u001b[43mprop\u001b[49m\u001b[38;5;241;43m.\u001b[39;49m\u001b[43mparent\u001b[49m\u001b[43m,\u001b[49m\u001b[43m \u001b[49m\u001b[38;5;28;43mself\u001b[39;49m\u001b[38;5;241;43m.\u001b[39;49m\u001b[43marg\u001b[49m\u001b[43m,\u001b[49m\u001b[43m \u001b[49m\u001b[43mname\u001b[49m\u001b[43m,\u001b[49m\u001b[43m \u001b[49m\u001b[38;5;28;43mself\u001b[39;49m\u001b[38;5;241;43m.\u001b[39;49m\u001b[43mcls\u001b[49m\u001b[43m)\u001b[49m\n\u001b[0;32m    382\u001b[0m \u001b[43m        \u001b[49m\u001b[43m)\u001b[49m\u001b[43m,\u001b[49m\n\u001b[0;32m    383\u001b[0m \u001b[43m        \u001b[49m\u001b[43mfrom_\u001b[49m\u001b[38;5;241;43m=\u001b[39;49m\u001b[43merr\u001b[49m\u001b[43m,\u001b[49m\n\u001b[0;32m    384\u001b[0m \u001b[43m    \u001b[49m\u001b[43m)\u001b[49m\n",
      "File \u001b[1;32mc:\\Users\\prof\\AppData\\Local\\Programs\\Python\\Python312\\Lib\\site-packages\\sqlalchemy\\util\\compat.py:211\u001b[0m, in \u001b[0;36mraise_\u001b[1;34m(***failed resolving arguments***)\u001b[0m\n\u001b[0;32m    208\u001b[0m     exception\u001b[38;5;241m.\u001b[39m__cause__ \u001b[38;5;241m=\u001b[39m replace_context\n\u001b[0;32m    210\u001b[0m \u001b[38;5;28;01mtry\u001b[39;00m:\n\u001b[1;32m--> 211\u001b[0m     \u001b[38;5;28;01mraise\u001b[39;00m exception\n\u001b[0;32m    212\u001b[0m \u001b[38;5;28;01mfinally\u001b[39;00m:\n\u001b[0;32m    213\u001b[0m     \u001b[38;5;66;03m# credit to\u001b[39;00m\n\u001b[0;32m    214\u001b[0m     \u001b[38;5;66;03m# https://cosmicpercolator.com/2016/01/13/exception-leaks-in-python-2-and-3/\u001b[39;00m\n\u001b[0;32m    215\u001b[0m     \u001b[38;5;66;03m# as the __traceback__ object creates a cycle\u001b[39;00m\n\u001b[0;32m    216\u001b[0m     \u001b[38;5;28;01mdel\u001b[39;00m exception, replace_context, from_, with_traceback\n",
      "\u001b[1;31mInvalidRequestError\u001b[0m: When initializing mapper mapped class evaluation_responses->evaluation_responses, expression 'TEvaluationByModel' failed to locate a name ('TEvaluationByModel'). If this is a class name, consider adding this relationship() to the <class '__main__.evaluation_responses'> class after both dependent classes have been defined."
     ]
    }
   ],
   "source": [
    "session = Session()\n",
    "save_evaluation_response(session, response)\n",
    "session.close()"
   ]
  }
 ],
 "metadata": {
  "kernelspec": {
   "display_name": "Python 3",
   "language": "python",
   "name": "python3"
  },
  "language_info": {
   "codemirror_mode": {
    "name": "ipython",
    "version": 3
   },
   "file_extension": ".py",
   "mimetype": "text/x-python",
   "name": "python",
   "nbconvert_exporter": "python",
   "pygments_lexer": "ipython3",
   "version": "3.12.1"
  }
 },
 "nbformat": 4,
 "nbformat_minor": 2
}
