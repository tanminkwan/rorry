{
 "cells": [
  {
   "cell_type": "markdown",
   "metadata": {},
   "source": [
    "#### 한국어 언어모델 다분야 사고력 벤치마크 (MT-Bench)\n",
    "- https://github.com/instructkr/LogicKor/tree/main 참고중"
   ]
  },
  {
   "cell_type": "code",
   "execution_count": 1,
   "metadata": {},
   "outputs": [],
   "source": [
    "# API Key를 환경변수로 관리하기 위한 설정 파일\n",
    "\n",
    "from dotenv import load_dotenv\n",
    "\n",
    "# API Key 정보로드\n",
    "# - OPENAI_API_KEY = \"\"\n",
    "# - LANGCHAIN_TRACING_V2 = \"true\"\n",
    "# - LANGCHAIN_ENDPOINT = \"https://api.smith.langchain.com\"\n",
    "# - LANGCHAIN_API_KEY = \"\"\n",
    "load_dotenv()\n",
    "\n",
    "import os\n",
    "os.environ[\"LANGCHAIN_PROJECT\"] = \"langchain_study\" # Langsmith project 명"
   ]
  },
  {
   "cell_type": "code",
   "execution_count": 2,
   "metadata": {},
   "outputs": [],
   "source": [
    "# 비교대상 모델ID 상수 정의\n",
    "IS_HOME = True\n",
    "\n",
    "if IS_HOME:\n",
    "    AYA = \"aya:8b-23-q8_0\"\n",
    "    LLAMA3 = \"llama3:8b-instruct-q8_0\"\n",
    "    GEMMA = \"gemma:7b-instruct-q8_0\"\n",
    "    PHI3 = \"phi3:14b-medium-4k-instruct-q4_1\"\n",
    "else:\n",
    "    AYA = \"aya\"\n",
    "    LLAMA3 = \"llama3:instruct\"\n",
    "    GEMMA = \"gemma\"\n",
    "    PHI3 = \"phi3:instruct\"\n",
    "\n",
    "GPT = \"gpt-4o\""
   ]
  },
  {
   "cell_type": "code",
   "execution_count": 3,
   "metadata": {},
   "outputs": [],
   "source": [
    "from langchain_community.llms import Ollama\n",
    "\n",
    "llm_aya = Ollama(model=AYA, temperature=0)\n",
    "llm_llama3 = Ollama(model=LLAMA3, temperature=0)\n",
    "llm_gemma = Ollama(model=GEMMA, temperature=0)\n",
    "llm_phi3 = Ollama(model=PHI3, temperature=0)\n"
   ]
  },
  {
   "cell_type": "code",
   "execution_count": 4,
   "metadata": {},
   "outputs": [],
   "source": [
    "from langchain_openai import ChatOpenAI\n",
    "\n",
    "llm_gpt = ChatOpenAI(model=GPT, temperature=0)"
   ]
  },
  {
   "cell_type": "code",
   "execution_count": 5,
   "metadata": {},
   "outputs": [],
   "source": [
    "from langchain.prompts import PromptTemplate\n",
    "\n",
    "prompt = PromptTemplate.from_template(\n",
    "    \"\"\"\n",
    "    System : 너는 다음 Instruction을 잘 수행하는 assistant 이다.\n",
    "    Instruction : {instruction}\n",
    "    \"\"\"\n",
    ")"
   ]
  },
  {
   "cell_type": "code",
   "execution_count": 6,
   "metadata": {},
   "outputs": [],
   "source": [
    "from langchain_core.output_parsers import StrOutputParser\n",
    "output_parser = StrOutputParser()"
   ]
  },
  {
   "cell_type": "code",
   "execution_count": 7,
   "metadata": {},
   "outputs": [],
   "source": [
    "chain_aya = prompt | llm_aya | output_parser\n",
    "chain_llama3 = prompt | llm_llama3 | output_parser\n",
    "chain_gemma = prompt | llm_gemma | output_parser\n",
    "chain_phi3 = prompt | llm_phi3 | output_parser\n",
    "chain_gpt = prompt | llm_gpt | output_parser\n",
    "\n",
    "param = {\n",
    "    AYA : chain_aya ,\n",
    "    LLAMA3 : chain_llama3 ,\n",
    "    GEMMA : chain_gemma ,\n",
    "    PHI3 : chain_phi3 ,\n",
    "    GPT : chain_gpt ,\n",
    "}\n",
    "\n",
    "from langchain_core.runnables import RunnableParallel\n",
    "\n",
    "chain_llms = RunnableParallel(**param)"
   ]
  },
  {
   "cell_type": "markdown",
   "metadata": {},
   "source": [
    "#### (TEST) 평가대상 LLM 문제 출제 및 답안 작성"
   ]
  },
  {
   "cell_type": "code",
   "execution_count": 8,
   "metadata": {},
   "outputs": [
    {
     "name": "stdout",
     "output_type": "stream",
     "text": [
      "{'aya:8b-23-q8_0': '식혜는 한국의 전통 음료로, 쌀을 사용하여 만든 달콤하고 고소한 맛이 특징입니다. 일반적으로 쌀을 물에 '\n",
      "                   '담가 불려서 갈아 만든 후, 설탕과 소금을 넣어 단맛과 짠맛을 내고, 때로는 우유나 크림을 넣어 부드러운 '\n",
      "                   '맛을 더하기도 합니다. 식혜는 한국에서는 여름철에 시원한 음료로 인기가 많으며, 일반적으로 병이나 캔에 '\n",
      "                   '담겨 판매됩니다. 또한, 식혜는 영양가가 높아서 단백질과 칼슘이 풍부하고, 쌀가루를 사용하여 만들어지기 '\n",
      "                   '때문에 탄수화물도 함유하고 있습니다.',\n",
      " 'gemma:7b-instruct-q8_0': '## 식혜에 대한 설명\\n'\n",
      "                           '\\n'\n",
      "                           '식혜는 한국의 전통 음료수입니다. 주요 성분은 물, 쌀, 콩, 엿, 설탕입니다. 맛은 '\n",
      "                           '달콤하고, 향은 약간 강렬합니다.\\n'\n",
      "                           '\\n'\n",
      "                           '식혜는 다음과 같은 주요 성분으로 구성됩니다.\\n'\n",
      "                           '\\n'\n",
      "                           '* **쌀:** 식혜의 주요 성분인 쌀은 영양소와 비타민 B1을 함유하고 있습니다.\\n'\n",
      "                           '* **콩:** 콩은 단백질, 비타민 B2와 칼슘을 함유하고 있습니다.\\n'\n",
      "                           '* **엿:** 엿은 식혜의 주요 향기와 맛을 주는 중요한 성분입니다.\\n'\n",
      "                           '* **설탕:** 식혜의 주요 맛을 주는 설탕입니다.\\n'\n",
      "                           '\\n'\n",
      "                           '식혜는 다음과 같은 효과가 있습니다.\\n'\n",
      "                           '\\n'\n",
      "                           '* **항균:** 식혜는 항균 성분을 함유하여 감기, 독감 등 질환을 치료하는 효과가 '\n",
      "                           '있습니다.\\n'\n",
      "                           '* **소화:** 식혜는 소화 불량, 변비 등 질환을 치료하는 효과가 있습니다.\\n'\n",
      "                           '* **항염:** 식혜는 항염 성분을 함유하여 통증, 발진 등 질환을 치료하는 효과가 '\n",
      "                           '있습니다.\\n'\n",
      "                           '\\n'\n",
      "                           '식혜는 전 세계 여러 국가에서도 인기가 있는 건강한 음료수입니다.',\n",
      " 'gpt-4o': '식혜는 한국의 전통 음료수로, 주로 쌀과 엿기름을 사용하여 만듭니다. 달콤하고 시원한 맛이 특징이며, 특히 명절이나 '\n",
      "           '특별한 행사 때 자주 즐겨 마십니다. 식혜는 다음과 같은 과정을 통해 만들어집니다:\\n'\n",
      "           '\\n'\n",
      "           '1. **엿기름 준비**: 엿기름을 물에 담가 불린 후, 물기를 제거하고 갈아서 엿기름 물을 만듭니다. 이 엿기름 물은 '\n",
      "           '식혜의 발효를 도와주는 중요한 역할을 합니다.\\n'\n",
      "           '\\n'\n",
      "           '2. **쌀밥 준비**: 쌀을 씻어 밥을 짓습니다. 이 밥은 식혜의 주재료로 사용됩니다.\\n'\n",
      "           '\\n'\n",
      "           '3. **발효**: 엿기름 물과 쌀밥을 섞어 일정 시간 동안 따뜻한 곳에서 발효시킵니다. 이 과정에서 쌀밥이 엿기름의 '\n",
      "           '효소에 의해 당화되어 단맛이 나게 됩니다.\\n'\n",
      "           '\\n'\n",
      "           '4. **끓이기**: 발효가 완료되면, 이 혼합물을 끓여서 발효를 멈추고 맛을 조절합니다. 이때 설탕을 추가하여 단맛을 '\n",
      "           '더할 수 있습니다.\\n'\n",
      "           '\\n'\n",
      "           '5. **식히기**: 끓인 식혜를 식혀서 냉장고에 보관합니다. 시원하게 마시는 것이 일반적입니다.\\n'\n",
      "           '\\n'\n",
      "           '식혜는 소화에 도움을 주고, 특히 여름철에 시원하게 마시면 갈증 해소에 좋습니다. 또한, 전통적인 방법 외에도 다양한 '\n",
      "           '변형된 레시피가 존재하여 각 가정마다 조금씩 다른 맛을 낼 수 있습니다.',\n",
      " 'llama3:8b-instruct-q8_0': '😊\\n'\n",
      "                            '\\n'\n",
      "                            '식혜 (sikhye) is a traditional Korean drink made '\n",
      "                            \"from fermented rice and barley. It's a sweet, \"\n",
      "                            'slightly sour, and creamy beverage that has been '\n",
      "                            'enjoyed for centuries in Korea.\\n'\n",
      "                            '\\n'\n",
      "                            'Here are some interesting facts about 식혜:\\n'\n",
      "                            '\\n'\n",
      "                            '1. **Ingredients**: Sikhye is typically made with '\n",
      "                            'glutinous rice, barley, water, and a small amount '\n",
      "                            'of sugar or honey.\\n'\n",
      "                            '2. **Fermentation process**: The ingredients are '\n",
      "                            'mixed together and left to ferment for several '\n",
      "                            'days or weeks, which gives the drink its unique '\n",
      "                            'flavor and texture.\\n'\n",
      "                            '3. **Taste**: Sikhye has a sweet, slightly sour '\n",
      "                            \"taste with a creamy consistency. It's often \"\n",
      "                            'described as having a hint of rice flavor.\\n'\n",
      "                            '4. **Health benefits**: Sikhye is believed to '\n",
      "                            'have various health benefits, including aiding '\n",
      "                            'digestion, reducing stress, and boosting energy '\n",
      "                            'levels.\\n'\n",
      "                            '5. **Cultural significance**: Sikhye has been an '\n",
      "                            'important part of Korean culture for centuries, '\n",
      "                            'particularly during special occasions such as '\n",
      "                            'weddings and harvest festivals.\\n'\n",
      "                            '\\n'\n",
      "                            \"If you're interested in trying 식혜, you can find \"\n",
      "                            'it at many traditional Korean markets or '\n",
      "                            \"restaurants. It's often served warm or at room \"\n",
      "                            'temperature, and it pairs well with a variety of '\n",
      "                            'Korean dishes, including rice cakes, noodles, and '\n",
      "                            'soups.\\n'\n",
      "                            '\\n'\n",
      "                            'I hope this helps! Do you have any other '\n",
      "                            'questions about 식혜? 🍵',\n",
      " 'phi3:14b-medium-4k-instruct-q4_1': ' 식혜(Sikhye)은 한국의 전통적인 음� sobriety '\n",
      "                                     'drink이며, 일반적으로 겨울에 소비하는 맛있고 보르그러미 당신을 위한 '\n",
      "                                     '특별한 음료로 인정받고 있습니다. 식� sobriety는 매우 건강하고 '\n",
      "                                     '단백질이 풍부합니다.\\n'\n",
      "                                     '\\n'\n",
      "                                     '식혜의 기원은 14세기에 한국에서 시작되었습니다. 그것은 전통적인 '\n",
      "                                     '음료로, 사회적 상호 작용과 행복을 위한 중요한 부산이었습.[1]\\n'\n",
      "                                     '\\n'\n",
      "                                     '식혜는 주로 밀가루, 견과류, 당밀, 소금, 망고, 딱정못과 같은 재료를 '\n",
      "                                     '사용하여 만들어집니다. 이 음료는 밀가루와 견과류에서 당밀을 흡수하고, '\n",
      "                                     '소금은 당밀의 분해를 시작하는 역할을 합니다. 그런 다음 망고가 당밀에서 '\n",
      "                                     '단백질인 글리코겐을 분해하여 식혜의 부드러운 맛과 풍부한 단백질을 '\n",
      "                                     '만듭니다.\\n'\n",
      "                                     '\\n'\n",
      "                                     '식혜를 만들기 위해 밀가루, 견과류, 당� Bailey, 소금, 딱정못이 '\n",
      "                                     '작은 볼에 넣어 함께 끌면서 밀가루와 견과류를 흡수하는 데 도움이 '\n",
      "                                     '됩니다. 그런 다음 소금을 넣어 당밀의 분해를 시작합니다.\\n'\n",
      "                                     '\\n'\n",
      "                                     '식혜가 끓는 동안, 망고가 볼에 넣어 글리코겐을 분해하여 음료의 부드러운 '\n",
      "                                     '맛과 풍부한 단백질을 만들고 있습니다.\\n'\n",
      "                                     '\\n'\n",
      "                                     '식혜가 끓는 동안, 그것은 딱정못에서 분리되어 음료의 부드러운 맛과 '\n",
      "                                     '단백질을 향상시킵니다.\\n'\n",
      "                                     '\\n'\n",
      "                                     '식혜는 겨울에 소비하는 음료로 인정받고 있지만, 한국의 전통 요리에서 '\n",
      "                                     '사용되는 경우가 많습니다. 식혜를 곁들이면 단백질이 풍부하고 건강한 '\n",
      "                                     '음료로 인정받을 수 있습.[2]\\n'\n",
      "                                     '\\n'\n",
      "                                     '[1] '\n",
      "                                     'https://www.koreaheritage.or.kr/english/detail_view?idx=305&page=1\\n'\n",
      "                                     '[2] '\n",
      "                                     'https://www.foodnetwork.com/recipes/sikhye-recipe-1946871'}\n"
     ]
    }
   ],
   "source": [
    "# chain_llms 실행 Test\n",
    "responses = chain_llms.invoke({\"instruction\":\"식혜라는 음료수에 대해 알려주세요.\"})\n",
    "\n",
    "from pprint import pprint\n",
    "pprint(responses)"
   ]
  },
  {
   "cell_type": "code",
   "execution_count": 15,
   "metadata": {},
   "outputs": [],
   "source": [
    "#instruction = \"1990년대 한국 대중가요에 대해 알려주세요.\"\n",
    "#instruction = \"필리핀의 대표적인 대중교통 알려줘\"\n",
    "instruction = \"\"\"\n",
    "강수는 초등학교 5학년으로, 그의 하루는 매우 바쁘고 다채롭다. 다음은 강수의 일상을 시간 순서대로 이야기한 것이다.\n",
    "강수의 하루를 100자 내외로 요약하라.\n",
    "\n",
    "---\n",
    "아침\n",
    "7:00 AM\n",
    "알람 소리에 잠을 깬 강수는 이불을 박차고 일어난다. 세수를 하고 이를 닦은 후, 엄마가 차려 주신 아침 식사를 먹는다. 오늘 아침은 계란말이와 김치, 그리고 따뜻한 국이다.\n",
    "\n",
    "7:30 AM\n",
    "아침을 먹고 나서 교복을 입고 가방을 챙긴다. 가방에는 교과서, 공책, 필통, 그리고 어제 한 숙제들이 들어 있다. 준비가 다 되면 엄마에게 \"다녀오겠습니다!\"라고 인사한 후 집을 나선다.\n",
    "\n",
    "학교\n",
    "8:00 AM\n",
    "학교에 도착한 강수는 친구들과 인사를 나누고 교실로 들어간다. 8시 10분이 되면 아침 조회가 시작된다. 선생님께서 오늘의 공지 사항을 말씀하시고, 학생들은 이를 조용히 듣는다.\n",
    "\n",
    "9:00 AM - 12:00 PM\n",
    "오전 수업이 시작된다. 오늘은 국어, 수학, 과학, 그리고 체육 시간이 있다. 강수는 특히 과학 시간이 재미있다. 오늘은 실험을 하는 날이라 더욱 기대된다. 수업 시간 동안 친구들과 함께 다양한 활동을 하며 즐겁게 배우고, 질문도 많이 한다.\n",
    "\n",
    "점심\n",
    "12:00 PM - 1:00 PM\n",
    "점심시간이 되면 친구들과 함께 급식실로 향한다. 오늘의 메뉴는 된장찌개와 불고기다. 강수는 배가 고파서 맛있게 밥을 먹는다. 점심을 다 먹고 나면 운동장에서 친구들과 축구를 한다. 점심시간은 강수에게 가장 신나는 시간 중 하나이다.\n",
    "\n",
    "오후\n",
    "1:00 PM - 3:00 PM\n",
    "오후 수업이 시작된다. 사회, 미술, 그리고 영어 시간이 있다. 강수는 영어 시간이 조금 어렵지만, 선생님이 재미있게 가르쳐 주셔서 흥미를 가지고 열심히 듣는다. 미술 시간에는 자신의 창의력을 발휘하여 그림을 그리며 즐거운 시간을 보낸다.\n",
    "\n",
    "3:00 PM\n",
    "수업이 끝나고 방과 후 활동 시간이 된다. 강수는 로봇 공학 동아리에 가입해 있어서 로봇을 만드는 활동을 한다. 오늘은 로봇 팔을 조립하는 법을 배운다.\n",
    "\n",
    "저녁\n",
    "4:30 PM\n",
    "방과 후 활동이 끝나고 집으로 돌아온다. 집에 도착하면 엄마가 간식을 준비해 주신다. 과일과 우유를 먹으며 잠시 쉬는 시간을 가진다.\n",
    "\n",
    "5:00 PM - 6:30 PM\n",
    "간식을 먹고 나면 숙제를 한다. 오늘 배운 내용을 복습하며 수학 문제를 풀고, 영어 단어를 외운다. 숙제가 끝나면 읽고 싶은 책을 읽으며 시간을 보낸다.\n",
    "\n",
    "6:30 PM\n",
    "저녁 시간이 되어 가족들과 함께 저녁을 먹는다. 저녁을 먹으며 오늘 하루 있었던 일들을 이야기한다. 가족들과의 대화는 강수에게 매우 소중한 시간이다.\n",
    "\n",
    "밤\n",
    "8:00 PM\n",
    "저녁을 먹고 나면 잠시 TV를 보거나 게임을 한다. 그런 후에는 샤워를 하고, 내일의 준비물을 챙긴다.\n",
    "\n",
    "9:00 PM\n",
    "잠자기 전, 부모님과 함께 하루를 마무리하는 이야기를 나눈다. 그리고 책을 읽거나 음악을 들으며 마음을 진정시킨다.\n",
    "\n",
    "9:30 PM\n",
    "잠자리에 든다. 내일을 위해 충분히 쉬기 위해 스스로 알람을 맞추고, 곧 깊은 잠에 빠진다.\n",
    "\n",
    "강수의 하루는 이렇게 끝이 난다. 매일매일 새로운 것을 배우고, 친구들과 즐거운 시간을 보내며 바쁘지만 행복한 일상을 보내고 있다.\n",
    "\"\"\""
   ]
  },
  {
   "cell_type": "code",
   "execution_count": 16,
   "metadata": {},
   "outputs": [],
   "source": [
    "system_prompt = \"\"\"\n",
    "너는 질문에 대한 한국어 언어 모델들의 답변을 매우 꼼꼼히 평가할 거야. 최대로 공정한 평가를 하기 위해서는 아래 몇 가지 규칙을 준수해야 해.\n",
    "\n",
    "# 기본 규칙\n",
    "1. 답변의 정확성(Accuracy), 관련성(Relevance), 유창성(Fluency), 완전성(Completeness)에 집중하여 평가할 것\n",
    "2. 질문의 요구에서 놓친 것이 있는지 상세히 분석할 것\n",
    "3. 답변의 길이가 평가에 영향을 미치게 하지 말 것\n",
    "4. 만약 Ground Truth가 주어진다면 평가 시 해당 사실을 참고할 것\n",
    "\n",
    "Instruction과 Responses 안의 각각의 llm별 응답을 \n",
    "정확성(Accuracy), 관련성(Relevance), 유창성(Fluency), 완전성(Completeness) 측면에서    \n",
    "분석하고 최고 점수 5점으로 0점 ~ 5점 사이 점수를 부여하라.\n",
    "\n",
    "한국어로 답변해줘.\n",
    "\"\"\"\n"
   ]
  },
  {
   "cell_type": "markdown",
   "metadata": {},
   "source": [
    "#### CASE # 1. StrOutputParser"
   ]
  },
  {
   "cell_type": "code",
   "execution_count": 19,
   "metadata": {},
   "outputs": [],
   "source": [
    "eval_prompt = PromptTemplate(\n",
    "    template=\"\"\"\n",
    "\n",
    "    System : {system_prompt}\n",
    "    Instruction : {instruction}\n",
    "    Resonses : {responses}\n",
    "    \"\"\",\n",
    "    input_variables=[\"instruction\", \"responses\"],\n",
    "    partial_variables={\"system_prompt\" : system_prompt},\n",
    ")"
   ]
  },
  {
   "cell_type": "code",
   "execution_count": 20,
   "metadata": {},
   "outputs": [],
   "source": [
    "from langchain_core.runnables import RunnablePassthrough\n",
    "\n",
    "chain_combinded = (\n",
    "    {\"responses\" : chain_llms, \"instruction\" : RunnablePassthrough()}\n",
    "    | eval_prompt\n",
    "    | llm_gpt\n",
    "    | output_parser\n",
    ")"
   ]
  },
  {
   "cell_type": "markdown",
   "metadata": {},
   "source": [
    "- 실행(invoke)"
   ]
  },
  {
   "cell_type": "code",
   "execution_count": 21,
   "metadata": {},
   "outputs": [
    {
     "name": "stdout",
     "output_type": "stream",
     "text": [
      "### 평가 기준\n",
      "\n",
      "1. **정확성(Accuracy)**: 답변이 주어진 정보와 얼마나 일치하는지 평가합니다.\n",
      "2. **관련성(Relevance)**: 답변이 질문에 얼마나 적절하게 대응하는지 평가합니다.\n",
      "3. **유창성(Fluency)**: 답변이 문법적으로 얼마나 자연스럽고 읽기 쉬운지 평가합니다.\n",
      "4. **완전성(Completeness)**: 답변이 질문의 요구를 얼마나 완벽하게 충족하는지 평가합니다.\n",
      "\n",
      "### 평가\n",
      "\n",
      "#### aya:8b-23-q8_0\n",
      "- **정확성**: 5점\n",
      "  - 강수의 하루 일과를 정확하게 요약하고 있습니다.\n",
      "- **관련성**: 5점\n",
      "  - 질문에 대한 답변으로 매우 적절합니다.\n",
      "- **유창성**: 5점\n",
      "  - 문장이 자연스럽고 읽기 쉽습니다.\n",
      "- **완전성**: 5점\n",
      "  - 강수의 하루를 아침부터 밤까지 모두 포함하여 잘 요약했습니다.\n",
      "\n",
      "**총점: 20점**\n",
      "\n",
      "#### llama3:8b-instruct-q8_0\n",
      "- **정확성**: 4점\n",
      "  - 전반적으로 정확하지만, 일부 세부 사항이 생략되었습니다.\n",
      "- **관련성**: 4점\n",
      "  - 질문에 대한 답변으로 적절하지만, 영어로 작성되어 있습니다.\n",
      "- **유창성**: 4점\n",
      "  - 영어로 작성되어 있어 한국어 평가 기준에 맞지 않습니다.\n",
      "- **완전성**: 4점\n",
      "  - 주요 활동을 포함하고 있지만, 일부 세부 사항이 빠져 있습니다.\n",
      "\n",
      "**총점: 16점**\n",
      "\n",
      "#### gemma:7b-instruct-q8_0\n",
      "- **정확성**: 4점\n",
      "  - 전반적으로 정확하지만, 일부 세부 사항이 생략되었습니다.\n",
      "- **관련성**: 4점\n",
      "  - 질문에 대한 답변으로 적절하지만, 일부 내용이 부족합니다.\n",
      "- **유창성**: 4점\n",
      "  - 문장이 자연스럽지만, 일부 오타가 있습니다.\n",
      "- **완전성**: 4점\n",
      "  - 주요 활동을 포함하고 있지만, 일부 세부 사항이 빠져 있습니다.\n",
      "\n",
      "**총점: 16점**\n",
      "\n",
      "#### phi3:14b-medium-4k-instruct-q4_1\n",
      "- **정확성**: 1점\n",
      "  - 답변이 질문과 전혀 관련이 없습니다.\n",
      "- **관련성**: 1점\n",
      "  - 질문에 대한 답변으로 적절하지 않습니다.\n",
      "- **유창성**: 1점\n",
      "  - 문장이 자연스럽지 않고, 한국어와 영어가 혼합되어 있습니다.\n",
      "- **완전성**: 1점\n",
      "  - 질문의 요구를 전혀 충족하지 않습니다.\n",
      "\n",
      "**총점: 4점**\n",
      "\n",
      "#### gpt-4o\n",
      "- **정확성**: 5점\n",
      "  - 강수의 하루 일과를 정확하게 요약하고 있습니다.\n",
      "- **관련성**: 5점\n",
      "  - 질문에 대한 답변으로 매우 적절합니다.\n",
      "- **유창성**: 5점\n",
      "  - 문장이 자연스럽고 읽기 쉽습니다.\n",
      "- **완전성**: 5점\n",
      "  - 강수의 하루를 아침부터 밤까지 모두 포함하여 잘 요약했습니다.\n",
      "\n",
      "**총점: 20점**\n",
      "\n",
      "### 최종 평가\n",
      "- **aya:8b-23-q8_0**와 **gpt-4o**가 각각 20점으로 최고 점수를 받았습니다.\n",
      "- **llama3:8b-instruct-q8_0**와 **gemma:7b-instruct-q8_0**는 각각 16점으로 그 뒤를 이었습니다.\n",
      "- **phi3:14b-medium-4k-instruct-q4_1**는 4점으로 가장 낮은 점수를 받았습니다.\n"
     ]
    }
   ],
   "source": [
    "response = chain_combinded.invoke({\"instruction\":instruction})\n",
    "print(response)"
   ]
  },
  {
   "cell_type": "markdown",
   "metadata": {},
   "source": [
    "#### CASE # 2. PydanticOutputParser"
   ]
  },
  {
   "cell_type": "code",
   "execution_count": 28,
   "metadata": {},
   "outputs": [],
   "source": [
    "from typing import List\n",
    "from langchain_core.pydantic_v1 import BaseModel, Field\n",
    "\n",
    "class EvaluationByModel(BaseModel):\n",
    "    model_id: str = Field(description=\"LLM 모델 이름 또는 LLM 모델 ID\")\n",
    "    accuracy_eval: str = Field(description=\"정확성(Accuracy) 평가\")\n",
    "    accuracy_score: int = Field(description=\"정확성(Accuracy) 평가 점수\")\n",
    "    relevance_eval: str = Field(description=\"관련성(Relevance) 평가\")\n",
    "    relevance_score: int = Field(description=\"관련성(Relevance) 평가 점수\")\n",
    "    fluency_eval: str = Field(description=\"유창성(Fluency) 평가\")\n",
    "    fluency_score: int = Field(description=\"유창성(Fluency) 평가 점수\")\n",
    "    completeness_eval: str = Field(description=\"완전성(Completeness) 평가\")\n",
    "    completeness_score: int = Field(description=\"완전성(Completeness) 평가 점수\")\n",
    "\n",
    "class EvaluationResponse(BaseModel):\n",
    "    instruction: str = Field(description=\"Instruction 내용 전체\")\n",
    "    accuracy: str = Field(description=\"정확성(Accuracy) 평가 기준\")\n",
    "    relevance: str = Field(description=\"관련성(Relevance) 평가 기준\")\n",
    "    fluency: str = Field(description=\"유창성(Fluency) 평가 기준\")\n",
    "    completeness: str = Field(description=\"완전성(Completeness) 평가 기준\")\n",
    "    evaluation_by_model: List[EvaluationByModel] = Field(description=\"LLM 모델별 세부 평가 내용\")\n",
    "    overall: str = Field(description=\"종합평가\")"
   ]
  },
  {
   "cell_type": "code",
   "execution_count": 29,
   "metadata": {},
   "outputs": [
    {
     "name": "stderr",
     "output_type": "stream",
     "text": [
      "c:\\Python310\\lib\\site-packages\\langchain_core\\_api\\deprecation.py:119: LangChainDeprecationWarning: The function `convert_pydantic_to_openai_function` was deprecated in LangChain 0.1.16 and will be removed in 0.3.0. Use langchain_core.utils.function_calling.convert_to_openai_function() instead.\n",
      "  warn_deprecated(\n"
     ]
    },
    {
     "data": {
      "text/plain": [
       "{'name': 'EvaluationResponse',\n",
       " 'description': '',\n",
       " 'parameters': {'type': 'object',\n",
       "  'properties': {'instruction': {'description': 'Instruction 내용 전체',\n",
       "    'type': 'string'},\n",
       "   'accuracy': {'description': '정확성(Accuracy) 평가 기준', 'type': 'string'},\n",
       "   'relevance': {'description': '관련성(Relevance) 평가 기준', 'type': 'string'},\n",
       "   'fluency': {'description': '유창성(Fluency) 평가 기준', 'type': 'string'},\n",
       "   'completeness': {'description': '완전성(Completeness) 평가 기준',\n",
       "    'type': 'string'},\n",
       "   'evaluation_by_model': {'description': 'LLM 모델별 세부 평가 내용',\n",
       "    'type': 'array',\n",
       "    'items': {'type': 'object',\n",
       "     'properties': {'model_id': {'description': 'LLM 모델 이름 또는 LLM 모델 ID',\n",
       "       'type': 'string'},\n",
       "      'accuracy_eval': {'description': '정확성(Accuracy) 평가', 'type': 'string'},\n",
       "      'accuracy_score': {'description': '정확성(Accuracy) 평가 점수',\n",
       "       'type': 'integer'},\n",
       "      'relevance_eval': {'description': '관련성(Relevance) 평가', 'type': 'string'},\n",
       "      'relevance_score': {'description': '관련성(Relevance) 평가 점수',\n",
       "       'type': 'integer'},\n",
       "      'fluency_eval': {'description': '유창성(Fluency) 평가', 'type': 'string'},\n",
       "      'fluency_score': {'description': '유창성(Fluency) 평가 점수',\n",
       "       'type': 'integer'},\n",
       "      'completeness_eval': {'description': '완전성(Completeness) 평가',\n",
       "       'type': 'string'},\n",
       "      'completeness_score': {'description': '완전성(Completeness) 평가 점수',\n",
       "       'type': 'integer'}},\n",
       "     'required': ['model_id',\n",
       "      'accuracy_eval',\n",
       "      'accuracy_score',\n",
       "      'relevance_eval',\n",
       "      'relevance_score',\n",
       "      'fluency_eval',\n",
       "      'fluency_score',\n",
       "      'completeness_eval',\n",
       "      'completeness_score']}},\n",
       "   'overall': {'description': '종합평가', 'type': 'string'}},\n",
       "  'required': ['instruction',\n",
       "   'accuracy',\n",
       "   'relevance',\n",
       "   'fluency',\n",
       "   'completeness',\n",
       "   'evaluation_by_model',\n",
       "   'overall']}}"
      ]
     },
     "execution_count": 29,
     "metadata": {},
     "output_type": "execute_result"
    }
   ],
   "source": [
    "# Schema 확인\n",
    "from langchain.utils.openai_functions import convert_pydantic_to_openai_function\n",
    "f = convert_pydantic_to_openai_function(EvaluationResponse)\n",
    "f"
   ]
  },
  {
   "cell_type": "code",
   "execution_count": 30,
   "metadata": {},
   "outputs": [],
   "source": [
    "from langchain.output_parsers import PydanticOutputParser\n",
    "\n",
    "p_parser = PydanticOutputParser(pydantic_object=EvaluationResponse)"
   ]
  },
  {
   "cell_type": "code",
   "execution_count": 31,
   "metadata": {},
   "outputs": [],
   "source": [
    "eval_prompt = PromptTemplate(\n",
    "    template=\"\"\"\n",
    "\n",
    "    System : {system_prompt}\n",
    "    Instruction : {instruction}\n",
    "    Responses : {responses}\n",
    "\n",
    "    Format : \n",
    "    {format}\n",
    "    \"\"\",\n",
    "    input_variables=[\"instruction\", \"responses\"],\n",
    "    partial_variables={\"system_prompt\": system_prompt, \"format\" : p_parser.get_format_instructions()},\n",
    ")"
   ]
  },
  {
   "cell_type": "code",
   "execution_count": 32,
   "metadata": {},
   "outputs": [],
   "source": [
    "from langchain_core.runnables import RunnablePassthrough\n",
    "\n",
    "chain_combinded = (\n",
    "    {\"responses\" : chain_llms, \"instruction\" : RunnablePassthrough()}\n",
    "    | eval_prompt \n",
    "    | llm_gpt\n",
    "    | p_parser\n",
    ")"
   ]
  },
  {
   "cell_type": "markdown",
   "metadata": {},
   "source": [
    "- 실행(invoke)"
   ]
  },
  {
   "cell_type": "code",
   "execution_count": 33,
   "metadata": {},
   "outputs": [
    {
     "name": "stdout",
     "output_type": "stream",
     "text": [
      "instruction='강수는 초등학교 5학년으로, 그의 하루는 매우 바쁘고 다채롭다. 다음은 강수의 일상을 시간 순서대로 이야기한 것이다.\\n강수의 하루를 100자 내외로 요약하라.' accuracy='정확성(Accuracy) 평가 기준' relevance='관련성(Relevance) 평가 기준' fluency='유창성(Fluency) 평가 기준' completeness='완전성(Completeness) 평가 기준' evaluation_by_model=[EvaluationByModel(model_id='aya:8b-23-q8_0', accuracy_eval='강수의 하루를 잘 요약했으나, 100자 내외의 요구를 초과함.', accuracy_score=4, relevance_eval='질문과 관련된 내용을 잘 다룸.', relevance_score=5, fluency_eval='문장이 자연스럽고 유창함.', fluency_score=5, completeness_eval='강수의 하루를 전반적으로 잘 설명했으나, 요약이 길어짐.', completeness_score=4), EvaluationByModel(model_id='llama3:8b-instruct-q8_0', accuracy_eval='강수의 하루를 잘 요약했으나, 영어로 작성됨.', accuracy_score=2, relevance_eval='질문과 관련된 내용을 다루었으나, 언어가 맞지 않음.', relevance_score=2, fluency_eval='영어로 작성되어 유창성 평가가 어려움.', fluency_score=1, completeness_eval='강수의 하루를 전반적으로 설명했으나, 언어가 맞지 않음.', completeness_score=2), EvaluationByModel(model_id='gemma:7b-instruct-q8_0', accuracy_eval='강수의 하루를 요약했으나, 일부 문장이 부자연스러움.', accuracy_score=3, relevance_eval='질문과 관련된 내용을 다룸.', relevance_score=4, fluency_eval='일부 문장이 부자연스러움.', fluency_score=3, completeness_eval='강수의 하루를 전반적으로 설명했으나, 요약이 길어짐.', completeness_score=3), EvaluationByModel(model_id='phi3:14b-medium-4k-instruct-q4_1', accuracy_eval='강수의 하루를 요약하지 못하고, 다른 대화 내용이 포함됨.', accuracy_score=1, relevance_eval='질문과 관련된 내용을 다루지 않음.', relevance_score=1, fluency_eval='문장이 부자연스럽고, 다른 대화 내용이 포함됨.', fluency_score=1, completeness_eval='강수의 하루를 전혀 설명하지 않음.', completeness_score=1), EvaluationByModel(model_id='gpt-4o', accuracy_eval='강수의 하루를 100자 내외로 잘 요약함.', accuracy_score=5, relevance_eval='질문과 관련된 내용을 잘 다룸.', relevance_score=5, fluency_eval='문장이 자연스럽고 유창함.', fluency_score=5, completeness_eval='강수의 하루를 전반적으로 잘 설명함.', completeness_score=5)] overall='gpt-4o 모델이 가장 정확하고 관련성 있으며 유창하고 완전한 답변을 제공함.'\n"
     ]
    }
   ],
   "source": [
    "response = chain_combinded.invoke({\"instruction\":instruction})\n",
    "response.instruction = instruction # instruction 원문을 편집하는 경우가 있어 원래 instruction 값으로 update\n",
    "print(response)\n"
   ]
  },
  {
   "cell_type": "markdown",
   "metadata": {},
   "source": [
    "#### 질문과 평가결과를 DB에 저장하기"
   ]
  },
  {
   "cell_type": "markdown",
   "metadata": {},
   "source": [
    "- CASE #1. 명시적으로 Table 만들기"
   ]
  },
  {
   "cell_type": "code",
   "execution_count": 1,
   "metadata": {},
   "outputs": [],
   "source": [
    "from sqlalchemy import create_engine\n",
    "from sqlalchemy import Column, Integer, String, Text, ForeignKey\n",
    "from sqlalchemy.orm import declarative_base, relationship, sessionmaker\n",
    "\n",
    "Base = declarative_base()\n",
    "\n",
    "class TEvaluationResponse(Base):\n",
    "    __tablename__ = 'evaluation_responses'\n",
    "    \n",
    "    id = Column(Integer, primary_key=True, autoincrement=True)\n",
    "    instruction = Column(Text, nullable=False)\n",
    "    accuracy = Column(Text, nullable=False)\n",
    "    relevance = Column(Text, nullable=False)\n",
    "    fluency = Column(Text, nullable=False)\n",
    "    completeness = Column(Text, nullable=False)\n",
    "    overall = Column(Text, nullable=False)\n",
    "    \n",
    "    evaluations = relationship(\"TEvaluationByModel\", back_populates=\"response\")\n",
    "\n",
    "class TEvaluationByModel(Base):\n",
    "    __tablename__ = 'evaluation_by_model'\n",
    "    \n",
    "    id = Column(Integer, primary_key=True, autoincrement=True)\n",
    "    model_id = Column(String, nullable=False)\n",
    "    accuracy_eval = Column(Text, nullable=False)\n",
    "    accuracy_score = Column(Integer, nullable=False)\n",
    "    relevance_eval = Column(Text, nullable=False)\n",
    "    relevance_score = Column(Integer, nullable=False)\n",
    "    fluency_eval = Column(Text, nullable=False)\n",
    "    fluency_score = Column(Integer, nullable=False)\n",
    "    completeness_eval = Column(Text, nullable=False)\n",
    "    completeness_score = Column(Integer, nullable=False)\n",
    "    \n",
    "    response_id = Column(Integer, ForeignKey('evaluation_responses.id'))\n",
    "    response = relationship(\"TEvaluationResponse\", back_populates=\"evaluations\")\n",
    "\n",
    "# Create an engine and a session\n",
    "engine = create_engine('sqlite:///evaluations.db')\n",
    "Session = sessionmaker(bind=engine)\n",
    "Base.metadata.create_all(engine)\n"
   ]
  },
  {
   "cell_type": "markdown",
   "metadata": {},
   "source": [
    "- (Error 남)CASE #2. Pydantic Schema를 이용하여 동적으로 Table 만들기 (ChatGPT가 만들어 줌)"
   ]
  },
  {
   "cell_type": "code",
   "execution_count": 15,
   "metadata": {},
   "outputs": [],
   "source": [
    "from sqlalchemy import Column, Integer, String, Text, ForeignKey\n",
    "from sqlalchemy.ext.declarative import declarative_base\n",
    "from sqlalchemy.orm import relationship, sessionmaker\n",
    "from typing import Dict, Type\n",
    "\n",
    "Base = declarative_base()\n",
    "\n",
    "# Mapping Pydantic types to SQLAlchemy types\n",
    "type_mapping = {\n",
    "    str: String,\n",
    "    int: Integer,\n",
    "    float: Text,\n",
    "}\n",
    "\n",
    "def create_sqlalchemy_model(pydantic_model: Type[BaseModel], base: Type[Base], table_name: str, exclude_fields: List[str] = None, additional_columns: Dict[str, Type[Column]] = None):\n",
    "    if exclude_fields is None:\n",
    "        exclude_fields = []\n",
    "    if additional_columns is None:\n",
    "        additional_columns = {}\n",
    "\n",
    "    fields = pydantic_model.__fields__\n",
    "    columns = {\n",
    "        '__tablename__': table_name,\n",
    "        'id': Column(Integer, primary_key=True, autoincrement=True)\n",
    "    }\n",
    "    \n",
    "    for field_name, field in fields.items():\n",
    "        if field_name in exclude_fields:\n",
    "            continue\n",
    "        field_type = field.outer_type_\n",
    "        columns[field_name] = Column(type_mapping[field_type], nullable=False)\n",
    "    \n",
    "    # Add additional columns for relationships or other special cases\n",
    "    columns.update(additional_columns)\n",
    "    \n",
    "    # Create the new model class\n",
    "    model = type(table_name, (base,), columns)\n",
    "    return model\n",
    "\n",
    "# Dynamically create SQLAlchemy models without relationships\n",
    "TEvaluationResponse = create_sqlalchemy_model(\n",
    "    EvaluationResponse, \n",
    "    Base, \n",
    "    'evaluation_responses', \n",
    "    exclude_fields=['evaluation_by_model']\n",
    ")\n",
    "TEvaluationByModel = create_sqlalchemy_model(\n",
    "    EvaluationByModel, \n",
    "    Base, \n",
    "    'evaluation_by_model'\n",
    ")\n",
    "\n",
    "# Define relationships after both classes have been created\n",
    "TEvaluationResponse.evaluations = relationship(\"TEvaluationByModel\", back_populates=\"response\")\n",
    "TEvaluationByModel.response_id = Column(Integer, ForeignKey('evaluation_responses.id'))\n",
    "TEvaluationByModel.response = relationship(\"TEvaluationResponse\", back_populates=\"evaluations\")\n",
    "\n",
    "# Create an engine and a session\n",
    "engine = create_engine('sqlite:///evaluations.db')\n",
    "Session = sessionmaker(bind=engine)\n",
    "Base.metadata.create_all(engine)\n"
   ]
  },
  {
   "cell_type": "code",
   "execution_count": 39,
   "metadata": {},
   "outputs": [],
   "source": [
    "def save_evaluation_response(session, evaluation_response):\n",
    "\n",
    "    response_dict = evaluation_response.dict(exclude={\"evaluation_by_model\"})\n",
    "    print(response_dict)\n",
    "    response = TEvaluationResponse(\n",
    "        **response_dict  # Unpack the dictionary into keyword arguments\n",
    "    )\n",
    "    session.add(response)\n",
    "    session.flush()\n",
    "\n",
    "    for eval_model in evaluation_response.evaluation_by_model:\n",
    "        model_evaluation = TEvaluationByModel(\n",
    "            response_id=response.id,  # Use the generated ID\n",
    "            **eval_model.dict()  # Unpack the dictionary into keyword arguments\n",
    "        )\n",
    "        session.add(model_evaluation)\n",
    "    \n",
    "    session.commit()"
   ]
  },
  {
   "cell_type": "code",
   "execution_count": 40,
   "metadata": {},
   "outputs": [
    {
     "name": "stdout",
     "output_type": "stream",
     "text": [
      "{'instruction': 'ㅁㅁㅁ', 'accuracy': '정확성(Accuracy) 평가 기준', 'relevance': '관련성(Relevance) 평가 기준', 'fluency': '유창성(Fluency) 평가 기준', 'completeness': '완전성(Completeness) 평가 기준', 'overall': 'gpt-4o 모델이 가장 정확하고 관련성 있으며 유창하고 완전한 답변을 제공함.'}\n"
     ]
    }
   ],
   "source": [
    "session = Session()\n",
    "save_evaluation_response(session, response)\n",
    "session.close()"
   ]
  }
 ],
 "metadata": {
  "kernelspec": {
   "display_name": "Python 3",
   "language": "python",
   "name": "python3"
  },
  "language_info": {
   "codemirror_mode": {
    "name": "ipython",
    "version": 3
   },
   "file_extension": ".py",
   "mimetype": "text/x-python",
   "name": "python",
   "nbconvert_exporter": "python",
   "pygments_lexer": "ipython3",
   "version": "3.10.10"
  }
 },
 "nbformat": 4,
 "nbformat_minor": 2
}
