{
 "cells": [
  {
   "cell_type": "code",
   "execution_count": 24,
   "metadata": {},
   "outputs": [],
   "source": [
    "# API Key를 환경변수로 관리하기 위한 설정 파일\n",
    "\n",
    "from dotenv import load_dotenv\n",
    "\n",
    "# API Key 정보로드\n",
    "load_dotenv()\n",
    "\n",
    "import os\n",
    "os.environ[\"LANGCHAIN_PROJECT\"] = \"langchain_study\""
   ]
  },
  {
   "cell_type": "markdown",
   "metadata": {},
   "source": [
    "### ChatOllama\n",
    "- 주로 `llama2:7b-chat`등 chat 모델 사용 시 사용"
   ]
  },
  {
   "cell_type": "code",
   "execution_count": 39,
   "metadata": {},
   "outputs": [],
   "source": [
    "from langchain_community.chat_models import ChatOllama\n",
    "\n",
    "#model_id = \"llama3:instruct\"\n",
    "#model_id = \"aya\"\n",
    "model_id = \"gemma\"\n",
    "\n",
    "llm = ChatOllama(model=model_id)"
   ]
  },
  {
   "cell_type": "code",
   "execution_count": 3,
   "metadata": {},
   "outputs": [],
   "source": [
    "from langchain.prompts import ChatPromptTemplate\n",
    "\n",
    "prompt = ChatPromptTemplate.from_template(\"{topic}에 대해서 간략히 설명해 줘.\")"
   ]
  },
  {
   "cell_type": "code",
   "execution_count": 4,
   "metadata": {},
   "outputs": [],
   "source": [
    "from langchain_core.output_parsers import StrOutputParser\n",
    "output_parser = StrOutputParser()"
   ]
  },
  {
   "cell_type": "code",
   "execution_count": 17,
   "metadata": {},
   "outputs": [],
   "source": [
    "chain = prompt | llm | output_parser"
   ]
  },
  {
   "cell_type": "code",
   "execution_count": 18,
   "metadata": {},
   "outputs": [],
   "source": [
    "response = chain.invoke({\"topic\": \"심장\"})"
   ]
  },
  {
   "cell_type": "code",
   "execution_count": 19,
   "metadata": {},
   "outputs": [
    {
     "name": "stdout",
     "output_type": "stream",
     "text": [
      "심장은 우리 몸의 중심부에 위치한 근육 기관으로, 혈액을 순환시켜 산소와 영양분을 몸 전체로 운반하는 역할을 합니다. 심장은 네 개의 방으로 나뉘어 있으며, 오른쪽 절반은 혈액에서 산소를 제거하고 이산화탄소를 포함하는 혈액을 폐로 보내는 일을 담당하는 폐심방과, 왼쪽 절반은 산소가 풍부한 혈액을 몸의 다른 부분으로 보내는 일을 담당하는 대동맥입니다.\n",
      "\n",
      "심장은 매우 강력한 근육으로, 휴식시 매분 약 70회씩 수축하여 몸 전체에 혈액을 순환시킵니다. 심장의 수축과 이완을 조절하여 혈압을 유지하고 혈액의 흐름을 조절하는 역할을 합니다.\n",
      "\n",
      "심장은 또한 우리 몸의 중요한 감각 기관 중 하나이기도 합니다. 심장 박동수를 모니터링하여 우리 몸의 전반적인 건강 상태를 알려주고, 호흡과 함께 심장의 박동에도 주기적으로 집중하는 법을 배우는 것이 중요합니다.\n"
     ]
    }
   ],
   "source": [
    "print(response)"
   ]
  },
  {
   "cell_type": "code",
   "execution_count": 20,
   "metadata": {},
   "outputs": [
    {
     "name": "stdout",
     "output_type": "stream",
     "text": [
      "쌀국수(베트남어: Phở)는 베트남의 대표적인 음식 중 하나로, 국수 풀에 국물을 얹은 음식이다. 일반적으로 쇠고기로 만든 국물과 고기, 허브, 국수를 함께 담아 내며, 이 외에도 채소나 해산물 등을 추가하여 다양한 변형을 있을 수 있다."
     ]
    }
   ],
   "source": [
    "# Streaming\n",
    "\n",
    "topic = \"쌀국수\"\n",
    "\n",
    "for ch in chain.stream({\"topic\":topic}):\n",
    "    print(ch, end=\"\", flush=True)"
   ]
  },
  {
   "cell_type": "code",
   "execution_count": 21,
   "metadata": {},
   "outputs": [
    {
     "name": "stdout",
     "output_type": "stream",
     "text": [
      "엉덩이는 골반 부위에서 가장 넓은 부분으로, 엉덩이 뼈라고 불리는 큰 관절을 포함합니다. 이 관절은 몸의 무게를 지탱하고 다리를 움직이는 데 중요한 역할을 합니다. 엉덩이는 또한 근육과 힘줄에 의해 안정적으로 유지되며, 이들이 함께 작용하여 걷고 달리며 앉는 등 다양한 신체 활동을 가능하게 합니다. 엉덩이에는 많은 혈관과 신경이 지나기 때문에 감각이 예민한 부위이기도 합니다. 전반적으로 엉덩이는 몸의 균형을 잡고 움직임을 조절하는 데 중요한 역할을 하는 복잡하고 중요한 신체 부위입니다."
     ]
    }
   ],
   "source": [
    "# async Streaming\n",
    "\n",
    "topic = \"엉덩이\"\n",
    "\n",
    "async for ch in chain.astream({\"topic\":topic}):\n",
    "    print(ch, end=\"\", flush=True)"
   ]
  },
  {
   "cell_type": "markdown",
   "metadata": {},
   "source": [
    "##### HumanMessage"
   ]
  },
  {
   "cell_type": "code",
   "execution_count": 25,
   "metadata": {},
   "outputs": [
    {
     "name": "stderr",
     "output_type": "stream",
     "text": [
      "c:\\Users\\prof\\AppData\\Local\\Programs\\Python\\Python312\\Lib\\site-packages\\urllib3\\connectionpool.py:1103: InsecureRequestWarning: Unverified HTTPS request is being made to host '70.10.15.10'. Adding certificate verification is strongly advised. See: https://urllib3.readthedocs.io/en/latest/advanced-usage.html#tls-warnings\n",
      "  warnings.warn(\n",
      "c:\\Users\\prof\\AppData\\Local\\Programs\\Python\\Python312\\Lib\\site-packages\\urllib3\\connectionpool.py:1103: InsecureRequestWarning: Unverified HTTPS request is being made to host '70.10.15.10'. Adding certificate verification is strongly advised. See: https://urllib3.readthedocs.io/en/latest/advanced-usage.html#tls-warnings\n",
      "  warnings.warn(\n"
     ]
    },
    {
     "name": "stdout",
     "output_type": "stream",
     "text": [
      "Sure! Here is a list of 10 popular European destinations that are known for their cultural significance, historical landmarks, and/or natural beauty:\n",
      "\n",
      "```json\n",
      "[\n",
      "    {\n",
      "        \"location\": \"Paris, France\",\n",
      "        \"description\": \"The City of Light is renowned for its iconic landmarks, fine art and cuisine, offering a romantic and culturally rich experience.\"\n",
      "    },\n",
      "    {\n",
      "        \"location\": \"Rome, Italy\",\n",
      "        \"description\": \"With a vast array of historical sites, including the Colosseum and Vatican City, Rome offers a unique blend of ancient and modern culture.\"\n",
      "    },\n",
      "    {\n",
      "        \"location\": \"London, England\",\n",
      "        \"description\": \"A vibrant city with iconic landmarks like Big Ben and Buckingham Palace, London is known for its rich history, diverse cultural offerings, and world-class museums.\"\n",
      "    },\n",
      "    {\n",
      "        \"location\": \"Barcelona, Spain\",\n",
      "        \"description\": \"This Mediterranean city boasts beautiful architecture, including works by Antoni Gaudí, as well as a lively atmosphere and stunning beaches.\"\n",
      "    },\n",
      "    {\n",
      "        \"location\": \"Amsterdam, Netherlands\",\n",
      "        \"description\": \"Famous for its canals, Amsterdam offers a unique urban experience with its museums, art galleries, and laid-back coffee shop culture.\"\n",
      "    },\n",
      "    {\n",
      "        \"location\": \" Prague, Czech Republic\",\n",
      "        \"description\": \"Often referred to as the 'Goldene City', Prague boasts stunning medieval architecture and a rich cultural heritage, making it a popular destination for history buffs.\"\n",
      "    },\n",
      "    {\n",
      "        \"location\": \"Venice, Italy\",\n",
      "        \"description\": \"This unique city, built on water, offers a romantic and one-of-a-kind experience with its canals, gondolas, and world-famous sites like the Rialto Bridge.\"\n",
      "    },\n",
      "    {\n",
      "        \"location\": \"Santorini, Greece\",\n",
      "        \"description\": \"With its whitewashed buildings, blue-domed churches, and stunning sunsets over the Aegean Sea, Santorini offers a visually breathtaking and romantic escape.\"\n",
      "    },\n",
      "    {\n",
      "        \"location\": \"Dublin, Ireland\",\n",
      "        \"description\": \"Dublin is known for its lively pubs, rich literary history, and beautiful countryside, making it a great destination for those who enjoy both city life and nature.\"\n",
      "    },\n",
      "    {\n",
      "        \"location\": \"Istanbul, Turkey\",\n",
      "        \"description\": \"A city that straddles Europe and Asia, Istanbul offers a unique blend of cultures with its historic sites, stunning architecture, and vibrant markets.\"\n",
      "    }\n",
      "]\n",
      "```\n"
     ]
    },
    {
     "name": "stderr",
     "output_type": "stream",
     "text": [
      "c:\\Users\\prof\\AppData\\Local\\Programs\\Python\\Python312\\Lib\\site-packages\\urllib3\\connectionpool.py:1103: InsecureRequestWarning: Unverified HTTPS request is being made to host '70.10.15.10'. Adding certificate verification is strongly advised. See: https://urllib3.readthedocs.io/en/latest/advanced-usage.html#tls-warnings\n",
      "  warnings.warn(\n",
      "c:\\Users\\prof\\AppData\\Local\\Programs\\Python\\Python312\\Lib\\site-packages\\urllib3\\connectionpool.py:1103: InsecureRequestWarning: Unverified HTTPS request is being made to host '70.10.15.10'. Adding certificate verification is strongly advised. See: https://urllib3.readthedocs.io/en/latest/advanced-usage.html#tls-warnings\n",
      "  warnings.warn(\n",
      "c:\\Users\\prof\\AppData\\Local\\Programs\\Python\\Python312\\Lib\\site-packages\\urllib3\\connectionpool.py:1103: InsecureRequestWarning: Unverified HTTPS request is being made to host '70.10.15.10'. Adding certificate verification is strongly advised. See: https://urllib3.readthedocs.io/en/latest/advanced-usage.html#tls-warnings\n",
      "  warnings.warn(\n",
      "c:\\Users\\prof\\AppData\\Local\\Programs\\Python\\Python312\\Lib\\site-packages\\urllib3\\connectionpool.py:1103: InsecureRequestWarning: Unverified HTTPS request is being made to host '70.10.15.10'. Adding certificate verification is strongly advised. See: https://urllib3.readthedocs.io/en/latest/advanced-usage.html#tls-warnings\n",
      "  warnings.warn(\n",
      "c:\\Users\\prof\\AppData\\Local\\Programs\\Python\\Python312\\Lib\\site-packages\\urllib3\\connectionpool.py:1103: InsecureRequestWarning: Unverified HTTPS request is being made to host '70.10.15.10'. Adding certificate verification is strongly advised. See: https://urllib3.readthedocs.io/en/latest/advanced-usage.html#tls-warnings\n",
      "  warnings.warn(\n",
      "c:\\Users\\prof\\AppData\\Local\\Programs\\Python\\Python312\\Lib\\site-packages\\urllib3\\connectionpool.py:1103: InsecureRequestWarning: Unverified HTTPS request is being made to host '70.10.15.10'. Adding certificate verification is strongly advised. See: https://urllib3.readthedocs.io/en/latest/advanced-usage.html#tls-warnings\n",
      "  warnings.warn(\n",
      "c:\\Users\\prof\\AppData\\Local\\Programs\\Python\\Python312\\Lib\\site-packages\\urllib3\\connectionpool.py:1103: InsecureRequestWarning: Unverified HTTPS request is being made to host '70.10.15.10'. Adding certificate verification is strongly advised. See: https://urllib3.readthedocs.io/en/latest/advanced-usage.html#tls-warnings\n",
      "  warnings.warn(\n",
      "c:\\Users\\prof\\AppData\\Local\\Programs\\Python\\Python312\\Lib\\site-packages\\urllib3\\connectionpool.py:1103: InsecureRequestWarning: Unverified HTTPS request is being made to host '70.10.15.10'. Adding certificate verification is strongly advised. See: https://urllib3.readthedocs.io/en/latest/advanced-usage.html#tls-warnings\n",
      "  warnings.warn(\n",
      "c:\\Users\\prof\\AppData\\Local\\Programs\\Python\\Python312\\Lib\\site-packages\\urllib3\\connectionpool.py:1103: InsecureRequestWarning: Unverified HTTPS request is being made to host '70.10.15.10'. Adding certificate verification is strongly advised. See: https://urllib3.readthedocs.io/en/latest/advanced-usage.html#tls-warnings\n",
      "  warnings.warn(\n",
      "c:\\Users\\prof\\AppData\\Local\\Programs\\Python\\Python312\\Lib\\site-packages\\urllib3\\connectionpool.py:1103: InsecureRequestWarning: Unverified HTTPS request is being made to host '70.10.15.10'. Adding certificate verification is strongly advised. See: https://urllib3.readthedocs.io/en/latest/advanced-usage.html#tls-warnings\n",
      "  warnings.warn(\n",
      "c:\\Users\\prof\\AppData\\Local\\Programs\\Python\\Python312\\Lib\\site-packages\\urllib3\\connectionpool.py:1103: InsecureRequestWarning: Unverified HTTPS request is being made to host '70.10.15.10'. Adding certificate verification is strongly advised. See: https://urllib3.readthedocs.io/en/latest/advanced-usage.html#tls-warnings\n",
      "  warnings.warn(\n"
     ]
    }
   ],
   "source": [
    "from langchain_core.messages import HumanMessage\n",
    "\n",
    "message = [\n",
    "    HumanMessage(\n",
    "        content=\"Tell me 10 hot places to travel in Europe. response in JSON format\"\n",
    "    )\n",
    "]\n",
    "\n",
    "chat_response = llm.invoke(message)\n",
    "print(chat_response.content)"
   ]
  },
  {
   "cell_type": "code",
   "execution_count": 40,
   "metadata": {},
   "outputs": [],
   "source": [
    "import json\n",
    "\n",
    "dict_schema = {\n",
    "    \"title\": \"Person\",\n",
    "    \"description\": \"Identifying information about a person\",\n",
    "    \"type\": \"object\",\n",
    "    \"properties\": {\n",
    "        \"name\": {\n",
    "            \"title\": \"Name\",\n",
    "            \"description\": \"The person's name\",\n",
    "            \"type\": \"string\",\n",
    "        },\n",
    "        \"age\": {\n",
    "            \"title\": \"Age\",\n",
    "            \"description\": \"The person's age\",\n",
    "            \"type\": \"integer\",\n",
    "        },\n",
    "        \"occupation\": {\n",
    "            \"title\": \"Occupation\",\n",
    "            \"description\": \"The person's occupation\",\n",
    "            \"type\": \"string\",\n",
    "        },\n",
    "    },\n",
    "    \"required\" : [\"name\", \"age\"]\n",
    "}\n",
    "\n",
    "json_schema = json.dumps(dict_schema, indent=2)"
   ]
  },
  {
   "cell_type": "code",
   "execution_count": 41,
   "metadata": {},
   "outputs": [
    {
     "name": "stdout",
     "output_type": "stream",
     "text": [
      "{\n",
      "  \"title\": \"Person\",\n",
      "  \"description\": \"Identifying information about a person\",\n",
      "  \"type\": \"object\",\n",
      "  \"properties\": {\n",
      "    \"name\": {\n",
      "      \"title\": \"Name\",\n",
      "      \"description\": \"The person's name\",\n",
      "      \"type\": \"string\"\n",
      "    },\n",
      "    \"age\": {\n",
      "      \"title\": \"Age\",\n",
      "      \"description\": \"The person's age\",\n",
      "      \"type\": \"integer\"\n",
      "    },\n",
      "    \"occupation\": {\n",
      "      \"title\": \"Occupation\",\n",
      "      \"description\": \"The person's occupation\",\n",
      "      \"type\": \"string\"\n",
      "    }\n",
      "  },\n",
      "  \"required\": [\n",
      "    \"name\",\n",
      "    \"age\"\n",
      "  ]\n",
      "}\n"
     ]
    }
   ],
   "source": [
    "print(json_schema)"
   ]
  },
  {
   "cell_type": "code",
   "execution_count": 52,
   "metadata": {},
   "outputs": [],
   "source": [
    "messages = [\n",
    "    HumanMessage(\n",
    "        content=\"print only JSON data about a person using the following JSON schema\"\n",
    "    ),\n",
    "    HumanMessage(\n",
    "        content=\"{dumps}\"\n",
    "    ),\n",
    "    HumanMessage(\n",
    "        content=\"\"\"\n",
    "            Her name is Rose, she is 25 yesrs old, and she is a software engineer.\n",
    "        \"\"\"\n",
    "    )\n",
    "]\n",
    "\n",
    "prompt = ChatPromptTemplate.from_messages(messages)"
   ]
  },
  {
   "cell_type": "code",
   "execution_count": 53,
   "metadata": {},
   "outputs": [],
   "source": [
    "chain_4_json = prompt | llm | output_parser"
   ]
  },
  {
   "cell_type": "code",
   "execution_count": 54,
   "metadata": {},
   "outputs": [],
   "source": [
    "response = chain_4_json.invoke({\"dumps\":json_schema})"
   ]
  },
  {
   "cell_type": "code",
   "execution_count": 55,
   "metadata": {},
   "outputs": [
    {
     "name": "stdout",
     "output_type": "stream",
     "text": [
      "```json\n",
      "{\n",
      "  \"name\": \"Rose\",\n",
      "  \"age\": 25,\n",
      "  \"occupation\": \"Software Engineer\"\n",
      "}\n",
      "```\n",
      "\n",
      "\n"
     ]
    }
   ],
   "source": [
    "print(response)"
   ]
  }
 ],
 "metadata": {
  "kernelspec": {
   "display_name": "Python 3",
   "language": "python",
   "name": "python3"
  },
  "language_info": {
   "codemirror_mode": {
    "name": "ipython",
    "version": 3
   },
   "file_extension": ".py",
   "mimetype": "text/x-python",
   "name": "python",
   "nbconvert_exporter": "python",
   "pygments_lexer": "ipython3",
   "version": "3.12.1"
  }
 },
 "nbformat": 4,
 "nbformat_minor": 2
}
