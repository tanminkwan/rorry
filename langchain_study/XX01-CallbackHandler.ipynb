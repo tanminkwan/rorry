{
 "cells": [
  {
   "cell_type": "code",
   "execution_count": 1,
   "metadata": {},
   "outputs": [],
   "source": [
    "# API Key를 환경변수로 관리하기 위한 설정 파일\n",
    "\n",
    "from dotenv import load_dotenv\n",
    "\n",
    "# API Key 정보로드\n",
    "load_dotenv()\n",
    "\n",
    "import os\n",
    "os.environ[\"LANGCHAIN_PROJECT\"] = \"langchain_study\""
   ]
  },
  {
   "cell_type": "code",
   "execution_count": 18,
   "metadata": {},
   "outputs": [],
   "source": [
    "from langchain.callbacks.base import BaseCallbackHandler\n",
    "\n",
    "class TestCallbackHandler(BaseCallbackHandler):\n",
    "    def on_chat_model_start(self, serialized, messages, **kwargs):\n",
    "        print(f\" serialized : {serialized}\", flush=True)\n",
    "        print(f\" messages : {messages}\", flush=True)\n",
    "\n",
    "    def on_llm_end(self, response, **kwargs):\n",
    "        print(f\" response : {response}\", flush=True)\n",
    "\n",
    "    def on_llm_new_token(self, token, **kwargs):\n",
    "        print(f\"[{token}]\", end=\"\", flush=True)\n",
    "    \n"
   ]
  },
  {
   "cell_type": "code",
   "execution_count": 19,
   "metadata": {},
   "outputs": [],
   "source": [
    "from langchain_community.chat_models import ChatOllama\n",
    "\n",
    "llm = ChatOllama(\n",
    "    model =\"aya\",\n",
    "    top_p = 0.5,\n",
    "    top_k = 6,\n",
    "    temperature = 0.0,\n",
    "    callbacks = [TestCallbackHandler()]\n",
    ")"
   ]
  },
  {
   "cell_type": "code",
   "execution_count": 20,
   "metadata": {},
   "outputs": [
    {
     "name": "stdout",
     "output_type": "stream",
     "text": [
      " serialized : {'lc': 1, 'type': 'not_implemented', 'id': ['langchain_community', 'chat_models', 'ollama', 'ChatOllama'], 'repr': \"ChatOllama(callbacks=[<__main__.TestCallbackHandler object at 0x000002D174E212E0>], model='aya', temperature=0.0, top_k=6, top_p=0.5)\", 'name': 'ChatOllama', 'graph': {'nodes': [{'id': 0, 'type': 'schema', 'data': 'ChatOllamaInput'}, {'id': 1, 'type': 'runnable', 'data': {'id': ['langchain_community', 'chat_models', 'ollama', 'ChatOllama'], 'name': 'ChatOllama'}}, {'id': 2, 'type': 'schema', 'data': 'ChatOllamaOutput'}], 'edges': [{'source': 0, 'target': 1}, {'source': 1, 'target': 2}]}}\n",
      " messages : [[HumanMessage(content='한국에 대해 알려줘')]]\n",
      "[한국][은][ 동][아시아][에][ 위치한][ 국가][로][,][ 아름다운][ 자연][과][ 풍부][한][ 역사][ 및][ 문화][를][ 자][랑][합][니다][.][ 한국][은][ 약][ ][7][,][0][0][0][여][ 개의][ 섬][으로][ 구성되어][ 있으며][,][ 그][ 중][ 가장][ 큰][ 섬][인][ 한국][은][ 한][반도][라고][ 불리][며][ 한국의][ 중심][이][ 되는][ 지역][입니다][.][\n",
      "][\n",
      "][한국의][ 역사][는][ 고대][부터][ 시작][되며][,][ 다양한][ 왕조][와][ 제국][이][ 흥][망][성][쇠][를][ 겪][어][왔][습니다][.][ 삼][국][ 시대][에는][ 고구려][,][ 백][제][,][ 신라][라는][ 세][ 가지][ 주요][ 국가][가][ 경쟁][하며][ 번][영][했][습니다][.][ 이후][ 고려][ 시대][에는][ 유][교][ 문화][가][ 발전][하고][ 왕][권이][ 강화][되었][습니다][.][ 조선][ 시대][에는][ 태][조][ 이][태][조가][ 건국][한][ 조선][이][ 약][ ][5][0][0][년][ 동안][ 지속][되었으며][,][ 이][ 기간][ 동안][ 유][교][적][ 가치][관이][ 뿌][리][내][리고][ 예술][과][ 과학][이][ 번][성][했][습니다][.][\n",
      "][\n",
      "][한국][은][ 풍부][한][ 문화][ 유][산을][ 보유하고][ 있][습니다][.][ 한국][ 전쟁][으로][ 인해][ 큰][ 피해를][ 입][었지만][,][ 이후][ 빠르게][ 경제][ 성][장을][ 이루어][ \"][한][강의][ 기][적][\"][이라][ 불리는][ 놀][라][운][ 발][전을][ 이루][었][습니다][.][ 한국][은][ 기술][적으로][ 진보][된][ 국가][로][,][ 자동차][,][ 전자][ 제품][,][ 반도][체][ 등][ 다양한][ 산업][ 분야][에서][ 세계][를][ 선][도][하고][ 있][습니다][.][\n",
      "][\n",
      "][한국][ 문화][는][ 독특][하고][ 매][력][적][입니다][.][ 전통][ 음악][과][ 무][용][,][ 공][예][품][,][ 그리고][ 유명한][ 한국][ 음식][인][ 김][치][와][ 비][빔][밥][을][ 포함한][ 다양한][ 요][리가][ 있][습니다][.][ 한국][은][ 또한][ K][-][팝][과][ 한국][ 영화][의][ 인][기로][ 인해][ 전][ 세계][적으로][ 문화][적][ 영향을][ 미][치고][ 있][습니다][.][\n",
      "][\n",
      "][한국][은][ 아름다운][ 자연][ 환경][으로도][ 유명][합][니다][.][ 높은][ 산][과][ 아름다운][ 해][변][,][ 그리고][ 온][천][과][ 스키][ 리][조][트][ 등][ 다양한][ 관광][ 명][소가][ 있][습니다][.][ 한국][은][ 또한][ 깨][끗][하고][ 효율][적인][ 교통][ 시스템][으로][ 알려져][ 있으며][,][ 서울][과][ 다른][ 주요][ 도시][들은][ 현대][적이고][ 편][리][한][ 생활][로][ 잘][ 알려져][ 있][습니다][.][\n",
      "][\n",
      "][한국][은][ 민주][주의][ 국가][로][,][ 대통령][을][ 포함한][ 선거][를][ 통해][ 지도][자를][ 선출][합][니다][.][ 한국][은][ 또한][ 국제][ 사회][에서][ 중요한][ 역할을][ 수행][하며][,][ 유엔][ 안전][ 보장][ 이사][회의][ 비상][임][이사][국][으로서][ 세계][ 평화][와][ 안][정에][ 기여][하고][ 있][습니다][.][] response : generations=[[ChatGeneration(text='한국은 동아시아에 위치한 국가로, 아름다운 자연과 풍부한 역사 및 문화를 자랑합니다. 한국은 약 7,000여 개의 섬으로 구성되어 있으며, 그 중 가장 큰 섬인 한국은 한반도라고 불리며 한국의 중심이 되는 지역입니다.\\n\\n한국의 역사는 고대부터 시작되며, 다양한 왕조와 제국이 흥망성쇠를 겪어왔습니다. 삼국 시대에는 고구려, 백제, 신라라는 세 가지 주요 국가가 경쟁하며 번영했습니다. 이후 고려 시대에는 유교 문화가 발전하고 왕권이 강화되었습니다. 조선 시대에는 태조 이태조가 건국한 조선이 약 500년 동안 지속되었으며, 이 기간 동안 유교적 가치관이 뿌리내리고 예술과 과학이 번성했습니다.\\n\\n한국은 풍부한 문화 유산을 보유하고 있습니다. 한국 전쟁으로 인해 큰 피해를 입었지만, 이후 빠르게 경제 성장을 이루어 \"한강의 기적\"이라 불리는 놀라운 발전을 이루었습니다. 한국은 기술적으로 진보된 국가로, 자동차, 전자 제품, 반도체 등 다양한 산업 분야에서 세계를 선도하고 있습니다.\\n\\n한국 문화는 독특하고 매력적입니다. 전통 음악과 무용, 공예품, 그리고 유명한 한국 음식인 김치와 비빔밥을 포함한 다양한 요리가 있습니다. 한국은 또한 K-팝과 한국 영화의 인기로 인해 전 세계적으로 문화적 영향을 미치고 있습니다.\\n\\n한국은 아름다운 자연 환경으로도 유명합니다. 높은 산과 아름다운 해변, 그리고 온천과 스키 리조트 등 다양한 관광 명소가 있습니다. 한국은 또한 깨끗하고 효율적인 교통 시스템으로 알려져 있으며, 서울과 다른 주요 도시들은 현대적이고 편리한 생활로 잘 알려져 있습니다.\\n\\n한국은 민주주의 국가로, 대통령을 포함한 선거를 통해 지도자를 선출합니다. 한국은 또한 국제 사회에서 중요한 역할을 수행하며, 유엔 안전 보장 이사회의 비상임이사국으로서 세계 평화와 안정에 기여하고 있습니다.', generation_info={'model': 'aya', 'created_at': '2024-06-28T01:57:47.4930076Z', 'message': {'role': 'assistant', 'content': ''}, 'done_reason': 'stop', 'done': True, 'total_duration': 85631737100, 'load_duration': 3379900, 'prompt_eval_duration': 323712000, 'eval_count': 428, 'eval_duration': 85301390000}, message=AIMessage(content='한국은 동아시아에 위치한 국가로, 아름다운 자연과 풍부한 역사 및 문화를 자랑합니다. 한국은 약 7,000여 개의 섬으로 구성되어 있으며, 그 중 가장 큰 섬인 한국은 한반도라고 불리며 한국의 중심이 되는 지역입니다.\\n\\n한국의 역사는 고대부터 시작되며, 다양한 왕조와 제국이 흥망성쇠를 겪어왔습니다. 삼국 시대에는 고구려, 백제, 신라라는 세 가지 주요 국가가 경쟁하며 번영했습니다. 이후 고려 시대에는 유교 문화가 발전하고 왕권이 강화되었습니다. 조선 시대에는 태조 이태조가 건국한 조선이 약 500년 동안 지속되었으며, 이 기간 동안 유교적 가치관이 뿌리내리고 예술과 과학이 번성했습니다.\\n\\n한국은 풍부한 문화 유산을 보유하고 있습니다. 한국 전쟁으로 인해 큰 피해를 입었지만, 이후 빠르게 경제 성장을 이루어 \"한강의 기적\"이라 불리는 놀라운 발전을 이루었습니다. 한국은 기술적으로 진보된 국가로, 자동차, 전자 제품, 반도체 등 다양한 산업 분야에서 세계를 선도하고 있습니다.\\n\\n한국 문화는 독특하고 매력적입니다. 전통 음악과 무용, 공예품, 그리고 유명한 한국 음식인 김치와 비빔밥을 포함한 다양한 요리가 있습니다. 한국은 또한 K-팝과 한국 영화의 인기로 인해 전 세계적으로 문화적 영향을 미치고 있습니다.\\n\\n한국은 아름다운 자연 환경으로도 유명합니다. 높은 산과 아름다운 해변, 그리고 온천과 스키 리조트 등 다양한 관광 명소가 있습니다. 한국은 또한 깨끗하고 효율적인 교통 시스템으로 알려져 있으며, 서울과 다른 주요 도시들은 현대적이고 편리한 생활로 잘 알려져 있습니다.\\n\\n한국은 민주주의 국가로, 대통령을 포함한 선거를 통해 지도자를 선출합니다. 한국은 또한 국제 사회에서 중요한 역할을 수행하며, 유엔 안전 보장 이사회의 비상임이사국으로서 세계 평화와 안정에 기여하고 있습니다.', response_metadata={'model': 'aya', 'created_at': '2024-06-28T01:57:47.4930076Z', 'message': {'role': 'assistant', 'content': ''}, 'done_reason': 'stop', 'done': True, 'total_duration': 85631737100, 'load_duration': 3379900, 'prompt_eval_duration': 323712000, 'eval_count': 428, 'eval_duration': 85301390000}, id='run-512b1a4f-054a-4f33-ac56-ece41d44690f-0'))]] llm_output=None run=None\n"
     ]
    }
   ],
   "source": [
    "response = llm.invoke(\"한국에 대해 알려줘\")"
   ]
  },
  {
   "cell_type": "code",
   "execution_count": null,
   "metadata": {},
   "outputs": [],
   "source": [
    "class Test:\n",
    "    def __bool__(self):\n",
    "        return False\n",
    "bool(Test())"
   ]
  }
 ],
 "metadata": {
  "kernelspec": {
   "display_name": "Python 3",
   "language": "python",
   "name": "python3"
  },
  "language_info": {
   "codemirror_mode": {
    "name": "ipython",
    "version": 3
   },
   "file_extension": ".py",
   "mimetype": "text/x-python",
   "name": "python",
   "nbconvert_exporter": "python",
   "pygments_lexer": "ipython3",
   "version": "3.12.1"
  }
 },
 "nbformat": 4,
 "nbformat_minor": 2
}
