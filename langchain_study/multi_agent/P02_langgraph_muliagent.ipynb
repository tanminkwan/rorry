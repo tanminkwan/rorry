{
 "cells": [
  {
   "cell_type": "markdown",
   "metadata": {},
   "source": [
    "## Langgraph를 활용한 Multi Agent 만들기 실습\n",
    "#### 0. 사전 작업\n",
    "- python 외부 library 설치 :"
   ]
  },
  {
   "cell_type": "code",
   "execution_count": null,
   "metadata": {},
   "outputs": [],
   "source": [
    "!pip install -q python-dotenv langchain langsmith langgraph langchain-community langchain-core langchain-openai"
   ]
  },
  {
   "cell_type": "markdown",
   "metadata": {},
   "source": [
    "- OpenAI Api Key 획득\n",
    "- LangSmith 가입 (https://www.langchain.com/langsmith) 및 LANGCHAIN_API_KEY 생성"
   ]
  },
  {
   "cell_type": "markdown",
   "metadata": {},
   "source": [
    "#### 1. 환경 변수 Load"
   ]
  },
  {
   "cell_type": "code",
   "execution_count": 2,
   "metadata": {},
   "outputs": [],
   "source": [
    "# API Key를 환경변수로 관리하기 위한 설정 파일\n",
    "\n",
    "from dotenv import load_dotenv\n",
    "\n",
    "# API Key 정보로드\n",
    "#   OPENAI_API_KEY = \"\" # OpenAI 구독 후 획득\n",
    "#   LANGCHAIN_TRACING_V2 = \"false\"\n",
    "#   LANGCHAIN_ENDPOINT = \"https://api.smith.langchain.com\"\n",
    "#   LANGCHAIN_API_KEY = \"\" # LangSmith 가입 후 획득\n",
    "load_dotenv(dotenv_path='./../.env')\n",
    "\n",
    "# LangSmith에서 project 생성 후 사용.\n",
    "import os\n",
    "os.environ[\"LANGCHAIN_PROJECT\"] = \"langchain_study\" "
   ]
  },
  {
   "cell_type": "markdown",
   "metadata": {},
   "source": [
    "#### 2. State class 정의"
   ]
  },
  {
   "cell_type": "code",
   "execution_count": 3,
   "metadata": {},
   "outputs": [],
   "source": [
    "from typing import Annotated, Sequence, TypedDict\n",
    "from langchain_core.messages import BaseMessage\n",
    "\n",
    "class AgentState(TypedDict):\n",
    "    messages: Annotated[Sequence[BaseMessage], \"The messages in the conversation\"]\n",
    "    next: Annotated[str, \"The next agent to run\"]\n",
    "    topic: Annotated[str, \"The topic of discussion\"]"
   ]
  },
  {
   "cell_type": "markdown",
   "metadata": {},
   "source": [
    "#### 3. llm 객체(ChatGPT) 생성"
   ]
  },
  {
   "cell_type": "code",
   "execution_count": 4,
   "metadata": {},
   "outputs": [],
   "source": [
    "from langchain_openai import ChatOpenAI\n",
    "\n",
    "llm = ChatOpenAI(\n",
    "    temperature=0.3,\n",
    "    model=\"gpt-4o\",\n",
    ")"
   ]
  },
  {
   "cell_type": "markdown",
   "metadata": {},
   "source": [
    "#### 4. Agent 들 정의\n",
    "- 질문자, 답변자, 요약자 3개 Agent를 만든다.\n",
    "- 질문자는 주어진 주제에 대한 질의를 한다.\n",
    "- 답변자는 질문자의 질의에 대한 답변을 한다.\n",
    "- 요약자는 질문자와 답변자간 대화량이 충분한지를 판단하고 충분하면 대화를 종료하고 대화 내용을 요약한다.(Supervisor)"
   ]
  },
  {
   "cell_type": "code",
   "execution_count": 5,
   "metadata": {},
   "outputs": [],
   "source": [
    "from langchain_core.prompts import ChatPromptTemplate\n",
    "from langchain_core.messages import AIMessage\n",
    "from langgraph.graph import END"
   ]
  },
  {
   "cell_type": "markdown",
   "metadata": {},
   "source": [
    "##### 4-1. 질문자 Agent\n",
    "- Prompt 정의"
   ]
  },
  {
   "cell_type": "code",
   "execution_count": 6,
   "metadata": {},
   "outputs": [],
   "source": [
    "# 질문자 Agent\n",
    "questioner_system_text = \"\"\"\n",
    "당신은 호기심 많은 질문자입니다.\n",
    "주어진 주제에 대해 이미 한 질문을 제외하고 한가지 질문을 해주세요.\n",
    "\"\"\"\n",
    "questioner_prompt = ChatPromptTemplate.from_messages([\n",
    "    (\"system\", questioner_system_text),\n",
    "    (\"human\", \"주제: {topic}\\n\\n이전 대화:\\n{chat_history}\\n\\n다음 질문:\"),\n",
    "])"
   ]
  },
  {
   "cell_type": "markdown",
   "metadata": {},
   "source": [
    "- Agent 함수 정의"
   ]
  },
  {
   "cell_type": "code",
   "execution_count": 7,
   "metadata": {},
   "outputs": [],
   "source": [
    "def questioner(state: AgentState):\n",
    "    messages = state['messages']\n",
    "    topic = state['topic']\n",
    "    chat_history = \"\\n\".join([f\"{m.name}: {m.content}\" for m in messages])\n",
    "    response = llm.invoke(questioner_prompt.format_messages(topic=topic, chat_history=chat_history))\n",
    "    return {\n",
    "        \"messages\": messages + [AIMessage(content=response.content, name=\"questioner\")],\n",
    "        \"next\": \"answerer\"\n",
    "    }"
   ]
  },
  {
   "cell_type": "markdown",
   "metadata": {},
   "source": [
    "##### 4-2. 답변자 Agent\n",
    "- Prompt 정의"
   ]
  },
  {
   "cell_type": "code",
   "execution_count": 8,
   "metadata": {},
   "outputs": [],
   "source": [
    "# 답변자 Agent\n",
    "answerer_system_text = \"\"\"\n",
    "당신은 지식이 풍부한 답변자입니다. \n",
    "질문자의 질문에 대해 정보를 제공하고 대화를 이어나가는 답변을 해주세요. \\\n",
    "단, 답변은 100자 이내로 짧게 이전에 답하지 않은 한가지 내용만 답합니다.\n",
    "\"\"\"\n",
    "answerer_prompt = ChatPromptTemplate.from_messages([\n",
    "    (\"system\", answerer_system_text),\n",
    "    (\"human\", \"주제: {topic}\\n\\n이전 대화:\\n{chat_history}\\n\\n질문: {question}\\n\\n답변:\"),\n",
    "])"
   ]
  },
  {
   "cell_type": "markdown",
   "metadata": {},
   "source": [
    "- Agent 함수 정의"
   ]
  },
  {
   "cell_type": "code",
   "execution_count": 9,
   "metadata": {},
   "outputs": [],
   "source": [
    "def answerer(state: AgentState):\n",
    "    messages = state['messages']\n",
    "    topic = state['topic']\n",
    "    chat_history = \"\\n\".join([f\"{m.name}: {m.content}\" for m in messages[:-1]])\n",
    "    question = messages[-1].content\n",
    "    response = llm.invoke(answerer_prompt.format_messages(topic=topic, chat_history=chat_history, question=question))\n",
    "    return {\n",
    "        \"messages\": messages + [AIMessage(content=response.content, name=\"answerer\")],\n",
    "        \"next\": \"summarizer\"\n",
    "    }"
   ]
  },
  {
   "cell_type": "markdown",
   "metadata": {},
   "source": [
    "##### 4-3. 요약자 Agent (& Supervisor)\n",
    "- Prompt 정의"
   ]
  },
  {
   "cell_type": "code",
   "execution_count": 10,
   "metadata": {},
   "outputs": [],
   "source": [
    "# 요약자 Agent\n",
    "summarizer_system_text = \"\"\"\n",
    "당신은 대화 요약자입니다. \n",
    "먼저 당신은 대화가 충분한지를 판단합니다.\n",
    "\n",
    "충분한 대화란 다음을 만족해야 합니다.\n",
    " - questioner와 answerer간의 대화가 5회 이상 진행되어야 함\n",
    "\n",
    "대화가 충분한 경우 대화를 분석하여 요약을 제공해주세요.\n",
    "\"\"\"\n",
    "summarizer_prompt = ChatPromptTemplate.from_messages([\n",
    "    (\"system\", summarizer_system_text),\n",
    "    (\"human\", \"주제: {topic}\\n\\n대화:\\n{chat_history}\\n\\n이 충분히 대화했나요? 그렇다면 '예'라고 답하고 대화를 요약해주세요. 그렇지 않다면 '아니오'라고만 답해주세요.\"),\n",
    "])"
   ]
  },
  {
   "cell_type": "markdown",
   "metadata": {},
   "source": [
    "- Agent 함수 정의"
   ]
  },
  {
   "cell_type": "code",
   "execution_count": 11,
   "metadata": {},
   "outputs": [],
   "source": [
    "def summarizer(state: AgentState):\n",
    "    messages = state['messages']\n",
    "    topic = state['topic']\n",
    "    chat_history = \"\\n\".join([f\"{m.name}: {m.content}\" for m in messages])\n",
    "    response = llm.invoke(summarizer_prompt.format_messages(topic=topic, chat_history=chat_history))\n",
    "    \n",
    "    return {\n",
    "        \"messages\": messages + [AIMessage(content=response.content, name=\"summarizer\")],\n",
    "        \"next\": \"route_summary\"\n",
    "    }\n",
    "\n",
    "# 조건부 엣지 함수\n",
    "def route_summary(state: AgentState):\n",
    "    last_message = state[\"messages\"][-1].content\n",
    "    return \"end\" if last_message.lower().startswith(\"예\") else \"questioner\""
   ]
  },
  {
   "cell_type": "markdown",
   "metadata": {},
   "source": [
    "#### 5. Graph 생성\n",
    "- Graph 정의"
   ]
  },
  {
   "cell_type": "code",
   "execution_count": 12,
   "metadata": {},
   "outputs": [],
   "source": [
    "from langgraph.graph import StateGraph\n",
    "\n",
    "workflow = StateGraph(AgentState)"
   ]
  },
  {
   "cell_type": "markdown",
   "metadata": {},
   "source": [
    "- node 추가"
   ]
  },
  {
   "cell_type": "code",
   "execution_count": 13,
   "metadata": {},
   "outputs": [],
   "source": [
    "workflow.add_node(\"questioner\", questioner)\n",
    "workflow.add_node(\"answerer\", answerer)\n",
    "workflow.add_node(\"summarizer\", summarizer)"
   ]
  },
  {
   "cell_type": "markdown",
   "metadata": {},
   "source": [
    "- edge 추가"
   ]
  },
  {
   "cell_type": "code",
   "execution_count": 14,
   "metadata": {},
   "outputs": [],
   "source": [
    "workflow.add_edge(\"questioner\", \"answerer\")\n",
    "workflow.add_edge(\"answerer\", \"summarizer\")\n",
    "\n",
    "workflow.add_conditional_edges(\n",
    "    \"summarizer\",\n",
    "    route_summary,\n",
    "    {\n",
    "        \"end\": END,\n",
    "        \"questioner\": \"questioner\"\n",
    "    }\n",
    ")"
   ]
  },
  {
   "cell_type": "markdown",
   "metadata": {},
   "source": [
    "- 시작 node 설정"
   ]
  },
  {
   "cell_type": "code",
   "execution_count": 15,
   "metadata": {},
   "outputs": [],
   "source": [
    "workflow.set_entry_point(\"questioner\")"
   ]
  },
  {
   "cell_type": "markdown",
   "metadata": {},
   "source": [
    "- Graph compile"
   ]
  },
  {
   "cell_type": "code",
   "execution_count": 16,
   "metadata": {},
   "outputs": [],
   "source": [
    "app = workflow.compile()"
   ]
  },
  {
   "cell_type": "markdown",
   "metadata": {},
   "source": [
    "- Graph 시작화"
   ]
  },
  {
   "cell_type": "code",
   "execution_count": 17,
   "metadata": {},
   "outputs": [
    {
     "name": "stderr",
     "output_type": "stream",
     "text": [
      "c:\\Users\\prof\\AppData\\Local\\Programs\\Python\\Python312\\Lib\\site-packages\\urllib3\\connectionpool.py:1103: InsecureRequestWarning: Unverified HTTPS request is being made to host '70.10.15.10'. Adding certificate verification is strongly advised. See: https://urllib3.readthedocs.io/en/latest/advanced-usage.html#tls-warnings\n",
      "  warnings.warn(\n"
     ]
    },
    {
     "data": {
      "image/jpeg": "[encoded data removed]",
      "text/plain": [
       "<IPython.core.display.Image object>"
      ]
     },
     "metadata": {},
     "output_type": "display_data"
    }
   ],
   "source": [
    "from IPython.display import Image, display\n",
    "\n",
    "try:\n",
    "    display(Image(app.get_graph().draw_mermaid_png()))\n",
    "except Exception:\n",
    "    # This requires some extra dependencies and is optional\n",
    "    pass"
   ]
  },
  {
   "cell_type": "markdown",
   "metadata": {},
   "source": [
    "#### 6. Graph 실행"
   ]
  },
  {
   "cell_type": "code",
   "execution_count": 18,
   "metadata": {},
   "outputs": [
    {
     "name": "stderr",
     "output_type": "stream",
     "text": [
      "c:\\Users\\prof\\AppData\\Local\\Programs\\Python\\Python312\\Lib\\site-packages\\urllib3\\connectionpool.py:1103: InsecureRequestWarning: Unverified HTTPS request is being made to host '70.10.15.10'. Adding certificate verification is strongly advised. See: https://urllib3.readthedocs.io/en/latest/advanced-usage.html#tls-warnings\n",
      "  warnings.warn(\n",
      "c:\\Users\\prof\\AppData\\Local\\Programs\\Python\\Python312\\Lib\\site-packages\\urllib3\\connectionpool.py:1103: InsecureRequestWarning: Unverified HTTPS request is being made to host '70.10.15.10'. Adding certificate verification is strongly advised. See: https://urllib3.readthedocs.io/en/latest/advanced-usage.html#tls-warnings\n",
      "  warnings.warn(\n"
     ]
    },
    {
     "name": "stdout",
     "output_type": "stream",
     "text": [
      "Questioner: 일본의 전통 음식 중 하나인 스시의 기원은 무엇인가요?\n"
     ]
    },
    {
     "name": "stderr",
     "output_type": "stream",
     "text": [
      "c:\\Users\\prof\\AppData\\Local\\Programs\\Python\\Python312\\Lib\\site-packages\\urllib3\\connectionpool.py:1103: InsecureRequestWarning: Unverified HTTPS request is being made to host '70.10.15.10'. Adding certificate verification is strongly advised. See: https://urllib3.readthedocs.io/en/latest/advanced-usage.html#tls-warnings\n",
      "  warnings.warn(\n"
     ]
    },
    {
     "name": "stdout",
     "output_type": "stream",
     "text": [
      "Answerer: 스시는 원래 생선을 보존하기 위해 쌀과 함께 발효시키는 방식에서 유래했습니다.\n"
     ]
    },
    {
     "name": "stderr",
     "output_type": "stream",
     "text": [
      "c:\\Users\\prof\\AppData\\Local\\Programs\\Python\\Python312\\Lib\\site-packages\\urllib3\\connectionpool.py:1103: InsecureRequestWarning: Unverified HTTPS request is being made to host '70.10.15.10'. Adding certificate verification is strongly advised. See: https://urllib3.readthedocs.io/en/latest/advanced-usage.html#tls-warnings\n",
      "  warnings.warn(\n"
     ]
    },
    {
     "name": "stdout",
     "output_type": "stream",
     "text": [
      "Summarizer: 아니오\n",
      "Summarizer: 아직 충분한 정보가 수집되지 않았습니다. 대화를 계속합니다.\n"
     ]
    },
    {
     "name": "stderr",
     "output_type": "stream",
     "text": [
      "c:\\Users\\prof\\AppData\\Local\\Programs\\Python\\Python312\\Lib\\site-packages\\urllib3\\connectionpool.py:1103: InsecureRequestWarning: Unverified HTTPS request is being made to host '70.10.15.10'. Adding certificate verification is strongly advised. See: https://urllib3.readthedocs.io/en/latest/advanced-usage.html#tls-warnings\n",
      "  warnings.warn(\n"
     ]
    },
    {
     "name": "stdout",
     "output_type": "stream",
     "text": [
      "Questioner: 일본의 전통 의상인 기모노는 어떤 역사적 배경을 가지고 있나요?\n"
     ]
    },
    {
     "name": "stderr",
     "output_type": "stream",
     "text": [
      "c:\\Users\\prof\\AppData\\Local\\Programs\\Python\\Python312\\Lib\\site-packages\\urllib3\\connectionpool.py:1103: InsecureRequestWarning: Unverified HTTPS request is being made to host '70.10.15.10'. Adding certificate verification is strongly advised. See: https://urllib3.readthedocs.io/en/latest/advanced-usage.html#tls-warnings\n",
      "  warnings.warn(\n"
     ]
    },
    {
     "name": "stdout",
     "output_type": "stream",
     "text": [
      "Answerer: 기모노는 헤이안 시대(794-1185)에 시작되어 에도 시대(1603-1868)에 현재의 형태로 발전했습니다.\n"
     ]
    },
    {
     "name": "stderr",
     "output_type": "stream",
     "text": [
      "c:\\Users\\prof\\AppData\\Local\\Programs\\Python\\Python312\\Lib\\site-packages\\urllib3\\connectionpool.py:1103: InsecureRequestWarning: Unverified HTTPS request is being made to host '70.10.15.10'. Adding certificate verification is strongly advised. See: https://urllib3.readthedocs.io/en/latest/advanced-usage.html#tls-warnings\n",
      "  warnings.warn(\n"
     ]
    },
    {
     "name": "stdout",
     "output_type": "stream",
     "text": [
      "Summarizer: 아니오\n",
      "Summarizer: 아직 충분한 정보가 수집되지 않았습니다. 대화를 계속합니다.\n"
     ]
    },
    {
     "name": "stderr",
     "output_type": "stream",
     "text": [
      "c:\\Users\\prof\\AppData\\Local\\Programs\\Python\\Python312\\Lib\\site-packages\\urllib3\\connectionpool.py:1103: InsecureRequestWarning: Unverified HTTPS request is being made to host '70.10.15.10'. Adding certificate verification is strongly advised. See: https://urllib3.readthedocs.io/en/latest/advanced-usage.html#tls-warnings\n",
      "  warnings.warn(\n"
     ]
    },
    {
     "name": "stdout",
     "output_type": "stream",
     "text": [
      "Questioner: 일본의 전통 축제 중 하나인 마츠리는 어떤 의미와 역사를 가지고 있나요?\n"
     ]
    },
    {
     "name": "stderr",
     "output_type": "stream",
     "text": [
      "c:\\Users\\prof\\AppData\\Local\\Programs\\Python\\Python312\\Lib\\site-packages\\urllib3\\connectionpool.py:1103: InsecureRequestWarning: Unverified HTTPS request is being made to host '70.10.15.10'. Adding certificate verification is strongly advised. See: https://urllib3.readthedocs.io/en/latest/advanced-usage.html#tls-warnings\n",
      "  warnings.warn(\n"
     ]
    },
    {
     "name": "stdout",
     "output_type": "stream",
     "text": [
      "Answerer: 마츠리는 일본의 전통 축제로, 신사에서 신을 기리기 위해 열리며, 지역마다 다양한 형태와 역사를 가지고 있습니다.\n"
     ]
    },
    {
     "name": "stderr",
     "output_type": "stream",
     "text": [
      "c:\\Users\\prof\\AppData\\Local\\Programs\\Python\\Python312\\Lib\\site-packages\\urllib3\\connectionpool.py:1103: InsecureRequestWarning: Unverified HTTPS request is being made to host '70.10.15.10'. Adding certificate verification is strongly advised. See: https://urllib3.readthedocs.io/en/latest/advanced-usage.html#tls-warnings\n",
      "  warnings.warn(\n"
     ]
    },
    {
     "name": "stdout",
     "output_type": "stream",
     "text": [
      "Summarizer: 아니오\n",
      "Summarizer: 아직 충분한 정보가 수집되지 않았습니다. 대화를 계속합니다.\n"
     ]
    },
    {
     "name": "stderr",
     "output_type": "stream",
     "text": [
      "c:\\Users\\prof\\AppData\\Local\\Programs\\Python\\Python312\\Lib\\site-packages\\urllib3\\connectionpool.py:1103: InsecureRequestWarning: Unverified HTTPS request is being made to host '70.10.15.10'. Adding certificate verification is strongly advised. See: https://urllib3.readthedocs.io/en/latest/advanced-usage.html#tls-warnings\n",
      "  warnings.warn(\n"
     ]
    },
    {
     "name": "stdout",
     "output_type": "stream",
     "text": [
      "Questioner: 일본의 전통 예술 중 하나인 가부키는 어떤 특징과 역사를 가지고 있나요?\n"
     ]
    },
    {
     "name": "stderr",
     "output_type": "stream",
     "text": [
      "c:\\Users\\prof\\AppData\\Local\\Programs\\Python\\Python312\\Lib\\site-packages\\urllib3\\connectionpool.py:1103: InsecureRequestWarning: Unverified HTTPS request is being made to host '70.10.15.10'. Adding certificate verification is strongly advised. See: https://urllib3.readthedocs.io/en/latest/advanced-usage.html#tls-warnings\n",
      "  warnings.warn(\n"
     ]
    },
    {
     "name": "stdout",
     "output_type": "stream",
     "text": [
      "Answerer: 가부키는 에도 시대에 시작된 전통 연극으로, 화려한 의상과 과장된 동작, 그리고 독특한 메이크업이 특징입니다.\n"
     ]
    },
    {
     "name": "stderr",
     "output_type": "stream",
     "text": [
      "c:\\Users\\prof\\AppData\\Local\\Programs\\Python\\Python312\\Lib\\site-packages\\urllib3\\connectionpool.py:1103: InsecureRequestWarning: Unverified HTTPS request is being made to host '70.10.15.10'. Adding certificate verification is strongly advised. See: https://urllib3.readthedocs.io/en/latest/advanced-usage.html#tls-warnings\n",
      "  warnings.warn(\n"
     ]
    },
    {
     "name": "stdout",
     "output_type": "stream",
     "text": [
      "Summarizer: 아니오\n",
      "Summarizer: 아직 충분한 정보가 수집되지 않았습니다. 대화를 계속합니다.\n"
     ]
    },
    {
     "name": "stderr",
     "output_type": "stream",
     "text": [
      "c:\\Users\\prof\\AppData\\Local\\Programs\\Python\\Python312\\Lib\\site-packages\\urllib3\\connectionpool.py:1103: InsecureRequestWarning: Unverified HTTPS request is being made to host '70.10.15.10'. Adding certificate verification is strongly advised. See: https://urllib3.readthedocs.io/en/latest/advanced-usage.html#tls-warnings\n",
      "  warnings.warn(\n"
     ]
    },
    {
     "name": "stdout",
     "output_type": "stream",
     "text": [
      "Questioner: 일본의 전통 건축 양식 중 하나인 신사 건축은 어떤 특징과 역사를 가지고 있나요?\n"
     ]
    },
    {
     "name": "stderr",
     "output_type": "stream",
     "text": [
      "c:\\Users\\prof\\AppData\\Local\\Programs\\Python\\Python312\\Lib\\site-packages\\urllib3\\connectionpool.py:1103: InsecureRequestWarning: Unverified HTTPS request is being made to host '70.10.15.10'. Adding certificate verification is strongly advised. See: https://urllib3.readthedocs.io/en/latest/advanced-usage.html#tls-warnings\n",
      "  warnings.warn(\n"
     ]
    },
    {
     "name": "stdout",
     "output_type": "stream",
     "text": [
      "Answerer: 신사 건축은 일본의 신토 신앙과 관련이 있으며, 간소한 목재 구조와 자연과의 조화를 중시하는 것이 특징입니다.\n"
     ]
    },
    {
     "name": "stderr",
     "output_type": "stream",
     "text": [
      "c:\\Users\\prof\\AppData\\Local\\Programs\\Python\\Python312\\Lib\\site-packages\\urllib3\\connectionpool.py:1103: InsecureRequestWarning: Unverified HTTPS request is being made to host '70.10.15.10'. Adding certificate verification is strongly advised. See: https://urllib3.readthedocs.io/en/latest/advanced-usage.html#tls-warnings\n",
      "  warnings.warn(\n"
     ]
    },
    {
     "name": "stdout",
     "output_type": "stream",
     "text": [
      "Summarizer: 예\n",
      "\n",
      "요약: 이 대화에서는 일본의 다양한 전통 문화에 대해 논의했습니다. 스시의 기원은 생선을 보존하기 위해 쌀과 함께 발효시키는 방식에서 유래되었고, 기모노는 헤이안 시대에 시작되어 에도 시대에 현재의 형태로 발전했습니다. 마츠리는 신사를 중심으로 열리는 전통 축제로, 지역마다 다양한 형태와 역사를 가지고 있습니다. 가부키는 에도 시대에 시작된 전통 연극으로, 화려한 의상과 과장된 동작, 독특한 메이크업이 특징입니다. 마지막으로, 신사 건축은 일본의 신토 신앙과 관련이 있으며, 간소한 목재 구조와 자연과의 조화를 중시합니다.\n",
      "충분한 정보가 수집되어 대화를 종료합니다.\n",
      "최종 요약: 예\n",
      "\n",
      "요약: 이 대화에서는 일본의 다양한 전통 문화에 대해 논의했습니다. 스시의 기원은 생선을 보존하기 위해 쌀과 함께 발효시키는 방식에서 유래되었고, 기모노는 헤이안 시대에 시작되어 에도 시대에 현재의 형태로 발전했습니다. 마츠리는 신사를 중심으로 열리는 전통 축제로, 지역마다 다양한 형태와 역사를 가지고 있습니다. 가부키는 에도 시대에 시작된 전통 연극으로, 화려한 의상과 과장된 동작, 독특한 메이크업이 특징입니다. 마지막으로, 신사 건축은 일본의 신토 신앙과 관련이 있으며, 간소한 목재 구조와 자연과의 조화를 중시합니다.\n"
     ]
    },
    {
     "name": "stderr",
     "output_type": "stream",
     "text": [
      "c:\\Users\\prof\\AppData\\Local\\Programs\\Python\\Python312\\Lib\\site-packages\\urllib3\\connectionpool.py:1103: InsecureRequestWarning: Unverified HTTPS request is being made to host '70.10.15.10'. Adding certificate verification is strongly advised. See: https://urllib3.readthedocs.io/en/latest/advanced-usage.html#tls-warnings\n",
      "  warnings.warn(\n"
     ]
    }
   ],
   "source": [
    "initial_state = {\n",
    "    \"messages\": [],\n",
    "    \"next\": \"questioner\",\n",
    "    \"topic\": input() # 대화할 주제를 입력하세요.\n",
    "}\n",
    "\n",
    "for output in app.stream(initial_state):\n",
    "    # 출력의 첫 번째 키를 가져옵니다\n",
    "    agent = list(output.keys())[0]\n",
    "    agent_output = output[agent]\n",
    "    \n",
    "    last_message = agent_output['messages'][-1]\n",
    "    print(f\"{last_message.name.capitalize()}: {last_message.content}\")\n",
    "\n",
    "    if agent == \"summarizer\":\n",
    "        if last_message.content.lower().startswith(\"예\"):\n",
    "            print(\"충분한 정보가 수집되어 대화를 종료합니다.\")\n",
    "            print(\"최종 요약:\", last_message.content)\n",
    "            break\n",
    "        else:\n",
    "            print(f\"Summarizer: 아직 충분한 정보가 수집되지 않았습니다. 대화를 계속합니다.\")"
   ]
  }
 ],
 "metadata": {
  "kernelspec": {
   "display_name": "Python 3",
   "language": "python",
   "name": "python3"
  },
  "language_info": {
   "codemirror_mode": {
    "name": "ipython",
    "version": 3
   },
   "file_extension": ".py",
   "mimetype": "text/x-python",
   "name": "python",
   "nbconvert_exporter": "python",
   "pygments_lexer": "ipython3",
   "version": "3.12.1"
  }
 },
 "nbformat": 4,
 "nbformat_minor": 2
}
