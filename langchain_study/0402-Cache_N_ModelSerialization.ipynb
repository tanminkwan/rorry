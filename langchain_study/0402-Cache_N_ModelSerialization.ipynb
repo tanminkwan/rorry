{
 "cells": [
  {
   "cell_type": "code",
   "execution_count": 4,
   "metadata": {},
   "outputs": [],
   "source": [
    "# API Key를 환경변수로 관리하기 위한 설정 파일\n",
    "\n",
    "from dotenv import load_dotenv\n",
    "\n",
    "# API Key 정보로드\n",
    "load_dotenv()\n",
    "\n",
    "import os\n",
    "os.environ[\"LANGCHAIN_PROJECT\"] = \"langchain_study\""
   ]
  },
  {
   "cell_type": "code",
   "execution_count": 5,
   "metadata": {},
   "outputs": [],
   "source": [
    "from langchain_openai import ChatOpenAI\n",
    "\n",
    "llm = ChatOpenAI(\n",
    "    temperature=0,\n",
    "    max_tokens=2048,\n",
    "    model=\"gpt-4o\",\n",
    ")"
   ]
  },
  {
   "cell_type": "code",
   "execution_count": 12,
   "metadata": {},
   "outputs": [],
   "source": [
    "from langchain_community.llms import Ollama\n",
    "\n",
    "llm = Ollama(model=\"aya\", temperature=0)"
   ]
  },
  {
   "cell_type": "code",
   "execution_count": 8,
   "metadata": {},
   "outputs": [
    {
     "data": {
      "text/plain": [
       "PromptTemplate(input_variables=['country'], template='{country}에 대해서 200자 내외로 요약해줘')"
      ]
     },
     "execution_count": 8,
     "metadata": {},
     "output_type": "execute_result"
    }
   ],
   "source": [
    "from langchain.prompts import PromptTemplate\n",
    "\n",
    "prompt = PromptTemplate.from_template(\"{country}에 대해서 200자 내외로 요약해줘\")\n",
    "prompt"
   ]
  },
  {
   "cell_type": "code",
   "execution_count": 9,
   "metadata": {},
   "outputs": [],
   "source": [
    "from langchain_core.output_parsers import StrOutputParser\n",
    "output_parser = StrOutputParser()"
   ]
  },
  {
   "cell_type": "code",
   "execution_count": 10,
   "metadata": {},
   "outputs": [],
   "source": [
    "chain = prompt | llm | output_parser"
   ]
  },
  {
   "cell_type": "code",
   "execution_count": 19,
   "metadata": {},
   "outputs": [
    {
     "name": "stdout",
     "output_type": "stream",
     "text": [
      "CPU times: total: 31.2 ms\n",
      "Wall time: 29.3 ms\n",
      "한국은 동아시아에 위치한 국가로, 풍부한 역사와 문화를 지닌 나라입니다. 한국은 약 5,100만 명의 인구가 거주하고 있으며, 수도는 서울입니다. 한국은 경제적으로 빠르게 성장하여, 현재 세계적인 기술력과 산업력을 갖춘 국가 중 하나입니다. 한국은 또한 K-팝과 한국 영화 등 독특한 문화 콘텐츠로 전 세계적으로 인기를 얻고 있습니다. 한국은 아름다운 자연 경관과 다양한 음식으로도 잘 알려져 있습니다.\n"
     ]
    }
   ],
   "source": [
    "%time response = chain.invoke({\"country\": \"한국\"})\n",
    "print(response)"
   ]
  },
  {
   "cell_type": "markdown",
   "metadata": {},
   "source": [
    "#### SQLite Cache"
   ]
  },
  {
   "cell_type": "code",
   "execution_count": 8,
   "metadata": {},
   "outputs": [],
   "source": [
    "from langchain.cache import SQLiteCache\n",
    "from langchain.globals import set_llm_cache\n",
    "\n",
    "set_llm_cache(SQLiteCache(database_path=\"llm_cache.db\"))"
   ]
  },
  {
   "cell_type": "code",
   "execution_count": 10,
   "metadata": {},
   "outputs": [
    {
     "name": "stdout",
     "output_type": "stream",
     "text": [
      "CPU times: total: 62.5 ms\n",
      "Wall time: 52.8 ms\n",
      "한국은 동아시아에 위치한 나라로, 한반도에 자리잡고 있다. 대한민국(남한)과 조선민주주의인민공화국(북한)으로 나뉘어 있으며, 수도는 서울이다. 한국은 고유한 역사와 문화를 가지고 있으며, 한글이라는 독자적인 문자를 사용한다. 경제적으로는 세계 10위권 내에 드는 강국으로, IT, 자동차, 반도체 산업 등이 발달해 있다. 한류(K-pop, 드라마 등)로 전 세계에 문화적 영향력을 미치고 있다.\n"
     ]
    }
   ],
   "source": [
    "%time response = chain.invoke({\"country\": \"한국\"})\n",
    "print(response)"
   ]
  },
  {
   "cell_type": "code",
   "execution_count": 11,
   "metadata": {},
   "outputs": [
    {
     "name": "stdout",
     "output_type": "stream",
     "text": [
      "CPU times: total: 62.5 ms\n",
      "Wall time: 2.6 s\n",
      "신라는 한반도 남동부에 위치한 고대 왕국으로, 기원전 57년에 건국되어 935년에 고려에 의해 멸망할 때까지 약 천 년간 존속했다. 초기에는 박, 석, 김 세 성씨가 교대로 왕위를 계승했으나, 점차 김씨 왕조로 통일되었다. 신라는 삼국 통일을 이루며 한반도 역사에서 중요한 역할을 했으며, 불교 문화와 예술이 번성한 시기였다. 대표적인 유적으로는 경주의 불국사와 석굴암이 있다.\n"
     ]
    }
   ],
   "source": [
    "%time response = chain.invoke({\"country\": \"신라\"})\n",
    "print(response)"
   ]
  },
  {
   "cell_type": "markdown",
   "metadata": {},
   "source": [
    "### ModelSerialization"
   ]
  },
  {
   "cell_type": "code",
   "execution_count": 12,
   "metadata": {},
   "outputs": [
    {
     "data": {
      "text/plain": [
       "True"
      ]
     },
     "execution_count": 12,
     "metadata": {},
     "output_type": "execute_result"
    }
   ],
   "source": [
    "# 직렬화 가능 확인\n",
    "chain.is_lc_serializable()"
   ]
  },
  {
   "cell_type": "markdown",
   "metadata": {},
   "source": [
    "##### dumpd: chain 저장"
   ]
  },
  {
   "cell_type": "code",
   "execution_count": 13,
   "metadata": {},
   "outputs": [
    {
     "data": {
      "text/plain": [
       "{'lc': 1,\n",
       " 'type': 'constructor',\n",
       " 'id': ['langchain', 'schema', 'runnable', 'RunnableSequence'],\n",
       " 'kwargs': {'first': {'lc': 1,\n",
       "   'type': 'constructor',\n",
       "   'id': ['langchain', 'prompts', 'prompt', 'PromptTemplate'],\n",
       "   'kwargs': {'input_variables': ['country'],\n",
       "    'template': '{country}에 대해서 200자 내외로 요약해줘',\n",
       "    'template_format': 'f-string'},\n",
       "   'name': 'PromptTemplate',\n",
       "   'graph': {'nodes': [{'id': 0, 'type': 'schema', 'data': 'PromptInput'},\n",
       "     {'id': 1,\n",
       "      'type': 'runnable',\n",
       "      'data': {'id': ['langchain', 'prompts', 'prompt', 'PromptTemplate'],\n",
       "       'name': 'PromptTemplate'}},\n",
       "     {'id': 2, 'type': 'schema', 'data': 'PromptTemplateOutput'}],\n",
       "    'edges': [{'source': 0, 'target': 1}, {'source': 1, 'target': 2}]}},\n",
       "  'middle': [{'lc': 1,\n",
       "    'type': 'constructor',\n",
       "    'id': ['langchain', 'chat_models', 'openai', 'ChatOpenAI'],\n",
       "    'kwargs': {'model_name': 'gpt-4o',\n",
       "     'temperature': 0.0,\n",
       "     'openai_api_key': {'lc': 1, 'type': 'secret', 'id': ['OPENAI_API_KEY']},\n",
       "     'openai_proxy': '',\n",
       "     'max_retries': 2,\n",
       "     'n': 1,\n",
       "     'max_tokens': 2048},\n",
       "    'name': 'ChatOpenAI',\n",
       "    'graph': {'nodes': [{'id': 0, 'type': 'schema', 'data': 'ChatOpenAIInput'},\n",
       "      {'id': 1,\n",
       "       'type': 'runnable',\n",
       "       'data': {'id': ['langchain', 'chat_models', 'openai', 'ChatOpenAI'],\n",
       "        'name': 'ChatOpenAI'}},\n",
       "      {'id': 2, 'type': 'schema', 'data': 'ChatOpenAIOutput'}],\n",
       "     'edges': [{'source': 0, 'target': 1}, {'source': 1, 'target': 2}]}}],\n",
       "  'last': {'lc': 1,\n",
       "   'type': 'constructor',\n",
       "   'id': ['langchain', 'schema', 'output_parser', 'StrOutputParser'],\n",
       "   'kwargs': {},\n",
       "   'name': 'StrOutputParser',\n",
       "   'graph': {'nodes': [{'id': 0,\n",
       "      'type': 'schema',\n",
       "      'data': 'StrOutputParserInput'},\n",
       "     {'id': 1,\n",
       "      'type': 'runnable',\n",
       "      'data': {'id': ['langchain',\n",
       "        'schema',\n",
       "        'output_parser',\n",
       "        'StrOutputParser'],\n",
       "       'name': 'StrOutputParser'}},\n",
       "     {'id': 2, 'type': 'schema', 'data': 'StrOutputParserOutput'}],\n",
       "    'edges': [{'source': 0, 'target': 1}, {'source': 1, 'target': 2}]}}},\n",
       " 'name': 'RunnableSequence',\n",
       " 'graph': {'nodes': [{'id': 0, 'type': 'schema', 'data': 'PromptInput'},\n",
       "   {'id': 1,\n",
       "    'type': 'runnable',\n",
       "    'data': {'id': ['langchain', 'prompts', 'prompt', 'PromptTemplate'],\n",
       "     'name': 'PromptTemplate'}},\n",
       "   {'id': 2,\n",
       "    'type': 'runnable',\n",
       "    'data': {'id': ['langchain', 'chat_models', 'openai', 'ChatOpenAI'],\n",
       "     'name': 'ChatOpenAI'}},\n",
       "   {'id': 3,\n",
       "    'type': 'runnable',\n",
       "    'data': {'id': ['langchain', 'schema', 'output_parser', 'StrOutputParser'],\n",
       "     'name': 'StrOutputParser'}},\n",
       "   {'id': 4, 'type': 'schema', 'data': 'StrOutputParserOutput'}],\n",
       "  'edges': [{'source': 0, 'target': 1},\n",
       "   {'source': 1, 'target': 2},\n",
       "   {'source': 3, 'target': 4},\n",
       "   {'source': 2, 'target': 3}]}}"
      ]
     },
     "execution_count": 13,
     "metadata": {},
     "output_type": "execute_result"
    }
   ],
   "source": [
    "from langchain.load import dumpd\n",
    "\n",
    "dumped_chain = dumpd(chain)\n",
    "dumped_chain"
   ]
  },
  {
   "cell_type": "code",
   "execution_count": 14,
   "metadata": {},
   "outputs": [],
   "source": [
    "import pickle\n",
    "\n",
    "with open(\"color_chain.pkl\", \"wb\") as f:\n",
    "    pickle.dump(dumped_chain, f)"
   ]
  },
  {
   "cell_type": "markdown",
   "metadata": {},
   "source": [
    "##### load: 저장한 chain 불러오기"
   ]
  },
  {
   "cell_type": "code",
   "execution_count": 17,
   "metadata": {},
   "outputs": [
    {
     "data": {
      "text/plain": [
       "{'lc': 1,\n",
       " 'type': 'constructor',\n",
       " 'id': ['langchain', 'schema', 'runnable', 'RunnableSequence'],\n",
       " 'kwargs': {'first': {'lc': 1,\n",
       "   'type': 'constructor',\n",
       "   'id': ['langchain', 'prompts', 'prompt', 'PromptTemplate'],\n",
       "   'kwargs': {'input_variables': ['country'],\n",
       "    'template': '{country}에 대해서 200자 내외로 요약해줘',\n",
       "    'template_format': 'f-string'},\n",
       "   'name': 'PromptTemplate',\n",
       "   'graph': {'nodes': [{'id': 0, 'type': 'schema', 'data': 'PromptInput'},\n",
       "     {'id': 1,\n",
       "      'type': 'runnable',\n",
       "      'data': {'id': ['langchain', 'prompts', 'prompt', 'PromptTemplate'],\n",
       "       'name': 'PromptTemplate'}},\n",
       "     {'id': 2, 'type': 'schema', 'data': 'PromptTemplateOutput'}],\n",
       "    'edges': [{'source': 0, 'target': 1}, {'source': 1, 'target': 2}]}},\n",
       "  'middle': [{'lc': 1,\n",
       "    'type': 'constructor',\n",
       "    'id': ['langchain', 'chat_models', 'openai', 'ChatOpenAI'],\n",
       "    'kwargs': {'model_name': 'gpt-4o',\n",
       "     'temperature': 0.0,\n",
       "     'openai_api_key': {'lc': 1, 'type': 'secret', 'id': ['OPENAI_API_KEY']},\n",
       "     'openai_proxy': '',\n",
       "     'max_retries': 2,\n",
       "     'n': 1,\n",
       "     'max_tokens': 2048},\n",
       "    'name': 'ChatOpenAI',\n",
       "    'graph': {'nodes': [{'id': 0, 'type': 'schema', 'data': 'ChatOpenAIInput'},\n",
       "      {'id': 1,\n",
       "       'type': 'runnable',\n",
       "       'data': {'id': ['langchain', 'chat_models', 'openai', 'ChatOpenAI'],\n",
       "        'name': 'ChatOpenAI'}},\n",
       "      {'id': 2, 'type': 'schema', 'data': 'ChatOpenAIOutput'}],\n",
       "     'edges': [{'source': 0, 'target': 1}, {'source': 1, 'target': 2}]}}],\n",
       "  'last': {'lc': 1,\n",
       "   'type': 'constructor',\n",
       "   'id': ['langchain', 'schema', 'output_parser', 'StrOutputParser'],\n",
       "   'kwargs': {},\n",
       "   'name': 'StrOutputParser',\n",
       "   'graph': {'nodes': [{'id': 0,\n",
       "      'type': 'schema',\n",
       "      'data': 'StrOutputParserInput'},\n",
       "     {'id': 1,\n",
       "      'type': 'runnable',\n",
       "      'data': {'id': ['langchain',\n",
       "        'schema',\n",
       "        'output_parser',\n",
       "        'StrOutputParser'],\n",
       "       'name': 'StrOutputParser'}},\n",
       "     {'id': 2, 'type': 'schema', 'data': 'StrOutputParserOutput'}],\n",
       "    'edges': [{'source': 0, 'target': 1}, {'source': 1, 'target': 2}]}}},\n",
       " 'name': 'RunnableSequence',\n",
       " 'graph': {'nodes': [{'id': 0, 'type': 'schema', 'data': 'PromptInput'},\n",
       "   {'id': 1,\n",
       "    'type': 'runnable',\n",
       "    'data': {'id': ['langchain', 'prompts', 'prompt', 'PromptTemplate'],\n",
       "     'name': 'PromptTemplate'}},\n",
       "   {'id': 2,\n",
       "    'type': 'runnable',\n",
       "    'data': {'id': ['langchain', 'chat_models', 'openai', 'ChatOpenAI'],\n",
       "     'name': 'ChatOpenAI'}},\n",
       "   {'id': 3,\n",
       "    'type': 'runnable',\n",
       "    'data': {'id': ['langchain', 'schema', 'output_parser', 'StrOutputParser'],\n",
       "     'name': 'StrOutputParser'}},\n",
       "   {'id': 4, 'type': 'schema', 'data': 'StrOutputParserOutput'}],\n",
       "  'edges': [{'source': 0, 'target': 1},\n",
       "   {'source': 1, 'target': 2},\n",
       "   {'source': 3, 'target': 4},\n",
       "   {'source': 2, 'target': 3}]}}"
      ]
     },
     "execution_count": 17,
     "metadata": {},
     "output_type": "execute_result"
    }
   ],
   "source": [
    "import pickle\n",
    "\n",
    "with open(\"color_chain.pkl\", \"rb\") as f:\n",
    "    load_chain_dict = pickle.load(f)\n",
    "\n",
    "load_chain_dict"
   ]
  },
  {
   "cell_type": "code",
   "execution_count": 18,
   "metadata": {},
   "outputs": [
    {
     "ename": "AttributeError",
     "evalue": "'dict' object has no attribute 'load'",
     "output_type": "error",
     "traceback": [
      "\u001b[1;31m---------------------------------------------------------------------------\u001b[0m",
      "\u001b[1;31mAttributeError\u001b[0m                            Traceback (most recent call last)",
      "Cell \u001b[1;32mIn[18], line 3\u001b[0m\n\u001b[0;32m      1\u001b[0m \u001b[38;5;28;01mfrom\u001b[39;00m \u001b[38;5;21;01mlangchain\u001b[39;00m\u001b[38;5;21;01m.\u001b[39;00m\u001b[38;5;21;01mload\u001b[39;00m\u001b[38;5;21;01m.\u001b[39;00m\u001b[38;5;21;01mload\u001b[39;00m \u001b[38;5;28;01mimport\u001b[39;00m load\n\u001b[1;32m----> 3\u001b[0m \u001b[43mload_chain\u001b[49m\u001b[38;5;241;43m.\u001b[39;49m\u001b[43mload\u001b[49m(load_chain_dict)\n\u001b[0;32m      5\u001b[0m response \u001b[38;5;241m=\u001b[39m load_chain\u001b[38;5;241m.\u001b[39minvoke({\u001b[38;5;124m\"\u001b[39m\u001b[38;5;124mcountry\u001b[39m\u001b[38;5;124m\"\u001b[39m: \u001b[38;5;124m\"\u001b[39m\u001b[38;5;124m신라\u001b[39m\u001b[38;5;124m\"\u001b[39m})\n\u001b[0;32m      6\u001b[0m \u001b[38;5;28mprint\u001b[39m(response)\n",
      "\u001b[1;31mAttributeError\u001b[0m: 'dict' object has no attribute 'load'"
     ]
    }
   ],
   "source": [
    "from langchain.load.load import load\n",
    "\n",
    "load_chain = load(load_chain_dict)\n",
    "\n",
    "response = load_chain.invoke({\"country\": \"신라\"})\n",
    "print(response)"
   ]
  }
 ],
 "metadata": {
  "kernelspec": {
   "display_name": "Python 3",
   "language": "python",
   "name": "python3"
  },
  "language_info": {
   "codemirror_mode": {
    "name": "ipython",
    "version": 3
   },
   "file_extension": ".py",
   "mimetype": "text/x-python",
   "name": "python",
   "nbconvert_exporter": "python",
   "pygments_lexer": "ipython3",
   "version": "3.12.1"
  }
 },
 "nbformat": 4,
 "nbformat_minor": 2
}
