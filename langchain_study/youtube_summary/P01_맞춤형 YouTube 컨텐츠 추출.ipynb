{
 "cells": [
  {
   "cell_type": "markdown",
   "metadata": {},
   "source": [
    "## 맞춤형 YouTube 컨텐츠 추출\n",
    "#### 1. 환경 변수 Load"
   ]
  },
  {
   "cell_type": "code",
   "execution_count": 1,
   "metadata": {},
   "outputs": [],
   "source": [
    "# API Key를 환경변수로 관리하기 위한 설정 파일\n",
    "\n",
    "from dotenv import load_dotenv\n",
    "\n",
    "# API Key 정보로드\n",
    "#   OPENAI_API_KEY = \"\" # OpenAI 구독 후 획득\n",
    "#   LANGCHAIN_TRACING_V2 = \"true\"\n",
    "#   LANGCHAIN_ENDPOINT = \"https://api.smith.langchain.com\"\n",
    "#   LANGCHAIN_API_KEY = \"\" # LangSmith 가입 후 획득\n",
    "#   YOUTUBE_DEVELOPER_KEY=\"\" # developers.google.com 가입 후 YouTube Data API enable\n",
    "load_dotenv(dotenv_path='./../.env')\n",
    "\n",
    "import os\n",
    "os.environ[\"LANGCHAIN_PROJECT\"] = \"langchain_study\""
   ]
  },
  {
   "cell_type": "markdown",
   "metadata": {},
   "source": [
    "#### 2. llm 객체(ChatGPT) 생성"
   ]
  },
  {
   "cell_type": "code",
   "execution_count": 2,
   "metadata": {},
   "outputs": [],
   "source": [
    "from langchain_openai import ChatOpenAI\n",
    "\n",
    "llm = ChatOpenAI(\n",
    "    temperature=0.3,\n",
    "    model=\"gpt-4o\",\n",
    ")"
   ]
  },
  {
   "cell_type": "markdown",
   "metadata": {},
   "source": [
    "#### 3. 사용자 요청에서 YouTube용 query와 LLM prompt를 추출(첫번째 Chain 만들기)\n",
    "- 출력할 Schema 에 맞춰 Pydantic 객체 정의"
   ]
  },
  {
   "cell_type": "code",
   "execution_count": 3,
   "metadata": {},
   "outputs": [],
   "source": [
    "from typing import List\n",
    "from langchain_core.pydantic_v1 import BaseModel, Field\n",
    "\n",
    "class YoutubeQuery(BaseModel):\n",
    "    #youtube_query: str = Field(description=\"youtube에서 사용할 검색어\")\n",
    "    youtube_queries: List[str] = Field(description=\"youtube에서 사용할 검색어\")\n",
    "    llm_query: str = Field(description=\"YouTube 컨텐츠가 담고있는 Text 정보에서 사용자가 원하는 부분을 찾기 위한 자연어 질의\")\n",
    "    language: str = Field(description=\"검색할 컨텐츠의 한글, 영어 구분(ko, en 둘중에 하나만 가능)\")"
   ]
  },
  {
   "cell_type": "markdown",
   "metadata": {},
   "source": [
    "- PydanticOutputParser 생성"
   ]
  },
  {
   "cell_type": "code",
   "execution_count": 4,
   "metadata": {},
   "outputs": [],
   "source": [
    "from langchain.output_parsers import PydanticOutputParser\n",
    "\n",
    "parser_query = PydanticOutputParser(pydantic_object=YoutubeQuery)"
   ]
  },
  {
   "cell_type": "markdown",
   "metadata": {},
   "source": [
    "- Prompt 생성"
   ]
  },
  {
   "cell_type": "code",
   "execution_count": 5,
   "metadata": {},
   "outputs": [],
   "source": [
    "youtube_search_query_tips =\"\"\"\n",
    "YouTube 검색 시 query 작성에 대한 주요 규칙과 팁:\n",
    "\n",
    "1. 기본 검색:\n",
    "   - 단순히 키워드나 문구를 입력합니다.\n",
    "   - 예: `Python tutorial`\n",
    "\n",
    "2. 정확한 구문 검색:\n",
    "   - 큰따옴표로 묶어 정확한 구문을 검색합니다.\n",
    "   - 예: `\"Python for beginners\"`\n",
    "\n",
    "3. 불리언 연산자:\n",
    "   - AND: 기본적으로 모든 단어는 AND로 연결됩니다.\n",
    "   - OR: 단어 사이에 OR을 사용합니다.\n",
    "   - 예: `Python OR Java tutorial`\n",
    "\n",
    "4. 제외 검색:\n",
    "   - 빼고 싶은 단어 앞에 마이너스(-) 기호를 사용합니다.\n",
    "   - 예: `Python tutorial -advanced`\n",
    "\n",
    "5. 와일드카드:\n",
    "   - 별표(*)를 사용해 부분 일치를 검색할 수 있습니다.\n",
    "   - 예: `Python * tutorial`\n",
    "\n",
    "6. 채널 검색:\n",
    "   - 채널명 앞에 @를 붙입니다.\n",
    "   - 예: `@GoogleDevelopers Python`\n",
    "\n",
    "7. 필터 사용:\n",
    "   - 특정 필터를 쿼리에 직접 포함할 수 있습니다.\n",
    "   - 예: `Python tutorial after:2023-01-01` (2023년 이후 영상)\n",
    "\n",
    "8. 대소문자 구분:\n",
    "   - YouTube 검색은 대소문자를 구분하지 않습니다.\n",
    "\n",
    "9. 특수 문자:\n",
    "   - 대부분의 특수 문자는 무시됩니다.\n",
    "\n",
    "10. 길이 제한:\n",
    "    - 쿼리 문자열에는 길이 제한이 있으므로 너무 길지 않게 작성합니다.\n",
    "\n",
    "11. 언어와 지역:\n",
    "    - 검색 결과는 사용자의 위치와 언어 설정에 영향을 받을 수 있습니다.\n",
    "\n",
    "12. 동의어:\n",
    "    - YouTube는 때때로 동의어를 자동으로 포함시킵니다.\n",
    "\n",
    "이러한 규칙을 조합하여 더 정확하고 효과적인 검색 쿼리를 만들 수 있습니다. 예를 들어:\n",
    "\n",
    "```python\n",
    "query = '\"Python for beginners\" -advanced after:2023-01-01'\n",
    "```\n",
    "\n",
    "이 쿼리는 \"Python for beginners\"라는 정확한 구문을 포함하고, \"advanced\"를 제외하며, 2023년 1월 1일 이후에 업로드된 비디오를 검색합니다.\n",
    "\"\"\""
   ]
  },
  {
   "cell_type": "code",
   "execution_count": 6,
   "metadata": {},
   "outputs": [],
   "source": [
    "from langchain.prompts import PromptTemplate\n",
    "\n",
    "prompt_query = PromptTemplate.from_template(\n",
    "\"\"\"\n",
    "System :\n",
    "너는 사용자가 원하는 youtube 컨텐츠를 찾아주는 AI야.\n",
    "\n",
    "사용자의 query를 분석해서 다음 3가지 정보를 생성해줘.\n",
    " - 사용자가 원하는 YouTube 컨텐츠를 찾을 수 있도록 YouTube 검색어를 만들어줘.\n",
    " - YouTube 검색어는 가장 적합한 검색어라고 판단하는 순서데로 3개를 만들어줘.\n",
    " - 찾아야 할 컨텐츠가 한글인 경우 'ko' 영어인 경우 'en'이라고 표시해줘.\n",
    " - YouTube 컨텐츠가 담고있는 Text 정보에서 사용자가 원하는 부분을 찾기 위한 자연어 질의를 만들어줘\n",
    "   예를 들어, 채널명이나 필터 정보 등 YouTube 검색에만 사용되는 내용은 제외해야되.\n",
    "   \n",
    "검색어를 만들때 tips 를 참고해.\n",
    "\n",
    "tips :\n",
    "{tips}\n",
    "\n",
    "query : \n",
    "{query}\n",
    "\n",
    "Format :\n",
    "{format}\n",
    "\"\"\"\n",
    ")\n",
    "\n",
    "# format에 PydanticOutputParser의 format 추가\n",
    "prompt_query = prompt_query.partial(\n",
    "    format = parser_query.get_format_instructions(),\n",
    "    tips = youtube_search_query_tips,\n",
    "    )"
   ]
  },
  {
   "cell_type": "markdown",
   "metadata": {},
   "source": [
    "- LCEL Chain 생성"
   ]
  },
  {
   "cell_type": "code",
   "execution_count": 7,
   "metadata": {},
   "outputs": [],
   "source": [
    "chain_1st = prompt_query | llm | parser_query"
   ]
  },
  {
   "cell_type": "code",
   "execution_count": 8,
   "metadata": {},
   "outputs": [
    {
     "data": {
      "text/plain": [
       "{'title': 'YoutubeQuery',\n",
       " 'type': 'object',\n",
       " 'properties': {'youtube_queries': {'title': 'Youtube Queries',\n",
       "   'description': 'youtube에서 사용할 검색어',\n",
       "   'type': 'array',\n",
       "   'items': {'type': 'string'}},\n",
       "  'llm_query': {'title': 'Llm Query',\n",
       "   'description': 'YouTube 컨텐츠가 담고있는 Text 정보에서 사용자가 원하는 부분을 찾기 위한 자연어 질의',\n",
       "   'type': 'string'},\n",
       "  'language': {'title': 'Language',\n",
       "   'description': '검색할 컨텐츠의 한글, 영어 구분(ko, en 둘중에 하나만 가능)',\n",
       "   'type': 'string'}},\n",
       " 'required': ['youtube_queries', 'llm_query', 'language']}"
      ]
     },
     "execution_count": 8,
     "metadata": {},
     "output_type": "execute_result"
    }
   ],
   "source": [
    "chain_1st.output_schema.schema()"
   ]
  },
  {
   "cell_type": "markdown",
   "metadata": {},
   "source": [
    "#### [TEST_01]. 첫번째 chain TEST"
   ]
  },
  {
   "cell_type": "code",
   "execution_count": 9,
   "metadata": {},
   "outputs": [
    {
     "data": {
      "text/plain": [
       "YoutubeQuery(youtube_queries=['한국인 기네스북 기록', '기네스북 한국인', '한국인 기네스북 분야'], llm_query='한국인 중에서 기네스북에 오른 사람들과 그들이 어떤 분야에서 기록을 세웠는지 알려주세요.', language='ko')"
      ]
     },
     "execution_count": 9,
     "metadata": {},
     "output_type": "execute_result"
    }
   ],
   "source": [
    "# Test\n",
    "long_query = \"\"\"\n",
    "한국인 중에 기네스북에 오른 사람들은 누가 있으며 어떤 분야에서 올랐는지 알려줘\n",
    "\"\"\"\n",
    "response_1st = chain_1st.invoke({\"query\":long_query})\n",
    "response_1st"
   ]
  },
  {
   "cell_type": "markdown",
   "metadata": {},
   "source": [
    "#### 4. YouTube에서 영상 Meta 정보와 자막을 조회하는 함수정의\n",
    "- input : `language`,`youtube_query`"
   ]
  },
  {
   "cell_type": "code",
   "execution_count": 12,
   "metadata": {},
   "outputs": [],
   "source": [
    "from youtube import ContentManager, Content, YouTube\n",
    "from functions import get_youtube_captions\n",
    "\n",
    "def results_from_youtube(response_1st):\n",
    "\n",
    "    print(response_1st)\n",
    "    language = response_1st.language\n",
    "    youtube_queries = response_1st.youtube_queries\n",
    "    llm_query = response_1st.llm_query\n",
    "\n",
    "    yt = YouTube()\n",
    "    c_manager = ContentManager()\n",
    "\n",
    "    for query in youtube_queries:\n",
    "        articles = yt.search(\n",
    "            query=query, \n",
    "            caption=True, \n",
    "            caption_language=language,\n",
    "            max_results = 5,\n",
    "            #max_results = 3,\n",
    "        )\n",
    "\n",
    "        for a in articles:\n",
    "            from pprint import pprint\n",
    "            pprint(a)\n",
    "            if not c_manager.get(a['id']):\n",
    "                c_manager.add(Content.from_dict(a))\n",
    "\n",
    "    for c in c_manager:\n",
    "        c_manager.add_captions(c.id, get_youtube_captions(c.id, language=language))\n",
    "\n",
    "    youtube_captions = [   \n",
    "        {\n",
    "            \"query\": llm_query,\n",
    "            \"captions\": c_manager[content.id].captions,\n",
    "            \"video_id\": content.id,\n",
    "            \"channel_name\": c_manager[content.id].channel,\n",
    "        } for content in c_manager\n",
    "    ]\n",
    "\n",
    "    return youtube_captions"
   ]
  },
  {
   "cell_type": "markdown",
   "metadata": {},
   "source": [
    "#### [TEST_02]. YouTube에서 자막 가져오기"
   ]
  },
  {
   "cell_type": "code",
   "execution_count": 16,
   "metadata": {},
   "outputs": [
    {
     "name": "stderr",
     "output_type": "stream",
     "text": [
      "2024-07-20 17:09:04,233 - INFO - file_cache is only supported with oauth2client<4.0.0\n"
     ]
    },
    {
     "name": "stdout",
     "output_type": "stream",
     "text": [
      "youtube_queries=['한국인 기네스북 기록', '기네스북 한국인', '한국인 기네스북 분야'] llm_query='한국인 중에서 기네스북에 오른 사람들과 그들이 어떤 분야에서 기록을 세웠는지 알려주세요.' language='ko'\n",
      "{'channel': 'SBS Entertainment',\n",
      " 'description': '스타킹 461회 20160809 SBS 아웃사이더는 기네스 기록에 도전하며 엄청난 속사포 랩을 선보인다. '\n",
      "                '홈페이지 ...',\n",
      " 'has_specified_caption': True,\n",
      " 'id': 'IlGqIab-tRA',\n",
      " 'publishedAt': '2016-08-09T13:11:16Z',\n",
      " 'thumbnail': 'https://i.ytimg.com/vi/IlGqIab-tRA/default.jpg',\n",
      " 'title': '아웃사이더, 기네스 세계 기록에 도전하는 엄청난 속사포 랩 도전! @스타킹 461회 20160809'}\n",
      "{'channel': 'SBS 뉴스',\n",
      " 'description': '브라질의 한 서퍼가 세계에서 가장 높은 파도를 타서 기네스 신기록을 세웠습니다. 그 장면 함께 보시죠. 원문 '\n",
      "                '기사 더보기 ...',\n",
      " 'has_specified_caption': True,\n",
      " 'id': 'jx70ld3F7GA',\n",
      " 'publishedAt': '2020-09-28T08:50:13Z',\n",
      " 'thumbnail': 'https://i.ytimg.com/vi/jx70ld3F7GA/default.jpg',\n",
      " 'title': '&#39;건물 6층&#39; 높이도 가뿐히…&#39;서핑 여제&#39; 신기록 세웠다 / SBS'}\n",
      "{'channel': '우와한 비디오',\n",
      " 'description': '현역 농구선수보다 더 높게 더 가볍게 뛰던 스켈레톤 국가대표 윤성빈 선수!! 그런데 윤성빈 선수보다 높게 뛰는 '\n",
      "                '체대 준비생 고3이 ...',\n",
      " 'has_specified_caption': True,\n",
      " 'id': 'hI2L4Mcj3mU',\n",
      " 'publishedAt': '2022-10-03T04:00:13Z',\n",
      " 'thumbnail': 'https://i.ytimg.com/vi/hI2L4Mcj3mU/default.jpg',\n",
      " 'title': '윤성빈 선수보다 높게 뛰기? 해볼게요┃Leaping Higher Than SungBin Yoon? I Got That!'}\n",
      "{'channel': 'SBS 뉴스',\n",
      " 'description': '전 세계 구독자 수 1위를 기록한 유튜버 미스터 비스트가 시각 장애인에 대한 의료지원을 하는 선행에 '\n",
      "                '나섰는데요. 왜인지 일각에서는 ...',\n",
      " 'has_specified_caption': True,\n",
      " 'id': 'n-4I3_LZJSc',\n",
      " 'publishedAt': '2023-02-02T23:47:37Z',\n",
      " 'thumbnail': 'https://i.ytimg.com/vi/n-4I3_LZJSc/default.jpg',\n",
      " 'title': '시각장애인들 눈 뜨게 해준 유튜버가 비난받는 이유  / SBS / 뉴스딱'}\n",
      "{'channel': 'MBCNEWS',\n",
      " 'description': \"산타도, 트리도 아닙니다. 턱수염에 달린 장신구인데요. 미국에 사는 '조엘 스트라서'가 턱수염에 장신구를 가장 \"\n",
      "                '많이 올린 사람으로 ...',\n",
      " 'has_specified_caption': True,\n",
      " 'id': 'Je0sxeRPD58',\n",
      " 'publishedAt': '2022-12-25T23:36:33Z',\n",
      " 'thumbnail': 'https://i.ytimg.com/vi/Je0sxeRPD58/default.jpg',\n",
      " 'title': '[와글와글] 턱수염에 &#39;710개&#39; 장신구‥ &#39;기네스북&#39; 등재 '\n",
      "          '(2022.12.26/뉴스투데이/MBC)'}\n",
      "{'channel': 'SBS Entertainment',\n",
      " 'description': '스타킹 461회 20160809 SBS 아웃사이더는 기네스 기록에 도전하며 엄청난 속사포 랩을 선보인다. '\n",
      "                '홈페이지 ...',\n",
      " 'has_specified_caption': True,\n",
      " 'id': 'IlGqIab-tRA',\n",
      " 'publishedAt': '2016-08-09T13:11:16Z',\n",
      " 'thumbnail': 'https://i.ytimg.com/vi/IlGqIab-tRA/default.jpg',\n",
      " 'title': '아웃사이더, 기네스 세계 기록에 도전하는 엄청난 속사포 랩 도전! @스타킹 461회 20160809'}\n",
      "{'channel': '우와한 비디오',\n",
      " 'description': '19년 동안 기른 역대급 머리 길이를 본 제작진은 진짜 사람 머리인지 믿을 수 없다며 급기야 주인공의 머리를 '\n",
      "                '잡아당겨 보기까지 ...',\n",
      " 'has_specified_caption': True,\n",
      " 'id': 'n68y8xRrXXE',\n",
      " 'publishedAt': '2020-05-03T04:00:28Z',\n",
      " 'thumbnail': 'https://i.ytimg.com/vi/n68y8xRrXXE/default.jpg',\n",
      " 'title': '키가 170cm인데 머리카락은 162.5cm?! 한국판 라푼젤이 나타났다!! ┃The Story of Korean '\n",
      "          'Rapunzel with 162.5 cm Long Hair'}\n",
      "{'channel': '엔조이커플enjoycouple',\n",
      " 'description': '엔조이커플 인스타그램 enjoycouple instargram '\n",
      "                '▷https://www.instagram.com/enjoycouple/ 엔조이커플 페이스북 '\n",
      "                'enjoycouple ...',\n",
      " 'has_specified_caption': True,\n",
      " 'id': 'ujxsDVEPtsw',\n",
      " 'publishedAt': '2017-09-21T07:27:19Z',\n",
      " 'thumbnail': 'https://i.ytimg.com/vi/ujxsDVEPtsw/default.jpg',\n",
      " 'title': '[ENG sub]역대급!! 엘리베이터안에서 방구 깜짝카메라 ㅋㅋㅋㅋ(feat. 버럭, 부르렁) Farting on '\n",
      "          'people in elevator !!!!'}\n",
      "{'channel': 'SBS 뉴스',\n",
      " 'description': '브라질의 한 서퍼가 세계에서 가장 높은 파도를 타서 기네스 신기록을 세웠습니다. 그 장면 함께 보시죠. 원문 '\n",
      "                '기사 더보기 ...',\n",
      " 'has_specified_caption': True,\n",
      " 'id': 'jx70ld3F7GA',\n",
      " 'publishedAt': '2020-09-28T08:50:13Z',\n",
      " 'thumbnail': 'https://i.ytimg.com/vi/jx70ld3F7GA/default.jpg',\n",
      " 'title': '&#39;건물 6층&#39; 높이도 가뿐히…&#39;서핑 여제&#39; 신기록 세웠다 / SBS'}\n",
      "{'channel': '우와한 비디오',\n",
      " 'description': '현역 농구선수보다 더 높게 더 가볍게 뛰던 스켈레톤 국가대표 윤성빈 선수!! 그런데 윤성빈 선수보다 높게 뛰는 '\n",
      "                '체대 준비생 고3이 ...',\n",
      " 'has_specified_caption': True,\n",
      " 'id': 'hI2L4Mcj3mU',\n",
      " 'publishedAt': '2022-10-03T04:00:13Z',\n",
      " 'thumbnail': 'https://i.ytimg.com/vi/hI2L4Mcj3mU/default.jpg',\n",
      " 'title': '윤성빈 선수보다 높게 뛰기? 해볼게요┃Leaping Higher Than SungBin Yoon? I Got That!'}\n",
      "{'channel': 'SBS Entertainment',\n",
      " 'description': '스타킹 461회 20160809 SBS 아웃사이더는 기네스 기록에 도전하며 엄청난 속사포 랩을 선보인다. '\n",
      "                '홈페이지 ...',\n",
      " 'has_specified_caption': True,\n",
      " 'id': 'IlGqIab-tRA',\n",
      " 'publishedAt': '2016-08-09T13:11:16Z',\n",
      " 'thumbnail': 'https://i.ytimg.com/vi/IlGqIab-tRA/default.jpg',\n",
      " 'title': '아웃사이더, 기네스 세계 기록에 도전하는 엄청난 속사포 랩 도전! @스타킹 461회 20160809'}\n",
      "{'channel': 'SBS 뉴스',\n",
      " 'description': '브라질의 한 서퍼가 세계에서 가장 높은 파도를 타서 기네스 신기록을 세웠습니다. 그 장면 함께 보시죠. 원문 '\n",
      "                '기사 더보기 ...',\n",
      " 'has_specified_caption': True,\n",
      " 'id': 'jx70ld3F7GA',\n",
      " 'publishedAt': '2020-09-28T08:50:13Z',\n",
      " 'thumbnail': 'https://i.ytimg.com/vi/jx70ld3F7GA/default.jpg',\n",
      " 'title': '&#39;건물 6층&#39; 높이도 가뿐히…&#39;서핑 여제&#39; 신기록 세웠다 / SBS'}\n",
      "{'channel': '우와한 비디오',\n",
      " 'description': '19년 동안 기른 역대급 머리 길이를 본 제작진은 진짜 사람 머리인지 믿을 수 없다며 급기야 주인공의 머리를 '\n",
      "                '잡아당겨 보기까지 ...',\n",
      " 'has_specified_caption': True,\n",
      " 'id': 'n68y8xRrXXE',\n",
      " 'publishedAt': '2020-05-03T04:00:28Z',\n",
      " 'thumbnail': 'https://i.ytimg.com/vi/n68y8xRrXXE/default.jpg',\n",
      " 'title': '키가 170cm인데 머리카락은 162.5cm?! 한국판 라푼젤이 나타났다!! ┃The Story of Korean '\n",
      "          'Rapunzel with 162.5 cm Long Hair'}\n",
      "{'channel': '엔조이커플enjoycouple',\n",
      " 'description': '엔조이커플 인스타그램 enjoycouple instargram '\n",
      "                '▷https://www.instagram.com/enjoycouple/ 엔조이커플 페이스북 '\n",
      "                'enjoycouple ...',\n",
      " 'has_specified_caption': True,\n",
      " 'id': 'ujxsDVEPtsw',\n",
      " 'publishedAt': '2017-09-21T07:27:19Z',\n",
      " 'thumbnail': 'https://i.ytimg.com/vi/ujxsDVEPtsw/default.jpg',\n",
      " 'title': '[ENG sub]역대급!! 엘리베이터안에서 방구 깜짝카메라 ㅋㅋㅋㅋ(feat. 버럭, 부르렁) Farting on '\n",
      "          'people in elevator !!!!'}\n",
      "{'channel': '강석준',\n",
      " 'description': '우리는 여러방면에서 세계를 놀래키고 있습니다. 과거에도, 현재도, 앞으로 다가 올 미래도 말입니다. 초고속 '\n",
      "                '인터넷, 세계에서 가장 ...',\n",
      " 'has_specified_caption': True,\n",
      " 'id': 'GKWlmEfvifA',\n",
      " 'publishedAt': '2018-08-14T01:27:15Z',\n",
      " 'thumbnail': 'https://i.ytimg.com/vi/GKWlmEfvifA/default.jpg',\n",
      " 'title': '한국인이 세계를 놀라게 하는 12가지-12 Things Koreans Surprise the World [한글/영문 '\n",
      "          '자막완료]'}\n"
     ]
    }
   ],
   "source": [
    "# Test\n",
    "youtube_captions = results_from_youtube(response_1st)"
   ]
  },
  {
   "cell_type": "code",
   "execution_count": 17,
   "metadata": {},
   "outputs": [
    {
     "data": {
      "text/plain": [
       "['IlGqIab-tRA',\n",
       " 'jx70ld3F7GA',\n",
       " 'hI2L4Mcj3mU',\n",
       " 'n-4I3_LZJSc',\n",
       " 'Je0sxeRPD58',\n",
       " 'n68y8xRrXXE',\n",
       " 'ujxsDVEPtsw',\n",
       " 'GKWlmEfvifA']"
      ]
     },
     "execution_count": 17,
     "metadata": {},
     "output_type": "execute_result"
    }
   ],
   "source": [
    "[c['video_id'] for c in youtube_captions]"
   ]
  },
  {
   "cell_type": "markdown",
   "metadata": {},
   "source": [
    "#### 5. Youtube 자막을 분석해서 사용자 요청 내용 추출(두번째 Chain 만들기)\n",
    "- 출력할 Schema 에 맞춰 Pydantic 객체 정의"
   ]
  },
  {
   "cell_type": "code",
   "execution_count": 18,
   "metadata": {},
   "outputs": [],
   "source": [
    "from typing import List\n",
    "from langchain_core.pydantic_v1 import BaseModel, Field\n",
    "\n",
    "class Segment(BaseModel):\n",
    "    title: str = Field(description=\"해당 구간의 제목 (20자 이하)\")\n",
    "    start: float = Field(description=\"해당 구간의 시작 시간(초)\")\n",
    "    duration: float = Field(description=\"해당 구간의 duration (세부 구간들의 duration 합계)(초))\")\n",
    "\n",
    "class Summary(BaseModel):\n",
    "    video_id: str = Field(description=\"동영상을 식별하는 id\")\n",
    "    channel_name: str = Field(description=\"채널 이름\")\n",
    "    description: str = Field(description=\"captions 내용 요약\")\n",
    "    segments: List[Segment] = Field(description=\"사용자 query를 만족하는 구간들 정보\")"
   ]
  },
  {
   "cell_type": "markdown",
   "metadata": {},
   "source": [
    "- PydanticOutputParser 생성"
   ]
  },
  {
   "cell_type": "code",
   "execution_count": 19,
   "metadata": {},
   "outputs": [],
   "source": [
    "from langchain.output_parsers import PydanticOutputParser\n",
    "\n",
    "parser_selection = PydanticOutputParser(pydantic_object=Summary)"
   ]
  },
  {
   "cell_type": "markdown",
   "metadata": {},
   "source": [
    "- Prompt 생성"
   ]
  },
  {
   "cell_type": "code",
   "execution_count": 20,
   "metadata": {},
   "outputs": [],
   "source": [
    "from langchain.prompts import PromptTemplate\n",
    "\n",
    "prompt_selection = PromptTemplate.from_template(\n",
    "\"\"\"\n",
    "System :\n",
    "너는 동영상 편집자이다.\n",
    "먼저 captions 내용을 100자 이내로 요약해.\n",
    "요약 결과는 네가 시청자에게 동영상을 소개하는 말투여야 해.\n",
    "그리고 captions에서 사용자 query를 잘 설명하고 있는 내용을 뽑아내고\n",
    "그 내용이 포함된 구간을 찾아내.\n",
    "여기서 구간이란 captions 내의 하나의 세부 구간이 아니라 연속되는 여러개의 세부 구간의 합을 의미한다.\n",
    "\n",
    "예) \n",
    "\n",
    "세부 구간 1 :\n",
    "  start : 112.0, duration : 5.0\n",
    "세부 구간 2 :\n",
    "  start : 117.0, duration : 4.0\n",
    "세부 구간 3 :\n",
    "  start : 121.0, duration : 6.0\n",
    "세부 구간 4 : \n",
    "  start : 127.0, duration : 3.0\n",
    "\n",
    "네가 찾은 하나의 구간이 세부 구간 1 ~ 4 인 경우\n",
    "구간의 start, duration은 다음과 같이 계산 하면 된다.\n",
    "  start : 112.0 (세부 구간 1 의 start)\n",
    "  duration : 18.0 ( 5.0 + 4.0 + 6.0 + 3.0, 세부 구간 4개 duration 의 합계)\n",
    "\n",
    "해당 구간의 내용을 20자 이내로 요약해서 구간 제목을 만들어.\n",
    "그 구간은 없을 수도 있고 여러개 일수도 있다.\n",
    "그 구간이 4개 이상이라면 가장 적합한 것 3개만 찾아내라.\n",
    "video_id 값은 동영상을 식별하는 id이다. 변경하지 말고 그대로 출력하라.\n",
    "channel_name은 동영상을 소유한 채널 이름이다. 변경하지 말고 그대로 출력하라.\n",
    "\n",
    "query : \n",
    "{query}\n",
    "\n",
    "video_id :\n",
    "{video_id}\n",
    "\n",
    "channel_name :\n",
    "{channel_name}\n",
    "\n",
    "captions : \n",
    "{captions}\n",
    "\n",
    "Format :\n",
    "{format}\n",
    "\"\"\"\n",
    ")\n",
    "\n",
    "# format에 PydanticOutputParser의 format 추가\n",
    "prompt_selection = prompt_selection.partial(format=parser_selection.get_format_instructions())"
   ]
  },
  {
   "cell_type": "markdown",
   "metadata": {},
   "source": [
    "- LCEL Chain 생성"
   ]
  },
  {
   "cell_type": "code",
   "execution_count": 21,
   "metadata": {},
   "outputs": [],
   "source": [
    "chain_2nd = prompt_selection | llm | parser_selection"
   ]
  },
  {
   "cell_type": "code",
   "execution_count": null,
   "metadata": {},
   "outputs": [],
   "source": [
    "chain_2nd.output_schema.schema()"
   ]
  },
  {
   "cell_type": "markdown",
   "metadata": {},
   "source": [
    "#### [TEST_03]. YouTube 자막에서 Query에 적합한 부분 골라내기"
   ]
  },
  {
   "cell_type": "code",
   "execution_count": 22,
   "metadata": {},
   "outputs": [
    {
     "name": "stderr",
     "output_type": "stream",
     "text": [
      "2024-07-20 17:10:17,034 - INFO - HTTP Request: POST https://api.openai.com/v1/chat/completions \"HTTP/1.1 200 OK\"\n",
      "2024-07-20 17:10:17,054 - INFO - HTTP Request: POST https://api.openai.com/v1/chat/completions \"HTTP/1.1 200 OK\"\n",
      "2024-07-20 17:10:17,296 - INFO - HTTP Request: POST https://api.openai.com/v1/chat/completions \"HTTP/1.1 200 OK\"\n",
      "2024-07-20 17:10:17,327 - INFO - HTTP Request: POST https://api.openai.com/v1/chat/completions \"HTTP/1.1 200 OK\"\n",
      "2024-07-20 17:10:17,396 - INFO - HTTP Request: POST https://api.openai.com/v1/chat/completions \"HTTP/1.1 200 OK\"\n",
      "2024-07-20 17:10:17,901 - INFO - HTTP Request: POST https://api.openai.com/v1/chat/completions \"HTTP/1.1 200 OK\"\n",
      "2024-07-20 17:10:18,027 - INFO - HTTP Request: POST https://api.openai.com/v1/chat/completions \"HTTP/1.1 200 OK\"\n",
      "2024-07-20 17:10:18,071 - INFO - HTTP Request: POST https://api.openai.com/v1/chat/completions \"HTTP/1.1 200 OK\"\n"
     ]
    },
    {
     "data": {
      "text/plain": [
       "[Summary(video_id='IlGqIab-tRA', channel_name='SBS Entertainment', description='한국인이 기네스북에 도전하는 모습을 담은 영상입니다.', segments=[Segment(title='기네스 기록 도전', start=0.12, duration=13.76)]),\n",
       " Summary(video_id='jx70ld3F7GA', channel_name='SBS 뉴스', description='브라질 서퍼 마야 가베이라가 22.4m 파도로 기네스 신기록을 세운 이야기입니다.', segments=[Segment(title='브라질 서퍼의 기네스 신기록', start=0.1, duration=69.605)]),\n",
       " Summary(video_id='hI2L4Mcj3mU', channel_name='우와한 비디오', description='한국인 기네스북 기록 보유자와 그들의 업적을 소개합니다.', segments=[Segment(title='기네스 기록 도전', start=249.36, duration=28.25)]),\n",
       " Summary(video_id='n-4I3_LZJSc', channel_name='SBS 뉴스', description='미스터 비스트의 시각장애인 수술 지원과 이에 대한 비판.', segments=[Segment(title='미스터 비스트의 선행', start=3.467, duration=16.84), Segment(title='비판의 목소리', start=30.46, duration=8.008), Segment(title='미스터 비스트의 반응', start=62.659, duration=7.412)]),\n",
       " Summary(video_id='Je0sxeRPD58', channel_name='MBCNEWS', description='기네스북에 오른 한국인과 그들의 기록을 소개합니다.', segments=[Segment(title='턱수염 장신구 기록', start=4.034, duration=43.23)]),\n",
       " Summary(video_id='n68y8xRrXXE', channel_name='우와한 비디오', description='한국인 기네스북 기록자와 그들의 업적을 소개합니다.', segments=[Segment(title='김일섭 소개', start=36.66, duration=5.3), Segment(title='기네스북 기록', start=135.7, duration=14.82), Segment(title='머리 길이와 애착', start=246.81, duration=12.03)]),\n",
       " Summary(video_id='ujxsDVEPtsw', channel_name='엔조이커플enjoycouple', description='한국인 중 기네스북에 오른 사람들과 그들의 기록을 소개합니다.', segments=[]),\n",
       " Summary(video_id='GKWlmEfvifA', channel_name='강석준', description='한국인이 세계에서 최고인 분야와 기네스북에 오른 사람들에 대해 알아봅니다.', segments=[Segment(title='소주 소비량 세계 최고', start=207.0, duration=14.5), Segment(title='김웅용의 지능 기록', start=564.72, duration=48.88)])]"
      ]
     },
     "execution_count": 22,
     "metadata": {},
     "output_type": "execute_result"
    }
   ],
   "source": [
    "# youtube_captions : TEST_02에서 얻음\n",
    "temp_responses = chain_2nd.batch(youtube_captions)\n",
    "temp_responses"
   ]
  },
  {
   "cell_type": "markdown",
   "metadata": {},
   "source": [
    "#### 6. 두번째 chain에서 선택된 컨텐츠 별로 Description과 구간별 자막을 이어붙인 TEXT 추출하는 함수\n",
    "- 추출된 컨텐츠가 사용자 요청에 적합한지 평가를 받기 위해 Text만 추출\n",
    "- input : `youtube_results`: youtube 컨텐츠 자막 ,`summary_results` : chain_2nd 실행 결과"
   ]
  },
  {
   "cell_type": "code",
   "execution_count": 23,
   "metadata": {},
   "outputs": [],
   "source": [
    "def flat_text(input_data):\n",
    "    youtube_results = input_data['youtube_results']\n",
    "    chain_2nd_output = input_data['summary_results']\n",
    "    \n",
    "    video_text = []\n",
    "    \n",
    "    for summary in chain_2nd_output:\n",
    "        if not summary.segments:\n",
    "            continue\n",
    "        \n",
    "        video_id = summary.video_id\n",
    "        captions = next((item['captions'] for item in youtube_results if item['video_id'] == video_id), None)\n",
    "        \n",
    "        if captions:\n",
    "            output = f\"전체 요약 : {summary.description}\\n\\n본문 내용 :\\n\"\n",
    "            \n",
    "            for i, segment in enumerate(summary.segments, 1):\n",
    "                start_time = segment.start\n",
    "                end_time = start_time + segment.duration\n",
    "                \n",
    "                segment_text = ''\n",
    "                for caption in captions:\n",
    "                    if start_time <= caption['start'] < end_time or \\\n",
    "                       (caption['start'] < start_time and caption['start'] + caption['duration'] > start_time):\n",
    "                        segment_text += caption['text'].replace('\\n', ' ') + ' '\n",
    "                \n",
    "                output += f\"{i}. {segment.title} : {segment_text.strip()}\\n\"\n",
    "            \n",
    "            video_text.append({\"video_id\": video_id, \"text\": output.strip()})\n",
    "    \n",
    "    return {\"llm_query\":youtube_results[0]['query'], \"video_text\":video_text}"
   ]
  },
  {
   "cell_type": "markdown",
   "metadata": {},
   "source": [
    "#### 7. YouTube 컨텐츠들이 사용자 요청에 적합한 지 평가(Ranking)(세번째 Chain 만들기)\n",
    "- CommaSeparatedListOutputParser 생성"
   ]
  },
  {
   "cell_type": "code",
   "execution_count": 24,
   "metadata": {},
   "outputs": [],
   "source": [
    "from langchain.output_parsers import CommaSeparatedListOutputParser\n",
    "# 출력 파서 생성\n",
    "parser_list = CommaSeparatedListOutputParser()"
   ]
  },
  {
   "cell_type": "markdown",
   "metadata": {},
   "source": [
    "- Prompt 생성"
   ]
  },
  {
   "cell_type": "code",
   "execution_count": 25,
   "metadata": {},
   "outputs": [],
   "source": [
    "from langchain.prompts import PromptTemplate\n",
    "\n",
    "prompt_rank = PromptTemplate.from_template(\n",
    "\"\"\"\n",
    "System :\n",
    "당신은 특정 질의(query)에 대해 여러 비디오(video_id)의 답변 적합성을 평가하고 순위를 매기는 AI입니다.\n",
    "llm_query에는 질의 내용이 포함되어 있으며, video_text에는 각 video_id에 해당하는 답변(text)이 저장되어 있습니다.\n",
    "당신의 임무는 다음과 같습니다:\n",
    "\n",
    "- 각 비디오의 답변을 질의에 대한 적합성 기준으로 평가합니다.\n",
    "- 평가 결과를 바탕으로 가장 적절한 답변을 제공한 비디오부터 순서대로 video_id 목록을 작성합니다.\n",
    "\n",
    "최종적으로, 적합성이 높은 순서대로 정렬된 video_id 목록을 출력해 주세요. \n",
    "\n",
    "llm_query : \n",
    "{llm_query}\n",
    "\n",
    "video_text :\n",
    "{video_text}\n",
    "\n",
    "Format :\n",
    "{format}\n",
    "\"\"\"\n",
    ")\n",
    "\n",
    "# format에 CommaSeparatedListOutputParser의 format 추가\n",
    "prompt_rank = prompt_rank.partial(format=parser_list.get_format_instructions())"
   ]
  },
  {
   "cell_type": "markdown",
   "metadata": {},
   "source": [
    "- LCEL Chain 생성"
   ]
  },
  {
   "cell_type": "code",
   "execution_count": 26,
   "metadata": {},
   "outputs": [],
   "source": [
    "chain_3rd = prompt_rank | llm | parser_list"
   ]
  },
  {
   "cell_type": "markdown",
   "metadata": {},
   "source": [
    "#### 8. full chain 생성 (첫번째, 두번째, 세번째 chain 합체)"
   ]
  },
  {
   "cell_type": "code",
   "execution_count": 27,
   "metadata": {},
   "outputs": [],
   "source": [
    "from langchain.schema.runnable import RunnablePassthrough, RunnableLambda\n",
    "\n",
    "full_chain = (\n",
    "    {\"query\": RunnablePassthrough()} | \n",
    "    chain_1st |\n",
    "    RunnableLambda(results_from_youtube) |\n",
    "    {\n",
    "        \"youtube_results\": RunnablePassthrough(),\n",
    "        \"summary_results\": chain_2nd.map(),\n",
    "    } |\n",
    "    {\n",
    "        \"ranks\": RunnableLambda(flat_text) | chain_3rd,\n",
    "        \"summary_results\": RunnableLambda(lambda x: x[\"summary_results\"]),\n",
    "    }\n",
    ")"
   ]
  },
  {
   "cell_type": "markdown",
   "metadata": {},
   "source": [
    "#### 9. full chain 실행"
   ]
  },
  {
   "cell_type": "code",
   "execution_count": 28,
   "metadata": {},
   "outputs": [
    {
     "name": "stderr",
     "output_type": "stream",
     "text": [
      "2024-07-20 17:12:18,003 - INFO - HTTP Request: POST https://api.openai.com/v1/chat/completions \"HTTP/1.1 200 OK\"\n",
      "2024-07-20 17:12:18,013 - INFO - file_cache is only supported with oauth2client<4.0.0\n"
     ]
    },
    {
     "name": "stdout",
     "output_type": "stream",
     "text": [
      "youtube_queries=['한국인 기네스북 기록', '기네스북 한국인', '한국인 기네스북 분야'] llm_query='한국인 중 기네스북에 오른 사람들과 그들이 어떤 분야에서 기록을 세웠는지 알려줘' language='ko'\n",
      "{'channel': 'SBS Entertainment',\n",
      " 'description': '스타킹 461회 20160809 SBS 아웃사이더는 기네스 기록에 도전하며 엄청난 속사포 랩을 선보인다. '\n",
      "                '홈페이지 ...',\n",
      " 'has_specified_caption': True,\n",
      " 'id': 'IlGqIab-tRA',\n",
      " 'publishedAt': '2016-08-09T13:11:16Z',\n",
      " 'thumbnail': 'https://i.ytimg.com/vi/IlGqIab-tRA/default.jpg',\n",
      " 'title': '아웃사이더, 기네스 세계 기록에 도전하는 엄청난 속사포 랩 도전! @스타킹 461회 20160809'}\n",
      "{'channel': 'SBS 뉴스',\n",
      " 'description': '브라질의 한 서퍼가 세계에서 가장 높은 파도를 타서 기네스 신기록을 세웠습니다. 그 장면 함께 보시죠. 원문 '\n",
      "                '기사 더보기 ...',\n",
      " 'has_specified_caption': True,\n",
      " 'id': 'jx70ld3F7GA',\n",
      " 'publishedAt': '2020-09-28T08:50:13Z',\n",
      " 'thumbnail': 'https://i.ytimg.com/vi/jx70ld3F7GA/default.jpg',\n",
      " 'title': '&#39;건물 6층&#39; 높이도 가뿐히…&#39;서핑 여제&#39; 신기록 세웠다 / SBS'}\n",
      "{'channel': '우와한 비디오',\n",
      " 'description': '현역 농구선수보다 더 높게 더 가볍게 뛰던 스켈레톤 국가대표 윤성빈 선수!! 그런데 윤성빈 선수보다 높게 뛰는 '\n",
      "                '체대 준비생 고3이 ...',\n",
      " 'has_specified_caption': True,\n",
      " 'id': 'hI2L4Mcj3mU',\n",
      " 'publishedAt': '2022-10-03T04:00:13Z',\n",
      " 'thumbnail': 'https://i.ytimg.com/vi/hI2L4Mcj3mU/default.jpg',\n",
      " 'title': '윤성빈 선수보다 높게 뛰기? 해볼게요┃Leaping Higher Than SungBin Yoon? I Got That!'}\n",
      "{'channel': 'SBS 뉴스',\n",
      " 'description': '전 세계 구독자 수 1위를 기록한 유튜버 미스터 비스트가 시각 장애인에 대한 의료지원을 하는 선행에 '\n",
      "                '나섰는데요. 왜인지 일각에서는 ...',\n",
      " 'has_specified_caption': True,\n",
      " 'id': 'n-4I3_LZJSc',\n",
      " 'publishedAt': '2023-02-02T23:47:37Z',\n",
      " 'thumbnail': 'https://i.ytimg.com/vi/n-4I3_LZJSc/default.jpg',\n",
      " 'title': '시각장애인들 눈 뜨게 해준 유튜버가 비난받는 이유  / SBS / 뉴스딱'}\n",
      "{'channel': 'MBCNEWS',\n",
      " 'description': \"산타도, 트리도 아닙니다. 턱수염에 달린 장신구인데요. 미국에 사는 '조엘 스트라서'가 턱수염에 장신구를 가장 \"\n",
      "                '많이 올린 사람으로 ...',\n",
      " 'has_specified_caption': True,\n",
      " 'id': 'Je0sxeRPD58',\n",
      " 'publishedAt': '2022-12-25T23:36:33Z',\n",
      " 'thumbnail': 'https://i.ytimg.com/vi/Je0sxeRPD58/default.jpg',\n",
      " 'title': '[와글와글] 턱수염에 &#39;710개&#39; 장신구‥ &#39;기네스북&#39; 등재 '\n",
      "          '(2022.12.26/뉴스투데이/MBC)'}\n",
      "{'channel': 'SBS Entertainment',\n",
      " 'description': '스타킹 461회 20160809 SBS 아웃사이더는 기네스 기록에 도전하며 엄청난 속사포 랩을 선보인다. '\n",
      "                '홈페이지 ...',\n",
      " 'has_specified_caption': True,\n",
      " 'id': 'IlGqIab-tRA',\n",
      " 'publishedAt': '2016-08-09T13:11:16Z',\n",
      " 'thumbnail': 'https://i.ytimg.com/vi/IlGqIab-tRA/default.jpg',\n",
      " 'title': '아웃사이더, 기네스 세계 기록에 도전하는 엄청난 속사포 랩 도전! @스타킹 461회 20160809'}\n",
      "{'channel': '우와한 비디오',\n",
      " 'description': '19년 동안 기른 역대급 머리 길이를 본 제작진은 진짜 사람 머리인지 믿을 수 없다며 급기야 주인공의 머리를 '\n",
      "                '잡아당겨 보기까지 ...',\n",
      " 'has_specified_caption': True,\n",
      " 'id': 'n68y8xRrXXE',\n",
      " 'publishedAt': '2020-05-03T04:00:28Z',\n",
      " 'thumbnail': 'https://i.ytimg.com/vi/n68y8xRrXXE/default.jpg',\n",
      " 'title': '키가 170cm인데 머리카락은 162.5cm?! 한국판 라푼젤이 나타났다!! ┃The Story of Korean '\n",
      "          'Rapunzel with 162.5 cm Long Hair'}\n",
      "{'channel': '엔조이커플enjoycouple',\n",
      " 'description': '엔조이커플 인스타그램 enjoycouple instargram '\n",
      "                '▷https://www.instagram.com/enjoycouple/ 엔조이커플 페이스북 '\n",
      "                'enjoycouple ...',\n",
      " 'has_specified_caption': True,\n",
      " 'id': 'ujxsDVEPtsw',\n",
      " 'publishedAt': '2017-09-21T07:27:19Z',\n",
      " 'thumbnail': 'https://i.ytimg.com/vi/ujxsDVEPtsw/default.jpg',\n",
      " 'title': '[ENG sub]역대급!! 엘리베이터안에서 방구 깜짝카메라 ㅋㅋㅋㅋ(feat. 버럭, 부르렁) Farting on '\n",
      "          'people in elevator !!!!'}\n",
      "{'channel': 'SBS 뉴스',\n",
      " 'description': '브라질의 한 서퍼가 세계에서 가장 높은 파도를 타서 기네스 신기록을 세웠습니다. 그 장면 함께 보시죠. 원문 '\n",
      "                '기사 더보기 ...',\n",
      " 'has_specified_caption': True,\n",
      " 'id': 'jx70ld3F7GA',\n",
      " 'publishedAt': '2020-09-28T08:50:13Z',\n",
      " 'thumbnail': 'https://i.ytimg.com/vi/jx70ld3F7GA/default.jpg',\n",
      " 'title': '&#39;건물 6층&#39; 높이도 가뿐히…&#39;서핑 여제&#39; 신기록 세웠다 / SBS'}\n",
      "{'channel': '우와한 비디오',\n",
      " 'description': '현역 농구선수보다 더 높게 더 가볍게 뛰던 스켈레톤 국가대표 윤성빈 선수!! 그런데 윤성빈 선수보다 높게 뛰는 '\n",
      "                '체대 준비생 고3이 ...',\n",
      " 'has_specified_caption': True,\n",
      " 'id': 'hI2L4Mcj3mU',\n",
      " 'publishedAt': '2022-10-03T04:00:13Z',\n",
      " 'thumbnail': 'https://i.ytimg.com/vi/hI2L4Mcj3mU/default.jpg',\n",
      " 'title': '윤성빈 선수보다 높게 뛰기? 해볼게요┃Leaping Higher Than SungBin Yoon? I Got That!'}\n",
      "{'channel': 'SBS Entertainment',\n",
      " 'description': '스타킹 461회 20160809 SBS 아웃사이더는 기네스 기록에 도전하며 엄청난 속사포 랩을 선보인다. '\n",
      "                '홈페이지 ...',\n",
      " 'has_specified_caption': True,\n",
      " 'id': 'IlGqIab-tRA',\n",
      " 'publishedAt': '2016-08-09T13:11:16Z',\n",
      " 'thumbnail': 'https://i.ytimg.com/vi/IlGqIab-tRA/default.jpg',\n",
      " 'title': '아웃사이더, 기네스 세계 기록에 도전하는 엄청난 속사포 랩 도전! @스타킹 461회 20160809'}\n",
      "{'channel': 'SBS 뉴스',\n",
      " 'description': '브라질의 한 서퍼가 세계에서 가장 높은 파도를 타서 기네스 신기록을 세웠습니다. 그 장면 함께 보시죠. 원문 '\n",
      "                '기사 더보기 ...',\n",
      " 'has_specified_caption': True,\n",
      " 'id': 'jx70ld3F7GA',\n",
      " 'publishedAt': '2020-09-28T08:50:13Z',\n",
      " 'thumbnail': 'https://i.ytimg.com/vi/jx70ld3F7GA/default.jpg',\n",
      " 'title': '&#39;건물 6층&#39; 높이도 가뿐히…&#39;서핑 여제&#39; 신기록 세웠다 / SBS'}\n",
      "{'channel': '엔조이커플enjoycouple',\n",
      " 'description': '엔조이커플 인스타그램 enjoycouple instargram '\n",
      "                '▷https://www.instagram.com/enjoycouple/ 엔조이커플 페이스북 '\n",
      "                'enjoycouple ...',\n",
      " 'has_specified_caption': True,\n",
      " 'id': 'ujxsDVEPtsw',\n",
      " 'publishedAt': '2017-09-21T07:27:19Z',\n",
      " 'thumbnail': 'https://i.ytimg.com/vi/ujxsDVEPtsw/default.jpg',\n",
      " 'title': '[ENG sub]역대급!! 엘리베이터안에서 방구 깜짝카메라 ㅋㅋㅋㅋ(feat. 버럭, 부르렁) Farting on '\n",
      "          'people in elevator !!!!'}\n",
      "{'channel': '우와한 비디오',\n",
      " 'description': '19년 동안 기른 역대급 머리 길이를 본 제작진은 진짜 사람 머리인지 믿을 수 없다며 급기야 주인공의 머리를 '\n",
      "                '잡아당겨 보기까지 ...',\n",
      " 'has_specified_caption': True,\n",
      " 'id': 'n68y8xRrXXE',\n",
      " 'publishedAt': '2020-05-03T04:00:28Z',\n",
      " 'thumbnail': 'https://i.ytimg.com/vi/n68y8xRrXXE/default.jpg',\n",
      " 'title': '키가 170cm인데 머리카락은 162.5cm?! 한국판 라푼젤이 나타났다!! ┃The Story of Korean '\n",
      "          'Rapunzel with 162.5 cm Long Hair'}\n",
      "{'channel': '강석준',\n",
      " 'description': '우리는 여러방면에서 세계를 놀래키고 있습니다. 과거에도, 현재도, 앞으로 다가 올 미래도 말입니다. 초고속 '\n",
      "                '인터넷, 세계에서 가장 ...',\n",
      " 'has_specified_caption': True,\n",
      " 'id': 'GKWlmEfvifA',\n",
      " 'publishedAt': '2018-08-14T01:27:15Z',\n",
      " 'thumbnail': 'https://i.ytimg.com/vi/GKWlmEfvifA/default.jpg',\n",
      " 'title': '한국인이 세계를 놀라게 하는 12가지-12 Things Koreans Surprise the World [한글/영문 '\n",
      "          '자막완료]'}\n"
     ]
    },
    {
     "name": "stderr",
     "output_type": "stream",
     "text": [
      "2024-07-20 17:12:31,927 - INFO - HTTP Request: POST https://api.openai.com/v1/chat/completions \"HTTP/1.1 200 OK\"\n",
      "2024-07-20 17:12:32,148 - INFO - HTTP Request: POST https://api.openai.com/v1/chat/completions \"HTTP/1.1 200 OK\"\n",
      "2024-07-20 17:12:32,258 - INFO - HTTP Request: POST https://api.openai.com/v1/chat/completions \"HTTP/1.1 200 OK\"\n",
      "2024-07-20 17:12:32,335 - INFO - HTTP Request: POST https://api.openai.com/v1/chat/completions \"HTTP/1.1 200 OK\"\n",
      "2024-07-20 17:12:32,376 - INFO - HTTP Request: POST https://api.openai.com/v1/chat/completions \"HTTP/1.1 200 OK\"\n",
      "2024-07-20 17:12:32,480 - INFO - HTTP Request: POST https://api.openai.com/v1/chat/completions \"HTTP/1.1 200 OK\"\n",
      "2024-07-20 17:12:32,924 - INFO - HTTP Request: POST https://api.openai.com/v1/chat/completions \"HTTP/1.1 200 OK\"\n",
      "2024-07-20 17:12:34,037 - INFO - HTTP Request: POST https://api.openai.com/v1/chat/completions \"HTTP/1.1 200 OK\"\n",
      "2024-07-20 17:12:34,892 - INFO - HTTP Request: POST https://api.openai.com/v1/chat/completions \"HTTP/1.1 200 OK\"\n"
     ]
    }
   ],
   "source": [
    "#input_query = \"\"\"\n",
    "#LF소나타 전조등 교체하는 법 알려줘\n",
    "#\"\"\"\n",
    "input_query = \"\"\"\n",
    "한국인 중에 기네스북에 오른 사람들은 누가 있으며 어떤 분야에서 올랐는지 알려줘\n",
    "\"\"\"\n",
    "responses = full_chain.invoke(input_query)"
   ]
  },
  {
   "cell_type": "code",
   "execution_count": 29,
   "metadata": {},
   "outputs": [
    {
     "data": {
      "text/plain": [
       "{'ranks': ['GKWlmEfvifA', 'hI2L4Mcj3mU', 'n68y8xRrXXE', 'IlGqIab-tRA'],\n",
       " 'summary_results': [Summary(video_id='IlGqIab-tRA', channel_name='SBS Entertainment', description='한국 대표가 기네스 기록에 도전하는 장면을 담은 영상입니다.', segments=[Segment(title='기네스 기록 도전', start=0.12, duration=13.76), Segment(title='기록 도전 시작', start=32.32, duration=16.364), Segment(title='기록 성공', start=101.973, duration=12.947)]),\n",
       "  Summary(video_id='jx70ld3F7GA', channel_name='SBS 뉴스', description='브라질 서퍼 마야 가베이라가 22.4m 파도로 기네스 신기록을 세웠습니다.', segments=[Segment(title='마야 가베이라의 기네스 신기록', start=19.186, duration=48.919)]),\n",
       "  Summary(video_id='hI2L4Mcj3mU', channel_name='우와한 비디오', description='한국인 기네스북 기록 도전과 성취 이야기', segments=[Segment(title='기네스 기록 도전', start=249.36, duration=24.25)]),\n",
       "  Summary(video_id='n-4I3_LZJSc', channel_name='SBS 뉴스', description='미스터 비스트의 시각장애인 수술 지원과 이에 대한 논란을 다룹니다.', segments=[Segment(title='미스터 비스트의 선행', start=3.467, duration=5.5), Segment(title='비판의 목소리', start=30.46, duration=2.636), Segment(title='미스터 비스트의 반응', start=62.659, duration=5.439)]),\n",
       "  Summary(video_id='Je0sxeRPD58', channel_name='MBCNEWS', description='기네스북에 오른 턱수염 장신구 기록 보유자 소개', segments=[Segment(title='턱수염 장신구 기네스 기록', start=4.034, duration=43.23)]),\n",
       "  Summary(video_id='n68y8xRrXXE', channel_name='우와한 비디오', description='한국인 중 기네스북에 오른 사람들과 그들의 기록을 소개합니다.', segments=[Segment(title='김일섭 소개', start=30.21, duration=15.92), Segment(title='기네스북 기록', start=135.7, duration=20.37)]),\n",
       "  Summary(video_id='ujxsDVEPtsw', channel_name='엔조이커플enjoycouple', description='한국인 중 기네스북에 오른 사람들에 대한 정보는 없습니다.', segments=[]),\n",
       "  Summary(video_id='GKWlmEfvifA', channel_name='강석준', description='한국인이 세계에서 최고인 다양한 분야와 기네스북에 오른 인물들에 대해 알아봅니다.', segments=[Segment(title='김웅용의 지능 기록', start=564.72, duration=48.94)])]}"
      ]
     },
     "execution_count": 29,
     "metadata": {},
     "output_type": "execute_result"
    }
   ],
   "source": [
    "responses"
   ]
  },
  {
   "cell_type": "markdown",
   "metadata": {},
   "source": [
    "#### 10. Rank 순으로 재배열 & 선택 개수 지정"
   ]
  },
  {
   "cell_type": "code",
   "execution_count": 30,
   "metadata": {},
   "outputs": [
    {
     "data": {
      "text/plain": [
       "[Summary(video_id='GKWlmEfvifA', channel_name='강석준', description='한국인이 세계에서 최고인 다양한 분야와 기네스북에 오른 인물들에 대해 알아봅니다.', segments=[Segment(title='김웅용의 지능 기록', start=564.72, duration=48.94)]),\n",
       " Summary(video_id='hI2L4Mcj3mU', channel_name='우와한 비디오', description='한국인 기네스북 기록 도전과 성취 이야기', segments=[Segment(title='기네스 기록 도전', start=249.36, duration=24.25)]),\n",
       " Summary(video_id='n68y8xRrXXE', channel_name='우와한 비디오', description='한국인 중 기네스북에 오른 사람들과 그들의 기록을 소개합니다.', segments=[Segment(title='김일섭 소개', start=30.21, duration=15.92), Segment(title='기네스북 기록', start=135.7, duration=20.37)]),\n",
       " Summary(video_id='IlGqIab-tRA', channel_name='SBS Entertainment', description='한국 대표가 기네스 기록에 도전하는 장면을 담은 영상입니다.', segments=[Segment(title='기네스 기록 도전', start=0.12, duration=13.76), Segment(title='기록 도전 시작', start=32.32, duration=16.364), Segment(title='기록 성공', start=101.973, duration=12.947)])]"
      ]
     },
     "execution_count": 30,
     "metadata": {},
     "output_type": "execute_result"
    }
   ],
   "source": [
    "def reorder_summaries(data, num_items=None):\n",
    "    # ranks와 summary_results 추출\n",
    "    ranks = data['ranks']\n",
    "    if num_items:\n",
    "        ranks = ranks[:num_items]\n",
    "    summaries = data['summary_results']\n",
    "    \n",
    "    # video_id를 키로, Summary 객체를 값으로 하는 딕셔너리 생성\n",
    "    summary_dict = {summary.video_id: summary for summary in summaries}\n",
    "    \n",
    "    # ranks 순서에 따라 새로운 summary 리스트 생성\n",
    "    reordered_summaries = [summary_dict[video_id] for video_id in ranks if video_id in summary_dict]\n",
    "    \n",
    "    # 재정렬된 summary_results를 포함한 새로운 딕셔너리 반환\n",
    "    return reordered_summaries\n",
    "\n",
    "summaries = reorder_summaries(responses, num_items=5)\n",
    "summaries"
   ]
  },
  {
   "cell_type": "markdown",
   "metadata": {},
   "source": [
    "#### 10. 동영상 제작"
   ]
  },
  {
   "cell_type": "code",
   "execution_count": 31,
   "metadata": {},
   "outputs": [],
   "source": [
    "import uuid\n",
    "job_id = str(uuid.uuid4())"
   ]
  },
  {
   "cell_type": "markdown",
   "metadata": {},
   "source": [
    "- youtube 컨텐츠 download -> mp4 파일 생성"
   ]
  },
  {
   "cell_type": "code",
   "execution_count": 32,
   "metadata": {},
   "outputs": [
    {
     "name": "stdout",
     "output_type": "stream",
     "text": [
      "[youtube] Extracting URL: https://www.youtube.com/watch?v=GKWlmEfvifA\n",
      "[youtube] GKWlmEfvifA: Downloading webpage\n",
      "[youtube] GKWlmEfvifA: Downloading ios player API JSON\n",
      "[youtube] GKWlmEfvifA: Downloading player d60b0ef9\n",
      "[youtube] GKWlmEfvifA: Downloading m3u8 information\n",
      "[info] GKWlmEfvifA: Downloading 1 format(s): 18\n",
      "[download] Destination: 8f8eb2c2-ef4c-48c7-9d4e-8d3b27a51913_GKWlmEfvifA.mp4\n",
      "[download] 100% of   29.20MiB in 00:00:17 at 1.63MiB/s     \n",
      "Downloaded file names : c:\\GitHub\\rorry\\langchain_study\\youtube_summary\\8f8eb2c2-ef4c-48c7-9d4e-8d3b27a51913_GKWlmEfvifA.mp4\n",
      "[youtube] Extracting URL: https://www.youtube.com/watch?v=hI2L4Mcj3mU\n",
      "[youtube] hI2L4Mcj3mU: Downloading webpage\n",
      "[youtube] hI2L4Mcj3mU: Downloading ios player API JSON\n",
      "[youtube] hI2L4Mcj3mU: Downloading m3u8 information\n",
      "[info] hI2L4Mcj3mU: Downloading 1 format(s): 18\n",
      "[download] Destination: 8f8eb2c2-ef4c-48c7-9d4e-8d3b27a51913_hI2L4Mcj3mU.mp4\n",
      "[download] 100% of   12.37MiB in 00:00:00 at 23.62MiB/s    \n",
      "Downloaded file names : c:\\GitHub\\rorry\\langchain_study\\youtube_summary\\8f8eb2c2-ef4c-48c7-9d4e-8d3b27a51913_hI2L4Mcj3mU.mp4\n",
      "[youtube] Extracting URL: https://www.youtube.com/watch?v=n68y8xRrXXE\n",
      "[youtube] n68y8xRrXXE: Downloading webpage\n",
      "[youtube] n68y8xRrXXE: Downloading ios player API JSON\n",
      "[youtube] n68y8xRrXXE: Downloading m3u8 information\n",
      "[info] n68y8xRrXXE: Downloading 1 format(s): 18\n",
      "[download] Destination: 8f8eb2c2-ef4c-48c7-9d4e-8d3b27a51913_n68y8xRrXXE.mp4\n",
      "[download] 100% of   11.52MiB in 00:00:00 at 31.78MiB/s    \n",
      "Downloaded file names : c:\\GitHub\\rorry\\langchain_study\\youtube_summary\\8f8eb2c2-ef4c-48c7-9d4e-8d3b27a51913_n68y8xRrXXE.mp4\n",
      "[youtube] Extracting URL: https://www.youtube.com/watch?v=IlGqIab-tRA\n",
      "[youtube] IlGqIab-tRA: Downloading webpage\n",
      "[youtube] IlGqIab-tRA: Downloading ios player API JSON\n",
      "[youtube] IlGqIab-tRA: Downloading m3u8 information\n",
      "[info] IlGqIab-tRA: Downloading 1 format(s): 18\n",
      "[download] Destination: 8f8eb2c2-ef4c-48c7-9d4e-8d3b27a51913_IlGqIab-tRA.mp4\n",
      "[download] 100% of    6.18MiB in 00:00:00 at 12.44MiB/s    \n",
      "Downloaded file names : c:\\GitHub\\rorry\\langchain_study\\youtube_summary\\8f8eb2c2-ef4c-48c7-9d4e-8d3b27a51913_IlGqIab-tRA.mp4\n"
     ]
    }
   ],
   "source": [
    "from functions import download_youtube\n",
    "\n",
    "for summary in summaries:\n",
    "\n",
    "    if not summary.segments:\n",
    "        continue\n",
    "    \n",
    "    youtube_url = f\"https://www.youtube.com/watch?v={summary.video_id}\"\n",
    "\n",
    "    file_path, file_name = download_youtube(youtube_url, job_id=job_id)\n",
    "    print(f\"Downloaded file names : {file_path}\")"
   ]
  },
  {
   "cell_type": "markdown",
   "metadata": {},
   "source": [
    "- 영상 slicing -> segment 영상 파일 생성"
   ]
  },
  {
   "cell_type": "code",
   "execution_count": 33,
   "metadata": {},
   "outputs": [
    {
     "name": "stderr",
     "output_type": "stream",
     "text": [
      "2024-07-20 17:14:53,417 - INFO - Successfully created segment: 8f8eb2c2-ef4c-48c7-9d4e-8d3b27a51913_GKWlmEfvifA_0.mp4\n",
      "2024-07-20 17:14:55,389 - INFO - Successfully created segment: 8f8eb2c2-ef4c-48c7-9d4e-8d3b27a51913_hI2L4Mcj3mU_0.mp4\n",
      "2024-07-20 17:14:56,567 - INFO - Successfully created segment: 8f8eb2c2-ef4c-48c7-9d4e-8d3b27a51913_n68y8xRrXXE_0.mp4\n",
      "2024-07-20 17:14:58,001 - INFO - Successfully created segment: 8f8eb2c2-ef4c-48c7-9d4e-8d3b27a51913_n68y8xRrXXE_1.mp4\n",
      "2024-07-20 17:14:59,123 - INFO - Successfully created segment: 8f8eb2c2-ef4c-48c7-9d4e-8d3b27a51913_IlGqIab-tRA_0.mp4\n",
      "2024-07-20 17:15:00,577 - INFO - Successfully created segment: 8f8eb2c2-ef4c-48c7-9d4e-8d3b27a51913_IlGqIab-tRA_1.mp4\n",
      "2024-07-20 17:15:02,002 - INFO - Successfully created segment: 8f8eb2c2-ef4c-48c7-9d4e-8d3b27a51913_IlGqIab-tRA_2.mp4\n"
     ]
    }
   ],
   "source": [
    "from functions import slice_video\n",
    "\n",
    "for summary in summaries:\n",
    "\n",
    "    content_id = job_id + \"_\" + summary.video_id\n",
    "\n",
    "    segments = [(s.start, s.duration, content_id+\"_\"+str(i)+\".mp4\") for i, s in enumerate(summary.segments)]\n",
    "    \n",
    "    results = slice_video(content_id+\".mp4\", segments, height=540, width=960)\n"
   ]
  },
  {
   "cell_type": "markdown",
   "metadata": {},
   "source": [
    "- YouTube 컨텐츠 별 설명 영상 생성\n",
    "- segment별 설명 영상 생성, 영상에 text 삽입"
   ]
  },
  {
   "cell_type": "code",
   "execution_count": 34,
   "metadata": {},
   "outputs": [
    {
     "name": "stderr",
     "output_type": "stream",
     "text": [
      "2024-07-20 17:15:34,853 - INFO - Imported existing <module 'comtypes.gen' from 'c:\\\\Python310\\\\lib\\\\site-packages\\\\comtypes\\\\gen\\\\__init__.py'>\n",
      "2024-07-20 17:15:34,854 - INFO - Using writeable comtypes cache directory: 'c:\\Python310\\lib\\site-packages\\comtypes\\gen'\n",
      "2024-07-20 17:15:36,685 - INFO - Starting text overlay process for 8f8eb2c2-ef4c-48c7-9d4e-8d3b27a51913_GKWlmEfvifA_0.mp4\n",
      "2024-07-20 17:15:36,686 - INFO - Starting ffmpeg process\n",
      "2024-07-20 17:15:39,068 - INFO - Text overlay completed. Output saved as 8f8eb2c2-ef4c-48c7-9d4e-8d3b27a51913_GKWlmEfvifA_0_t.mp4\n",
      "2024-07-20 17:15:40,566 - INFO - Starting text overlay process for 8f8eb2c2-ef4c-48c7-9d4e-8d3b27a51913_hI2L4Mcj3mU_0.mp4\n",
      "2024-07-20 17:15:40,567 - INFO - Starting ffmpeg process\n",
      "2024-07-20 17:15:42,218 - INFO - Text overlay completed. Output saved as 8f8eb2c2-ef4c-48c7-9d4e-8d3b27a51913_hI2L4Mcj3mU_0_t.mp4\n",
      "2024-07-20 17:15:43,693 - INFO - Starting text overlay process for 8f8eb2c2-ef4c-48c7-9d4e-8d3b27a51913_n68y8xRrXXE_0.mp4\n",
      "2024-07-20 17:15:43,694 - INFO - Starting ffmpeg process\n",
      "2024-07-20 17:15:44,717 - INFO - Text overlay completed. Output saved as 8f8eb2c2-ef4c-48c7-9d4e-8d3b27a51913_n68y8xRrXXE_0_t.mp4\n",
      "2024-07-20 17:15:45,287 - INFO - Starting text overlay process for 8f8eb2c2-ef4c-48c7-9d4e-8d3b27a51913_n68y8xRrXXE_1.mp4\n",
      "2024-07-20 17:15:45,288 - INFO - Starting ffmpeg process\n",
      "2024-07-20 17:15:46,420 - INFO - Text overlay completed. Output saved as 8f8eb2c2-ef4c-48c7-9d4e-8d3b27a51913_n68y8xRrXXE_1_t.mp4\n",
      "2024-07-20 17:15:47,915 - INFO - Starting text overlay process for 8f8eb2c2-ef4c-48c7-9d4e-8d3b27a51913_IlGqIab-tRA_0.mp4\n",
      "2024-07-20 17:15:47,916 - INFO - Starting ffmpeg process\n",
      "2024-07-20 17:15:48,858 - INFO - Text overlay completed. Output saved as 8f8eb2c2-ef4c-48c7-9d4e-8d3b27a51913_IlGqIab-tRA_0_t.mp4\n",
      "2024-07-20 17:15:49,416 - INFO - Starting text overlay process for 8f8eb2c2-ef4c-48c7-9d4e-8d3b27a51913_IlGqIab-tRA_1.mp4\n",
      "2024-07-20 17:15:49,417 - INFO - Starting ffmpeg process\n",
      "2024-07-20 17:15:50,614 - INFO - Text overlay completed. Output saved as 8f8eb2c2-ef4c-48c7-9d4e-8d3b27a51913_IlGqIab-tRA_1_t.mp4\n",
      "2024-07-20 17:15:51,157 - INFO - Starting text overlay process for 8f8eb2c2-ef4c-48c7-9d4e-8d3b27a51913_IlGqIab-tRA_2.mp4\n",
      "2024-07-20 17:15:51,158 - INFO - Starting ffmpeg process\n",
      "2024-07-20 17:15:52,409 - INFO - Text overlay completed. Output saved as 8f8eb2c2-ef4c-48c7-9d4e-8d3b27a51913_IlGqIab-tRA_2_t.mp4\n"
     ]
    }
   ],
   "source": [
    "from functions import Position, draw_text, add_text_to_image, create_video_with_audio_and_image\n",
    "\n",
    "segment_list = [] # concat 할 파일들을 순서대로 저장\n",
    "\n",
    "for summary in summaries:\n",
    "\n",
    "    if not summary.segments:\n",
    "        continue\n",
    "\n",
    "    text_config = dict(\n",
    "        position = Position.CENTER,\n",
    "        font_color=(0, 128, 255),\n",
    "        font_size=60,\n",
    "        text = summary.description,\n",
    "    )\n",
    "\n",
    "    content_id = job_id + \"_\" + summary.video_id\n",
    "\n",
    "    add_text_to_image(\"bg_image.png\", content_id+\".png\", **text_config)\n",
    "\n",
    "    text_config = dict(\n",
    "        position = Position.TOP,\n",
    "        font_color=(64, 64, 255),\n",
    "        font_size=48,\n",
    "        text = \"채널 : \"+summary.channel_name,\n",
    "    )\n",
    "\n",
    "    add_text_to_image(content_id+\".png\", content_id+\".png\", **text_config)\n",
    "\n",
    "    create_video_with_audio_and_image(\n",
    "        content_id+\".png\", \n",
    "        content_id+\"_c.mp4\", \n",
    "        text = summary.description,\n",
    "        width = 640,\n",
    "        height = 360,\n",
    "    )\n",
    "\n",
    "    segment_list.append(content_id+\"_c.mp4\")\n",
    "\n",
    "    for i, s in enumerate(summary.segments):\n",
    "\n",
    "        segment_id = content_id + \"_\" + str(i)\n",
    "\n",
    "        text_config = dict(\n",
    "            position = Position.CENTER,\n",
    "            font_color=(0, 0, 255),\n",
    "            font_size=80,\n",
    "            text = s.title,\n",
    "        )\n",
    "\n",
    "        add_text_to_image(\"bg_image.png\", segment_id+\".png\", **text_config)\n",
    "\n",
    "        create_video_with_audio_and_image(\n",
    "            segment_id+\".png\", \n",
    "            segment_id+\"_c.mp4\", \n",
    "            text = s.title,\n",
    "            width = 640,\n",
    "            height = 360,\n",
    "            )\n",
    "        \n",
    "        segment_list.append(segment_id+\"_c.mp4\")\n",
    "\n",
    "        text_config.update(\n",
    "            position = Position.BOTTOM,\n",
    "            color = (255, 0, 0),\n",
    "            font_size = 72,\n",
    "        )\n",
    "\n",
    "        draw_text(segment_id+\".mp4\", [(0, s.duration, text_config)])\n",
    "\n",
    "        segment_list.append(segment_id+\"_t.mp4\")\n"
   ]
  },
  {
   "cell_type": "code",
   "execution_count": 35,
   "metadata": {},
   "outputs": [
    {
     "data": {
      "text/plain": [
       "['8f8eb2c2-ef4c-48c7-9d4e-8d3b27a51913_GKWlmEfvifA_c.mp4',\n",
       " '8f8eb2c2-ef4c-48c7-9d4e-8d3b27a51913_GKWlmEfvifA_0_c.mp4',\n",
       " '8f8eb2c2-ef4c-48c7-9d4e-8d3b27a51913_GKWlmEfvifA_0_t.mp4',\n",
       " '8f8eb2c2-ef4c-48c7-9d4e-8d3b27a51913_hI2L4Mcj3mU_c.mp4',\n",
       " '8f8eb2c2-ef4c-48c7-9d4e-8d3b27a51913_hI2L4Mcj3mU_0_c.mp4',\n",
       " '8f8eb2c2-ef4c-48c7-9d4e-8d3b27a51913_hI2L4Mcj3mU_0_t.mp4',\n",
       " '8f8eb2c2-ef4c-48c7-9d4e-8d3b27a51913_n68y8xRrXXE_c.mp4',\n",
       " '8f8eb2c2-ef4c-48c7-9d4e-8d3b27a51913_n68y8xRrXXE_0_c.mp4',\n",
       " '8f8eb2c2-ef4c-48c7-9d4e-8d3b27a51913_n68y8xRrXXE_0_t.mp4',\n",
       " '8f8eb2c2-ef4c-48c7-9d4e-8d3b27a51913_n68y8xRrXXE_1_c.mp4',\n",
       " '8f8eb2c2-ef4c-48c7-9d4e-8d3b27a51913_n68y8xRrXXE_1_t.mp4',\n",
       " '8f8eb2c2-ef4c-48c7-9d4e-8d3b27a51913_IlGqIab-tRA_c.mp4',\n",
       " '8f8eb2c2-ef4c-48c7-9d4e-8d3b27a51913_IlGqIab-tRA_0_c.mp4',\n",
       " '8f8eb2c2-ef4c-48c7-9d4e-8d3b27a51913_IlGqIab-tRA_0_t.mp4',\n",
       " '8f8eb2c2-ef4c-48c7-9d4e-8d3b27a51913_IlGqIab-tRA_1_c.mp4',\n",
       " '8f8eb2c2-ef4c-48c7-9d4e-8d3b27a51913_IlGqIab-tRA_1_t.mp4',\n",
       " '8f8eb2c2-ef4c-48c7-9d4e-8d3b27a51913_IlGqIab-tRA_2_c.mp4',\n",
       " '8f8eb2c2-ef4c-48c7-9d4e-8d3b27a51913_IlGqIab-tRA_2_t.mp4']"
      ]
     },
     "execution_count": 35,
     "metadata": {},
     "output_type": "execute_result"
    }
   ],
   "source": [
    "# <UUID>_<video_id>_c.mp4 : video 표지 영상\n",
    "# <UUID>_<video_id>_n_c.mp4 : n번 segment 표지 영상\n",
    "# <UUID>_<video_id>_n_t.mp4 : n번 segment 영상\n",
    "segment_list"
   ]
  },
  {
   "cell_type": "markdown",
   "metadata": {},
   "source": [
    "- segment화된 영상들 이어 붙이기"
   ]
  },
  {
   "cell_type": "code",
   "execution_count": 36,
   "metadata": {},
   "outputs": [],
   "source": [
    "from functions import concatenate_videos\n",
    "\n",
    "#output_file = \"삼성SDS_FabriX.mp4\"\n",
    "output_file = \"기네스북_한국인.mp4\"\n",
    "\n",
    "concatenate_videos( segment_list, output_file, width=640 , height=360 )"
   ]
  }
 ],
 "metadata": {
  "kernelspec": {
   "display_name": "Python 3",
   "language": "python",
   "name": "python3"
  },
  "language_info": {
   "codemirror_mode": {
    "name": "ipython",
    "version": 3
   },
   "file_extension": ".py",
   "mimetype": "text/x-python",
   "name": "python",
   "nbconvert_exporter": "python",
   "pygments_lexer": "ipython3",
   "version": "3.10.10"
  }
 },
 "nbformat": 4,
 "nbformat_minor": 2
}
