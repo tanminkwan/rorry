{
 "cells": [
  {
   "cell_type": "markdown",
   "metadata": {},
   "source": [
    "## 맞춤형 YouTube 컨텐츠 추출\n",
    "#### 1. 환경 변수 Load"
   ]
  },
  {
   "cell_type": "code",
   "execution_count": 1,
   "metadata": {},
   "outputs": [],
   "source": [
    "# API Key를 환경변수로 관리하기 위한 설정 파일\n",
    "\n",
    "from dotenv import load_dotenv\n",
    "\n",
    "# API Key 정보로드\n",
    "#   OPENAI_API_KEY = \"\" # OpenAI 구독 후 획득\n",
    "#   LANGCHAIN_TRACING_V2 = \"true\"\n",
    "#   LANGCHAIN_ENDPOINT = \"https://api.smith.langchain.com\"\n",
    "#   LANGCHAIN_API_KEY = \"\" # LangSmith 가입 후 획득\n",
    "#   YOUTUBE_DEVELOPER_KEY=\"\" # developers.google.com 가입 후 YouTube Data API enable\n",
    "load_dotenv(dotenv_path='./../.env')\n",
    "\n",
    "import os\n",
    "os.environ[\"LANGCHAIN_PROJECT\"] = \"langchain_study\""
   ]
  },
  {
   "cell_type": "markdown",
   "metadata": {},
   "source": [
    "#### 2. llm 객체(ChatGPT) 생성"
   ]
  },
  {
   "cell_type": "code",
   "execution_count": 2,
   "metadata": {},
   "outputs": [],
   "source": [
    "from langchain_openai import ChatOpenAI\n",
    "\n",
    "llm = ChatOpenAI(\n",
    "    temperature=0.3,\n",
    "    model=\"gpt-4o\",\n",
    ")"
   ]
  },
  {
   "cell_type": "markdown",
   "metadata": {},
   "source": [
    "#### 3. 사용자 요청에서 YouTube용 query와 LLM prompt를 추출(첫번째 Chain 만들기)\n",
    "- 출력할 Schema 에 맞춰 Pydantic 객체 정의"
   ]
  },
  {
   "cell_type": "code",
   "execution_count": 3,
   "metadata": {},
   "outputs": [],
   "source": [
    "from langchain_core.pydantic_v1 import BaseModel, Field\n",
    "\n",
    "class YoutubeQuery(BaseModel):\n",
    "    youtube_query: str = Field(description=\"youtube에서 사용할 검색어\")\n",
    "    llm_query: str = Field(description=\"YouTube 컨텐츠가 담고있는 Text 정보에서 사용자가 원하는 부분을 찾기 위한 자연어 질의\")\n",
    "    language: str = Field(description=\"검색할 컨텐츠의 한글, 영어 구분(ko, en 둘중에 하나만 가능)\")"
   ]
  },
  {
   "cell_type": "markdown",
   "metadata": {},
   "source": [
    "- PydanticOutputParser 생성"
   ]
  },
  {
   "cell_type": "code",
   "execution_count": 4,
   "metadata": {},
   "outputs": [],
   "source": [
    "from langchain.output_parsers import PydanticOutputParser\n",
    "\n",
    "parser_query = PydanticOutputParser(pydantic_object=YoutubeQuery)"
   ]
  },
  {
   "cell_type": "markdown",
   "metadata": {},
   "source": [
    "- Prompt 생성"
   ]
  },
  {
   "cell_type": "code",
   "execution_count": 5,
   "metadata": {},
   "outputs": [],
   "source": [
    "youtube_search_query_tips =\"\"\"\n",
    "YouTube 검색 시 query 작성에 대한 주요 규칙과 팁:\n",
    "\n",
    "1. 기본 검색:\n",
    "   - 단순히 키워드나 문구를 입력합니다.\n",
    "   - 예: `Python tutorial`\n",
    "\n",
    "2. 정확한 구문 검색:\n",
    "   - 큰따옴표로 묶어 정확한 구문을 검색합니다.\n",
    "   - 예: `\"Python for beginners\"`\n",
    "\n",
    "3. 불리언 연산자:\n",
    "   - AND: 기본적으로 모든 단어는 AND로 연결됩니다.\n",
    "   - OR: 단어 사이에 OR을 사용합니다.\n",
    "   - 예: `Python OR Java tutorial`\n",
    "\n",
    "4. 제외 검색:\n",
    "   - 빼고 싶은 단어 앞에 마이너스(-) 기호를 사용합니다.\n",
    "   - 예: `Python tutorial -advanced`\n",
    "\n",
    "5. 와일드카드:\n",
    "   - 별표(*)를 사용해 부분 일치를 검색할 수 있습니다.\n",
    "   - 예: `Python * tutorial`\n",
    "\n",
    "6. 채널 검색:\n",
    "   - 채널명 앞에 @를 붙입니다.\n",
    "   - 예: `@GoogleDevelopers Python`\n",
    "\n",
    "7. 필터 사용:\n",
    "   - 특정 필터를 쿼리에 직접 포함할 수 있습니다.\n",
    "   - 예: `Python tutorial after:2023-01-01` (2023년 이후 영상)\n",
    "\n",
    "8. 대소문자 구분:\n",
    "   - YouTube 검색은 대소문자를 구분하지 않습니다.\n",
    "\n",
    "9. 특수 문자:\n",
    "   - 대부분의 특수 문자는 무시됩니다.\n",
    "\n",
    "10. 길이 제한:\n",
    "    - 쿼리 문자열에는 길이 제한이 있으므로 너무 길지 않게 작성합니다.\n",
    "\n",
    "11. 언어와 지역:\n",
    "    - 검색 결과는 사용자의 위치와 언어 설정에 영향을 받을 수 있습니다.\n",
    "\n",
    "12. 동의어:\n",
    "    - YouTube는 때때로 동의어를 자동으로 포함시킵니다.\n",
    "\n",
    "이러한 규칙을 조합하여 더 정확하고 효과적인 검색 쿼리를 만들 수 있습니다. 예를 들어:\n",
    "\n",
    "```python\n",
    "query = '\"Python for beginners\" -advanced after:2023-01-01'\n",
    "```\n",
    "\n",
    "이 쿼리는 \"Python for beginners\"라는 정확한 구문을 포함하고, \"advanced\"를 제외하며, 2023년 1월 1일 이후에 업로드된 비디오를 검색합니다.\n",
    "\"\"\""
   ]
  },
  {
   "cell_type": "code",
   "execution_count": 6,
   "metadata": {},
   "outputs": [],
   "source": [
    "from langchain.prompts import PromptTemplate\n",
    "\n",
    "prompt_query = PromptTemplate.from_template(\n",
    "\"\"\"\n",
    "System :\n",
    "너는 사용자가 원하는 youtube 컨텐츠를 찾아주는 AI야.\n",
    "\n",
    "사용자의 query를 분석해서 다음 3가지 정보를 생성해줘.\n",
    " - 사용자가 원하는 YouTube 컨텐츠를 찾을 수 있도록 YouTube 검색어를 만들어줘.\n",
    " - 찾아야 할 컨텐츠가 한글인 경우 'ko' 영어인 경우 'en'이라고 표시해줘.\n",
    " - YouTube 컨텐츠가 담고있는 Text 정보에서 사용자가 원하는 부분을 찾기 위한 자연어 질의를 만들어줘\n",
    "   예를 들어, 채널명이나 필터 정보 등 YouTube 검색에만 사용되는 내용은 제외해야되.\n",
    "   \n",
    "검색어를 만들때 tips 를 참고해.\n",
    "\n",
    "tips :\n",
    "{tips}\n",
    "\n",
    "query : \n",
    "{query}\n",
    "\n",
    "Format :\n",
    "{format}\n",
    "\"\"\"\n",
    ")\n",
    "\n",
    "# format에 PydanticOutputParser의 format 추가\n",
    "prompt_query = prompt_query.partial(\n",
    "    format = parser_query.get_format_instructions(),\n",
    "    tips = youtube_search_query_tips,\n",
    "    )"
   ]
  },
  {
   "cell_type": "markdown",
   "metadata": {},
   "source": [
    "- LCEL Chain 생성"
   ]
  },
  {
   "cell_type": "code",
   "execution_count": 7,
   "metadata": {},
   "outputs": [],
   "source": [
    "chain_1st = prompt_query | llm | parser_query"
   ]
  },
  {
   "cell_type": "code",
   "execution_count": null,
   "metadata": {},
   "outputs": [],
   "source": [
    "chain_1st.output_schema.schema()"
   ]
  },
  {
   "cell_type": "markdown",
   "metadata": {},
   "source": [
    "#### [TEST_01]. 첫번째 chain TEST"
   ]
  },
  {
   "cell_type": "code",
   "execution_count": null,
   "metadata": {},
   "outputs": [],
   "source": [
    "# Test\n",
    "long_query = \"\"\"\n",
    "Python 강의 중 동적 타이핑(Dynamic Typing)에 대한 부분만 찾아줘\n",
    "\"\"\"\n",
    "response_1st = chain_1st.invoke({\"query\":long_query})\n",
    "response_1st"
   ]
  },
  {
   "cell_type": "markdown",
   "metadata": {},
   "source": [
    "#### 4. YouTube에서 영상 Meta 정보와 자막을 조회하는 함수정의\n",
    "- input : `language`,`youtube_query`"
   ]
  },
  {
   "cell_type": "code",
   "execution_count": 8,
   "metadata": {},
   "outputs": [],
   "source": [
    "from youtube import ContentManager, Content, YouTube\n",
    "from functions import get_youtube_captions\n",
    "\n",
    "def results_from_youtube(response_1st):\n",
    "\n",
    "    print(response_1st)\n",
    "    language = response_1st.language\n",
    "    youtube_query = response_1st.youtube_query\n",
    "    llm_query = response_1st.llm_query\n",
    "\n",
    "    yt = YouTube()\n",
    "\n",
    "    articles = yt.search(\n",
    "        query=youtube_query, \n",
    "        caption=True, \n",
    "        caption_language=language,\n",
    "        #max_results = 10,\n",
    "        max_results = 3,\n",
    "    )\n",
    "\n",
    "    c_manager = ContentManager()\n",
    "\n",
    "    for a in articles:\n",
    "        from pprint import pprint\n",
    "        pprint(a)\n",
    "        c_manager.add(Content.from_dict(a))\n",
    "\n",
    "    for c in c_manager:\n",
    "        c_manager.add_captions(c.id, get_youtube_captions(c.id, language=language))\n",
    "\n",
    "    youtube_captions = [   \n",
    "        {\n",
    "            \"query\": llm_query,\n",
    "            \"captions\": c_manager[content.id].captions,\n",
    "            \"video_id\": content.id,\n",
    "            \"channel_name\": c_manager[content.id].channel,\n",
    "        } for content in c_manager\n",
    "    ]\n",
    "\n",
    "    return youtube_captions"
   ]
  },
  {
   "cell_type": "markdown",
   "metadata": {},
   "source": [
    "#### [TEST_02]. YouTube에서 자막 가져오기"
   ]
  },
  {
   "cell_type": "code",
   "execution_count": null,
   "metadata": {},
   "outputs": [],
   "source": [
    "# Test\n",
    "youtube_captions = results_from_youtube(response_1st)\n",
    "youtube_captions"
   ]
  },
  {
   "cell_type": "markdown",
   "metadata": {},
   "source": [
    "#### 5. Youtube 자막을 분석해서 사용자 요청 내용 추출(두번째 Chain 만들기)\n",
    "- 출력할 Schema 에 맞춰 Pydantic 객체 정의"
   ]
  },
  {
   "cell_type": "code",
   "execution_count": 9,
   "metadata": {},
   "outputs": [],
   "source": [
    "from typing import List\n",
    "from langchain_core.pydantic_v1 import BaseModel, Field\n",
    "\n",
    "class Segment(BaseModel):\n",
    "    title: str = Field(description=\"해당 구간의 제목 (20자 이하)\")\n",
    "    start: float = Field(description=\"해당 구간의 시작 시간(초)\")\n",
    "    duration: float = Field(description=\"해당 구간의 duration (세부 구간들의 duration 합계)(초))\")\n",
    "\n",
    "class Summary(BaseModel):\n",
    "    video_id: str = Field(description=\"동영상을 식별하는 id\")\n",
    "    channel_name: str = Field(description=\"채널 이름\")\n",
    "    description: str = Field(description=\"captions 내용 요약\")\n",
    "    segments: List[Segment] = Field(description=\"사용자 query를 만족하는 구간들 정보\")"
   ]
  },
  {
   "cell_type": "markdown",
   "metadata": {},
   "source": [
    "- PydanticOutputParser 생성"
   ]
  },
  {
   "cell_type": "code",
   "execution_count": 10,
   "metadata": {},
   "outputs": [],
   "source": [
    "from langchain.output_parsers import PydanticOutputParser\n",
    "\n",
    "parser_selection = PydanticOutputParser(pydantic_object=Summary)"
   ]
  },
  {
   "cell_type": "markdown",
   "metadata": {},
   "source": [
    "- Prompt 생성"
   ]
  },
  {
   "cell_type": "code",
   "execution_count": 11,
   "metadata": {},
   "outputs": [],
   "source": [
    "from langchain.prompts import PromptTemplate\n",
    "\n",
    "prompt_selection = PromptTemplate.from_template(\n",
    "\"\"\"\n",
    "System :\n",
    "너는 동영상 편집자이다.\n",
    "먼저 captions 내용을 100자 이내로 요약해.\n",
    "요약 결과는 네가 시청자에게 동영상을 소개하는 말투여야 해.\n",
    "그리고 captions에서 사용자 query를 잘 설명하고 있는 내용을 뽑아내고\n",
    "그 내용이 포함된 구간을 찾아내.\n",
    "여기서 구간이란 captions 내의 하나의 세부 구간이 아니라 연속되는 여러개의 세부 구간의 합을 의미한다.\n",
    "\n",
    "예) \n",
    "\n",
    "세부 구간 1 :\n",
    "  start : 112.0, duration : 5.0\n",
    "세부 구간 2 :\n",
    "  start : 117.0, duration : 4.0\n",
    "세부 구간 3 :\n",
    "  start : 121.0, duration : 6.0\n",
    "세부 구간 4 : \n",
    "  start : 127.0, duration : 3.0\n",
    "\n",
    "네가 찾은 하나의 구간이 세부 구간 1 ~ 4 인 경우\n",
    "구간의 start, duration은 다음과 같이 계산 하면 된다.\n",
    "  start : 112.0 (세부 구간 1 의 start)\n",
    "  duration : 18.0 ( 5.0 + 4.0 + 6.0 + 3.0, 세부 구간 4개 duration 의 합계)\n",
    "\n",
    "해당 구간의 내용을 20자 이내로 요약해서 구간 제목을 만들어.\n",
    "그 구간은 없을 수도 있고 여러개 일수도 있다.\n",
    "그 구간이 4개 이상이라면 가장 적합한 것 3개만 찾아내라.\n",
    "video_id 값은 동영상을 식별하는 id이다. 변경하지 말고 그대로 출력하라.\n",
    "channel_name은 동영상을 소유한 채널 이름이다. 변경하지 말고 그대로 출력하라.\n",
    "\n",
    "query : \n",
    "{query}\n",
    "\n",
    "video_id :\n",
    "{video_id}\n",
    "\n",
    "channel_name :\n",
    "{channel_name}\n",
    "\n",
    "captions : \n",
    "{captions}\n",
    "\n",
    "Format :\n",
    "{format}\n",
    "\"\"\"\n",
    ")\n",
    "\n",
    "# format에 PydanticOutputParser의 format 추가\n",
    "prompt_selection = prompt_selection.partial(format=parser_selection.get_format_instructions())"
   ]
  },
  {
   "cell_type": "markdown",
   "metadata": {},
   "source": [
    "- LCEL Chain 생성"
   ]
  },
  {
   "cell_type": "code",
   "execution_count": 12,
   "metadata": {},
   "outputs": [],
   "source": [
    "chain_2nd = prompt_selection | llm | parser_selection"
   ]
  },
  {
   "cell_type": "code",
   "execution_count": null,
   "metadata": {},
   "outputs": [],
   "source": [
    "chain_2nd.output_schema.schema()"
   ]
  },
  {
   "cell_type": "markdown",
   "metadata": {},
   "source": [
    "#### [TEST_03]. YouTube 자막에서 Query에 적합한 부분 골라내기"
   ]
  },
  {
   "cell_type": "code",
   "execution_count": null,
   "metadata": {},
   "outputs": [],
   "source": [
    "# youtube_captions : TEST_02에서 얻음\n",
    "temp_responses = chain_2nd.batch(youtube_captions)\n",
    "temp_responses"
   ]
  },
  {
   "cell_type": "markdown",
   "metadata": {},
   "source": [
    "#### 6. full chain 생성 (첫번째 두번째 chain 합체)"
   ]
  },
  {
   "cell_type": "code",
   "execution_count": 15,
   "metadata": {},
   "outputs": [],
   "source": [
    "from langchain.schema.runnable import RunnablePassthrough, RunnableLambda\n",
    "\n",
    "full_chain = (\n",
    "    {\"query\": RunnablePassthrough()} | \n",
    "    chain_1st |\n",
    "    RunnableLambda(results_from_youtube) |\n",
    "    chain_2nd.map()\n",
    ")"
   ]
  },
  {
   "cell_type": "code",
   "execution_count": 17,
   "metadata": {},
   "outputs": [],
   "source": [
    "from langchain.schema.runnable import RunnablePassthrough, RunnableLambda\n",
    "\n",
    "full_chain = (\n",
    "    {\"query\": RunnablePassthrough()} | \n",
    "    chain_1st |\n",
    "    RunnableLambda(results_from_youtube) |\n",
    "    {\n",
    "        \"youtube_results\": RunnablePassthrough(),\n",
    "        \"chain_2nd_output\": chain_2nd.map(),\n",
    "    }\n",
    ")"
   ]
  },
  {
   "cell_type": "code",
   "execution_count": 24,
   "metadata": {},
   "outputs": [],
   "source": [
    "def flat_text(input_data):\n",
    "    youtube_results = input_data['youtube_results']\n",
    "    chain_2nd_output = input_data['summary_results']\n",
    "    \n",
    "    video_text = []\n",
    "    \n",
    "    for summary in chain_2nd_output:\n",
    "        if not summary.segments:\n",
    "            continue\n",
    "        \n",
    "        video_id = summary.video_id\n",
    "        captions = next((item['captions'] for item in youtube_results if item['video_id'] == video_id), None)\n",
    "        \n",
    "        if captions:\n",
    "            output = f\"전체 요약 : {summary.description}\\n\\n본문 내용 :\\n\"\n",
    "            \n",
    "            for i, segment in enumerate(summary.segments, 1):\n",
    "                start_time = segment.start\n",
    "                end_time = start_time + segment.duration\n",
    "                \n",
    "                segment_text = ''\n",
    "                for caption in captions:\n",
    "                    if start_time <= caption['start'] < end_time or \\\n",
    "                       (caption['start'] < start_time and caption['start'] + caption['duration'] > start_time):\n",
    "                        segment_text += caption['text'].replace('\\n', ' ') + ' '\n",
    "                \n",
    "                output += f\"{i}. {segment.title} : {segment_text.strip()}\\n\"\n",
    "            \n",
    "            video_text.append({\"video_id\": video_id, \"text\": output.strip()})\n",
    "    \n",
    "    return {\"llm_query\":youtube_results[0]['query'], \"video_text\":video_text}"
   ]
  },
  {
   "cell_type": "code",
   "execution_count": 25,
   "metadata": {},
   "outputs": [],
   "source": [
    "from langchain.schema.runnable import RunnablePassthrough, RunnableLambda\n",
    "\n",
    "full_chain = (\n",
    "    {\"query\": RunnablePassthrough()} | \n",
    "    chain_1st |\n",
    "    RunnableLambda(results_from_youtube) |\n",
    "    {\n",
    "        \"youtube_results\": RunnablePassthrough(),\n",
    "        \"summary_results\": chain_2nd.map(),\n",
    "    } |\n",
    "    {\n",
    "        \"flat_text\": RunnableLambda(flat_text),\n",
    "        \"summary_results\": RunnablePassthrough(input_key=\"summary_results\"),\n",
    "    } |\n",
    "    {\n",
    "        \"ranks\": chain_3rd,\n",
    "        \"summary_results\": RunnablePassthrough(input_key=\"summary_results\"),\n",
    "    }\n",
    ") \n"
   ]
  },
  {
   "cell_type": "code",
   "execution_count": null,
   "metadata": {},
   "outputs": [],
   "source": [
    "from langchain.schema.runnable import RunnablePassthrough, RunnableLambda\n",
    "\n",
    "full_chain = (\n",
    "    {\"query\": RunnablePassthrough()} | \n",
    "    chain_1st |\n",
    "    RunnableLambda(results_from_youtube) |\n",
    "    {\n",
    "        \"youtube_results\": RunnablePassthrough(),\n",
    "        \"chain_2nd_output\": chain_2nd.map(),\n",
    "    } |\n",
    "    RunnableLambda(flat_text) |\n",
    "    {\n",
    "        \"chain_2nd_output\": RunnablePassthrough(),\n",
    "        \"chain_3rd_output\": chain_3rd,\n",
    "    }    \n",
    ")"
   ]
  },
  {
   "cell_type": "markdown",
   "metadata": {},
   "source": [
    "#### 7. full chain 실행"
   ]
  },
  {
   "cell_type": "code",
   "execution_count": 26,
   "metadata": {},
   "outputs": [
    {
     "name": "stderr",
     "output_type": "stream",
     "text": [
      "2024-07-18 23:02:22,643 - INFO - HTTP Request: POST https://api.openai.com/v1/chat/completions \"HTTP/1.1 200 OK\"\n",
      "2024-07-18 23:02:22,660 - INFO - file_cache is only supported with oauth2client<4.0.0\n"
     ]
    },
    {
     "name": "stdout",
     "output_type": "stream",
     "text": [
      "youtube_query='한국인 기네스북 기록' llm_query='한국인 중에 기네스북에 오른 사람들과 그들이 어떤 분야에서 기록을 세웠는지 알려줘' language='ko'\n",
      "{'channel': 'SBS Entertainment',\n",
      " 'description': '스타킹 461회 20160809 SBS 아웃사이더는 기네스 기록에 도전하며 엄청난 속사포 랩을 선보인다. '\n",
      "                '홈페이지 ...',\n",
      " 'has_specified_caption': True,\n",
      " 'id': 'IlGqIab-tRA',\n",
      " 'publishedAt': '2016-08-09T13:11:16Z',\n",
      " 'thumbnail': 'https://i.ytimg.com/vi/IlGqIab-tRA/default.jpg',\n",
      " 'title': '아웃사이더, 기네스 세계 기록에 도전하는 엄청난 속사포 랩 도전! @스타킹 461회 20160809'}\n",
      "{'channel': 'SBS 뉴스',\n",
      " 'description': '브라질의 한 서퍼가 세계에서 가장 높은 파도를 타서 기네스 신기록을 세웠습니다. 그 장면 함께 보시죠. 원문 '\n",
      "                '기사 더보기 ...',\n",
      " 'has_specified_caption': True,\n",
      " 'id': 'jx70ld3F7GA',\n",
      " 'publishedAt': '2020-09-28T08:50:13Z',\n",
      " 'thumbnail': 'https://i.ytimg.com/vi/jx70ld3F7GA/default.jpg',\n",
      " 'title': '&#39;건물 6층&#39; 높이도 가뿐히…&#39;서핑 여제&#39; 신기록 세웠다 / SBS'}\n",
      "{'channel': 'MBCNEWS',\n",
      " 'description': \"산타도, 트리도 아닙니다. 턱수염에 달린 장신구인데요. 미국에 사는 '조엘 스트라서'가 턱수염에 장신구를 가장 \"\n",
      "                '많이 올린 사람으로 ...',\n",
      " 'has_specified_caption': True,\n",
      " 'id': 'Je0sxeRPD58',\n",
      " 'publishedAt': '2022-12-25T23:36:33Z',\n",
      " 'thumbnail': 'https://i.ytimg.com/vi/Je0sxeRPD58/default.jpg',\n",
      " 'title': '[와글와글] 턱수염에 &#39;710개&#39; 장신구‥ &#39;기네스북&#39; 등재 '\n",
      "          '(2022.12.26/뉴스투데이/MBC)'}\n"
     ]
    },
    {
     "name": "stderr",
     "output_type": "stream",
     "text": [
      "2024-07-18 23:02:30,503 - INFO - HTTP Request: POST https://api.openai.com/v1/chat/completions \"HTTP/1.1 200 OK\"\n",
      "2024-07-18 23:02:30,816 - INFO - HTTP Request: POST https://api.openai.com/v1/chat/completions \"HTTP/1.1 200 OK\"\n",
      "2024-07-18 23:02:31,392 - INFO - HTTP Request: POST https://api.openai.com/v1/chat/completions \"HTTP/1.1 200 OK\"\n"
     ]
    }
   ],
   "source": [
    "#input_query = \"\"\"\n",
    "#LF소나타 전조등 교체하는 법 알려줘\n",
    "#\"\"\"\n",
    "input_query = \"\"\"\n",
    "한국인 중에 기네스북에 오른 사람들은 누가 있으며 어떤 분야에서 올랐는지 알려줘\n",
    "\"\"\"\n",
    "responses = full_chain.invoke(input_query)"
   ]
  },
  {
   "cell_type": "code",
   "execution_count": 27,
   "metadata": {},
   "outputs": [
    {
     "data": {
      "text/plain": [
       "{'llm_query': '한국인 중에 기네스북에 오른 사람들과 그들이 어떤 분야에서 기록을 세웠는지 알려줘',\n",
       " 'video_text': [{'video_id': 'IlGqIab-tRA',\n",
       "   'text': '전체 요약 : 한국 대표가 기네스 기록에 도전하는 장면을 담았습니다.\\n\\n본문 내용 :\\n1. 기네스 도전 소개 : - 뭔가 새로운 도전을 좀  해보도록 할 텐데요. 미국 래퍼 리키 브라운이 723절음을  51.27초에 했다고 하는데요. 한국 대표로 기네스 기록에 도전을  해보도록 하겠습니다.\\n2. 도전 시작 : - 3 2 1 시작. 시작.\\n3. 도전 성공 : - 우와. 50초 우와. - 와 뒷골 당겨. - 완전히 이겼어 완전히. 완전 이겼어요.'},\n",
       "  {'video_id': 'jx70ld3F7GA',\n",
       "   'text': '전체 요약 : 브라질 서퍼 마야 가베이라가 22.4m 파도를 타며 기네스 신기록을 세웠습니다.\\n\\n본문 내용 :\\n1. 브라질 서퍼의 기네스 신기록 : -(캐스터) SNS와 인터넷 검색어를 통해 오늘 하루 관심사와 솔직한 반응을 알아보는 오클릭 시간입니다. 브라질의 한 서퍼가 세계에서 가장 높은 파도를 타서 기네스 신기록을 세웠습니다. 그 장면 함께 보시죠. 오클릭 첫 번째 검색어는 22m 파도 탄 서퍼입니다. 포르투갈 나자르 해안입니다. 거대한 파도가 밀려오는데요. 그 한가운데 서퍼 한 명이 서 있습니다. 파도는 점점 커지는데 서퍼는 오히려 빠른 속도의 파도를 즐기는 모습입니다. 이날 파도의 높이는 무려 22.4m로 건물 6층 정도의 높이였다고 하는데요. 이 서퍼는 바로 브라질의 서핑여제, 마야 가베이라였습니다. 이번 도전이 성공하면 가베이라는 기네스 신기록을 세웠는데요. 2018년 본인이 세웠던 세계기록 20.7m를 가뿐히 뛰어넘은 건 물론이고 최근 1년 동안 남녀 서퍼를 통틀어서 최고 기록을 세웠습니다. 7년 전 서핑 도중 다리가 부러져서 익사할 뻔까지 했던 가비에라는 사고 이후 서핑이 즐겁지 않았는데 그때 트라우마를 이겨내기 위해서 엄청난 노력을 기울였다고 합니다. 이를 본 누리꾼들은 와, 애니메이션인 줄. 보는 것만으로도 아찔한데 대단해요. 당신의 모험심과 용기에 박수를 보냅니다 등의 반응을 보였습니다. -(캐스터) SNS와 인터넷 검색어를 통해 오늘 하루 관심사와 솔직한 반응을 알아보는 오클릭 시간입니다. 브라질의 한 서퍼가 세계에서 가장 높은 파도를 타서 기네스 신기록을 세웠습니다. 그 장면 함께 보시죠. 오클릭 첫 번째 검색어는 22m 파도 탄 서퍼입니다. 포르투갈 나자르 해안입니다. 거대한 파도가 밀려오는데요. 그 한가운데 서퍼 한 명이 서 있습니다. 파도는 점점 커지는데 서퍼는 오히려 빠른 속도의 파도를 즐기는 모습입니다. 이날 파도의 높이는 무려 22.4m로 건물 6층 정도의 높이였다고 하는데요. 이 서퍼는 바로 브라질의 서핑여제, 마야 가베이라였습니다. 이번 도전이 성공하면 가베이라는 기네스 신기록을 세웠는데요. 2018년 본인이 세웠던 세계기록 20.7m를 가뿐히 뛰어넘은 건 물론이고 최근 1년 동안 남녀 서퍼를 통틀어서 최고 기록을 세웠습니다. 7년 전 서핑 도중 다리가 부러져서 익사할 뻔까지 했던 가비에라는 사고 이후 서핑이 즐겁지 않았는데 그때 트라우마를 이겨내기 위해서 엄청난 노력을 기울였다고 합니다. 이를 본 누리꾼들은 와, 애니메이션인 줄. 보는 것만으로도 아찔한데 대단해요. 당신의 모험심과 용기에 박수를 보냅니다 등의 반응을 보였습니다.'},\n",
       "  {'video_id': 'Je0sxeRPD58',\n",
       "   'text': '전체 요약 : 기네스북에 오른 한국인과 그들의 기록을 소개합니다.\\n\\n본문 내용 :\\n1. 턱수염 장신구 기록 : 산타도 트리도 아닙니다. 턱수염에 달린 장신구인데요. 미국에 사는 조에 스트레서가 턱수염에장신구를 가장 많이 올린 사람으로 기네스북에 기록됐습니다. 턱수염에 붙인 장신구는 모두 710개. 붙이는 데 든 시간만 2시간 30분. 빼는 데만도 1시간이 넘게 걸렸다고  합니다. 사실 그는 지난 2019년 302개의장신구로 시작해 지난해 686개까지 자신의 기록을 갈아치우고 있는데요. 이미 종이 빨대와 젓가락,  이쑤시개까지 턱수염과 관련한 10개의 기네스북 기록을 가지고 있습니다. 하지만 아직도 그의 목표는 턱수염에  관련한 기록에서 세계 최고가 되는 거라고 하네요.'}]}"
      ]
     },
     "execution_count": 27,
     "metadata": {},
     "output_type": "execute_result"
    }
   ],
   "source": [
    "responses"
   ]
  },
  {
   "cell_type": "markdown",
   "metadata": {},
   "source": [
    "#### 8. 동영상 제작"
   ]
  },
  {
   "cell_type": "code",
   "execution_count": null,
   "metadata": {},
   "outputs": [],
   "source": [
    "import uuid\n",
    "job_id = str(uuid.uuid4())"
   ]
  },
  {
   "cell_type": "markdown",
   "metadata": {},
   "source": [
    "- youtube 컨텐츠 download -> mp4 파일 생성"
   ]
  },
  {
   "cell_type": "code",
   "execution_count": null,
   "metadata": {},
   "outputs": [],
   "source": [
    "from functions import download_youtube\n",
    "\n",
    "for summary in responses:\n",
    "\n",
    "    if not summary.segments:\n",
    "        continue\n",
    "    \n",
    "    youtube_url = f\"https://www.youtube.com/watch?v={summary.video_id}\"\n",
    "\n",
    "    file_path, file_name = download_youtube(youtube_url, job_id=job_id)\n",
    "    print(f\"Downloaded file names : {file_path}\")"
   ]
  },
  {
   "cell_type": "markdown",
   "metadata": {},
   "source": [
    "- 영상 slicing -> segment 영상 파일 생성"
   ]
  },
  {
   "cell_type": "code",
   "execution_count": null,
   "metadata": {},
   "outputs": [],
   "source": [
    "from functions import slice_video\n",
    "\n",
    "for summary in responses:\n",
    "\n",
    "    content_id = job_id + \"_\" + summary.video_id\n",
    "\n",
    "    segments = [(s.start, s.duration, content_id+\"_\"+str(i)+\".mp4\") for i, s in enumerate(summary.segments)]\n",
    "    \n",
    "    results = slice_video(content_id+\".mp4\", segments, height=540, width=960)\n"
   ]
  },
  {
   "cell_type": "markdown",
   "metadata": {},
   "source": [
    "- YouTube 컨텐츠 별 설명 영상 생성\n",
    "- segment별 설명 영상 생성, 영상에 text 삽입"
   ]
  },
  {
   "cell_type": "code",
   "execution_count": null,
   "metadata": {},
   "outputs": [],
   "source": [
    "from functions import Position, draw_text, add_text_to_image, create_video_with_audio_and_image\n",
    "\n",
    "segment_list = [] # concat 할 파일들을 순서대로 저장\n",
    "\n",
    "for summary in responses:\n",
    "\n",
    "    if not summary.segments:\n",
    "        continue\n",
    "\n",
    "    text_config = dict(\n",
    "        position = Position.CENTER,\n",
    "        font_color=(0, 128, 255),\n",
    "        font_size=60,\n",
    "        text = summary.description,\n",
    "    )\n",
    "\n",
    "    content_id = job_id + \"_\" + summary.video_id\n",
    "\n",
    "    add_text_to_image(\"bg_image.png\", content_id+\".png\", **text_config)\n",
    "\n",
    "    text_config = dict(\n",
    "        position = Position.TOP,\n",
    "        font_color=(64, 64, 255),\n",
    "        font_size=48,\n",
    "        text = \"채널 : \"+summary.channel_name,\n",
    "    )\n",
    "\n",
    "    add_text_to_image(content_id+\".png\", content_id+\".png\", **text_config)\n",
    "\n",
    "    create_video_with_audio_and_image(\n",
    "        content_id+\".png\", \n",
    "        content_id+\"_c.mp4\", \n",
    "        text = summary.description,\n",
    "        width = 640,\n",
    "        height = 360,\n",
    "    )\n",
    "\n",
    "    segment_list.append(content_id+\"_c.mp4\")\n",
    "\n",
    "    for i, s in enumerate(summary.segments):\n",
    "\n",
    "        segment_id = content_id + \"_\" + str(i)\n",
    "\n",
    "        text_config = dict(\n",
    "            position = Position.CENTER,\n",
    "            font_color=(0, 0, 255),\n",
    "            font_size=80,\n",
    "            text = s.title,\n",
    "        )\n",
    "\n",
    "        add_text_to_image(\"bg_image.png\", segment_id+\".png\", **text_config)\n",
    "\n",
    "        create_video_with_audio_and_image(\n",
    "            segment_id+\".png\", \n",
    "            segment_id+\"_c.mp4\", \n",
    "            text = s.title,\n",
    "            width = 640,\n",
    "            height = 360,\n",
    "            )\n",
    "        \n",
    "        segment_list.append(segment_id+\"_c.mp4\")\n",
    "\n",
    "        text_config.update(\n",
    "            position = Position.BOTTOM,\n",
    "            color = (255, 0, 0),\n",
    "            font_size = 72,\n",
    "        )\n",
    "\n",
    "        draw_text(segment_id+\".mp4\", [(0, s.duration, text_config)])\n",
    "\n",
    "        segment_list.append(segment_id+\"_t.mp4\")\n"
   ]
  },
  {
   "cell_type": "code",
   "execution_count": null,
   "metadata": {},
   "outputs": [],
   "source": [
    "# <UUID>_<video_id>_c.mp4 : video 표지 영상\n",
    "# <UUID>_<video_id>_n_c.mp4 : n번 segment 표지 영상\n",
    "# <UUID>_<video_id>_n_t.mp4 : n번 segment 영상\n",
    "\n",
    "segment_list"
   ]
  },
  {
   "cell_type": "markdown",
   "metadata": {},
   "source": [
    "- segment화된 영상들 이어 붙이기"
   ]
  },
  {
   "cell_type": "code",
   "execution_count": null,
   "metadata": {},
   "outputs": [],
   "source": [
    "from functions import concatenate_videos\n",
    "\n",
    "#output_file = \"삼성SDS_FabriX.mp4\"\n",
    "output_file = \"기네스북_한국인.mp4\"\n",
    "\n",
    "concatenate_videos(segment_list, output_file, width=640 , height=360 )"
   ]
  }
 ],
 "metadata": {
  "kernelspec": {
   "display_name": "Python 3",
   "language": "python",
   "name": "python3"
  },
  "language_info": {
   "codemirror_mode": {
    "name": "ipython",
    "version": 3
   },
   "file_extension": ".py",
   "mimetype": "text/x-python",
   "name": "python",
   "nbconvert_exporter": "python",
   "pygments_lexer": "ipython3",
   "version": "3.10.10"
  }
 },
 "nbformat": 4,
 "nbformat_minor": 2
}
