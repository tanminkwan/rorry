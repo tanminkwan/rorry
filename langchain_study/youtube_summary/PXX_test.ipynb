{
 "cells": [
  {
   "cell_type": "code",
   "execution_count": 5,
   "metadata": {},
   "outputs": [
    {
     "name": "stdout",
     "output_type": "stream",
     "text": [
      "[youtube] Extracting URL: https://www.youtube.com/watch?v=I-cxigjLG0I\n",
      "[youtube] I-cxigjLG0I: Downloading webpage\n",
      "[youtube] I-cxigjLG0I: Downloading ios player API JSON\n",
      "[youtube] I-cxigjLG0I: Downloading player e38bb6de\n"
     ]
    },
    {
     "name": "stderr",
     "output_type": "stream",
     "text": [
      "WARNING: [youtube] I-cxigjLG0I: nsig extraction failed: Some formats may be missing\n",
      "         n = eFmJDdxcy9AWGsKI ; player = https://www.youtube.com/s/player/e38bb6de/player_ias.vflset/en_US/base.js\n",
      "WARNING: [youtube] I-cxigjLG0I: nsig extraction failed: Some formats may be missing\n",
      "         n = RcZkLRWTBK-pvMse ; player = https://www.youtube.com/s/player/e38bb6de/player_ias.vflset/en_US/base.js\n"
     ]
    },
    {
     "name": "stdout",
     "output_type": "stream",
     "text": [
      "[youtube] I-cxigjLG0I: Downloading m3u8 information\n",
      "[info] Testing format 614\n",
      "[info] I-cxigjLG0I: Downloading 1 format(s): 614+140\n",
      "[hlsnative] Downloading m3u8 manifest\n",
      "[hlsnative] Total fragments: 26\n",
      "[download] Destination: Hanni_I-cxigjLG0I.f614.mp4\n",
      "[download] 100% of   17.37MiB in 00:00:01 at 13.30MiB/s                  \n",
      "[download] Destination: Hanni_I-cxigjLG0I.f140.m4a\n",
      "[download] 100% of    2.09MiB in 00:00:00 at 2.78MiB/s   \n",
      "[Merger] Merging formats into \"Hanni_I-cxigjLG0I.mp4\"\n",
      "Deleting original file Hanni_I-cxigjLG0I.f614.mp4 (pass -k to keep)\n",
      "Deleting original file Hanni_I-cxigjLG0I.f140.m4a (pass -k to keep)\n"
     ]
    },
    {
     "data": {
      "text/plain": [
       "'Hanni_I-cxigjLG0I.mp4'"
      ]
     },
     "execution_count": 5,
     "metadata": {},
     "output_type": "execute_result"
    }
   ],
   "source": [
    "from functions import download_youtube\n",
    "#video_id = 'ek05M8eCk7M'\n",
    "video_id = 'I-cxigjLG0I'\n",
    "youtube_url = f\"https://www.youtube.com/watch?v={video_id}\"\n",
    "job_id = 'Hanni'\n",
    "file_path, file_name =  download_youtube(youtube_url, job_id=job_id)\n",
    "file_name"
   ]
  },
  {
   "cell_type": "code",
   "execution_count": 6,
   "metadata": {},
   "outputs": [
    {
     "name": "stderr",
     "output_type": "stream",
     "text": [
      "2024-09-13 10:20:37,355 - INFO - Successfully created segment: hanni2.mp4\n"
     ]
    },
    {
     "data": {
      "text/plain": [
       "[{'output_name': 'hanni2.mp4',\n",
       "  'start': 0,\n",
       "  'duration': 240,\n",
       "  'success': True,\n",
       "  'error': None}]"
      ]
     },
     "execution_count": 6,
     "metadata": {},
     "output_type": "execute_result"
    }
   ],
   "source": [
    "from functions import slice_video\n",
    "slice_video(file_name, [(0, 240, 'hanni2.mp4')], height=540, width=960)"
   ]
  },
  {
   "cell_type": "code",
   "execution_count": 10,
   "metadata": {},
   "outputs": [],
   "source": [
    "import cv2\n",
    "import face_recognition\n",
    "\n",
    "# 특정 인물의 이미지를 로드하여 인코딩\n",
    "known_image = face_recognition.load_image_file(\"test_hanni2.jpg\")\n",
    "known_face_encoding = face_recognition.face_encodings(known_image)[0]\n",
    "\n",
    "# 비디오 파일 로드\n",
    "video_capture = cv2.VideoCapture('hanni.mp4')\n",
    "\n",
    "# 변수 초기화\n",
    "trackers = []\n",
    "face_names = []\n",
    "face_distances = []\n",
    "frame_skip = 12\n",
    "frame_count = 0\n",
    "\n",
    "while True:\n",
    "    # 비디오에서 한 프레임씩 읽기\n",
    "    ret, frame = video_capture.read()\n",
    "\n",
    "    if not ret:\n",
    "        break\n",
    "\n",
    "    frame_count += 1\n",
    "\n",
    "    rgb_frame = cv2.cvtColor(frame, cv2.COLOR_BGR2RGB)\n",
    "\n",
    "    if frame_count % frame_skip == 0:\n",
    "        # 추적기와 얼굴 정보 초기화\n",
    "        trackers = []\n",
    "        face_names = []\n",
    "        face_distances = []\n",
    "\n",
    "        # 얼굴 위치와 인코딩 탐지\n",
    "        face_locations = face_recognition.face_locations(rgb_frame)\n",
    "        face_encodings = face_recognition.face_encodings(rgb_frame, face_locations)\n",
    "\n",
    "        for face_location, face_encoding in zip(face_locations, face_encodings):\n",
    "            top, right, bottom, left = face_location\n",
    "\n",
    "            # 얼굴 거리 계산\n",
    "            distance = face_recognition.face_distance([known_face_encoding], face_encoding)[0]\n",
    "\n",
    "            # 임계값 설정 (예: 0.6)\n",
    "            tolerance = 0.46\n",
    "\n",
    "            if distance < tolerance:\n",
    "                name = \"Specific Person\"\n",
    "            else:\n",
    "                name = \"Unknown\"\n",
    "\n",
    "            # 추적기 초기화\n",
    "            tracker = cv2.legacy.TrackerKCF_create()\n",
    "            bbox = (left, top, right - left, bottom - top)\n",
    "            tracker.init(frame, bbox)\n",
    "            trackers.append(tracker)\n",
    "            face_names.append(name)\n",
    "            face_distances.append(distance)\n",
    "    else:\n",
    "        # 모든 추적기 업데이트\n",
    "        new_trackers = []\n",
    "        new_face_names = []\n",
    "        new_face_distances = []\n",
    "\n",
    "        for tracker, name, distance in zip(trackers, face_names, face_distances):\n",
    "            success, bbox = tracker.update(frame)\n",
    "            if success:\n",
    "                new_trackers.append(tracker)\n",
    "                new_face_names.append(name)\n",
    "                new_face_distances.append(distance)\n",
    "                left, top, width, height = [int(v) for v in bbox]\n",
    "                right = left + width\n",
    "                bottom = top + height\n",
    "\n",
    "                # 사각형과 텍스트 표시\n",
    "                if name == \"Specific Person\":\n",
    "                    # 특정 인물에 대해 빨간색 사각형과 이름 및 거리 표시\n",
    "                    cv2.rectangle(frame, (left, top), (right, bottom), (0, 0, 255), 2)\n",
    "                    # 이름 표시\n",
    "                    cv2.putText(frame, name, (left, bottom + 20), cv2.FONT_HERSHEY_SIMPLEX, 0.6, (0, 0, 255), 2)\n",
    "                    # 거리 표시 (이름 아래)\n",
    "                    cv2.putText(frame, f\"Distance: {distance:.2f}\", (left, bottom + 45), cv2.FONT_HERSHEY_SIMPLEX, 0.6, (0, 0, 255), 2)\n",
    "                else:\n",
    "                    # 다른 인물에 대해 초록색 사각형과 이름만 표시\n",
    "                    cv2.rectangle(frame, (left, top), (right, bottom), (0, 255, 0), 2)\n",
    "                    cv2.putText(frame, name, (left, bottom + 20), cv2.FONT_HERSHEY_SIMPLEX, 0.6, (0, 255, 0), 2)\n",
    "                    # 거리 표시 (이름 아래)\n",
    "                    cv2.putText(frame, f\"Distance: {distance:.2f}\", (left, bottom + 45), cv2.FONT_HERSHEY_SIMPLEX, 0.6, (0, 255, 0), 2)\n",
    "\n",
    "        # 추적기와 얼굴 정보 업데이트\n",
    "        trackers = new_trackers\n",
    "        face_names = new_face_names\n",
    "        face_distances = new_face_distances\n",
    "\n",
    "    # 비디오 출력\n",
    "    cv2.imshow('Video', frame)\n",
    "\n",
    "    # 'q' 키를 누르면 종료\n",
    "    if cv2.waitKey(1) & 0xFF == ord('q'):\n",
    "        break\n",
    "\n",
    "# 모든 작업 완료 후 클린업\n",
    "video_capture.release()\n",
    "cv2.destroyAllWindows()\n"
   ]
  }
 ],
 "metadata": {
  "kernelspec": {
   "display_name": "Python 3",
   "language": "python",
   "name": "python3"
  },
  "language_info": {
   "codemirror_mode": {
    "name": "ipython",
    "version": 3
   },
   "file_extension": ".py",
   "mimetype": "text/x-python",
   "name": "python",
   "nbconvert_exporter": "python",
   "pygments_lexer": "ipython3",
   "version": "3.12.1"
  }
 },
 "nbformat": 4,
 "nbformat_minor": 2
}
