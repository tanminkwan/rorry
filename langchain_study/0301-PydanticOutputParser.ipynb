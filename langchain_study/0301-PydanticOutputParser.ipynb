{
 "cells": [
  {
   "cell_type": "code",
   "execution_count": 3,
   "metadata": {},
   "outputs": [],
   "source": [
    "# API Key를 환경변수로 관리하기 위한 설정 파일\n",
    "\n",
    "from dotenv import load_dotenv\n",
    "\n",
    "# API Key 정보로드\n",
    "load_dotenv()\n",
    "\n",
    "import os\n",
    "os.environ[\"LANGCHAIN_PROJECT\"] = \"langchain_study\""
   ]
  },
  {
   "cell_type": "code",
   "execution_count": 36,
   "metadata": {},
   "outputs": [],
   "source": [
    "from langchain_openai import ChatOpenAI\n",
    "\n",
    "llm = ChatOpenAI(\n",
    "    temperature=0,\n",
    "    max_tokens=2048,\n",
    "    model=\"gpt-4o\",\n",
    ")"
   ]
  },
  {
   "cell_type": "code",
   "execution_count": 49,
   "metadata": {},
   "outputs": [],
   "source": [
    "from langchain_community.llms import Ollama\n",
    "\n",
    "llm = Ollama(model=\"aya\", temperature=0)"
   ]
  },
  {
   "cell_type": "code",
   "execution_count": 44,
   "metadata": {},
   "outputs": [],
   "source": [
    "from typing import List\n",
    "from langchain_core.pydantic_v1 import BaseModel, Field\n",
    "\n",
    "class HistorySummary(BaseModel):\n",
    "    title: str = Field(description=\"제목\")\n",
    "    when: str = Field(description=\"언제\")\n",
    "    where: str = Field(description=\"어디서\")\n",
    "    characters: List[str] = Field(description=\"주요등장인물\")\n",
    "    summary: str = Field(description=\"사건 요약\")\n",
    "\n",
    "instruction = \"\"\"내용을 아래와 같은 방식으로 정리해줘. 사건 요약은 100자 내외로 요약해줘.\n",
    "---\n",
    "제목 : ...\n",
    "언제 : ...\n",
    "어디서 : ...\n",
    "주요등장인물 : ...\n",
    "사건 요약 : ...\n",
    "\"\"\"\n",
    "content = \"\"\"\n",
    "다음은 카이사르의 히스파니아 정벌에 대한 이야기이다. \n",
    "카이사르는 폼페이우스가 그리스로 떠난 뒤 3월 25일 베네벤토와 3월 26일 카푸아에 입성하여 남이탈리아 평정을 마무리하고 4월 1일 수도인 로마에 입성했다. 당시 집정관이었던 대 가이우스 클라우디우스 마르켈루스와 루키우스 코르넬리우스 렌툴루스 크루스가 모두 폼페이우스를 따라갔기 때문에 로마에는 최고 통치자가 없는 상황이었다. 이에 카이사르는 마르쿠스 아이밀리우스 레피두스를 법무관으로 선출시켜 수도 로마의 통치를 맡기고 카이사르 자신은 뒤쫓아 온 3개 군단과 합류하여 4월 7일 히스파니아로 떠났다. 당시 폼페이우스의 세력은 히스파니아, 북아프리카, 동방 속주에 걸쳐 퍼져 있었기 때문에 카이사르는 그 전에 배후의 안전을 먼저 확보할 생각이었던 것이다. 그리고 혹시 모르는 폼페이우스의 공격을 대비하기 위해 호민관 자격의 마르쿠스 안토니우스에게 군권을 맡기고 그의 동생 가이우스 안토니우스와 푸블리우스 코르넬리우스 돌라벨라에게 전함 40척을 이끌고 이탈리아와 그리스 사이의 아드리아 해를 방어하도록 하였다.\n",
    "히스파니아로 출발한 카이사르는 엄청난 속도로 행군하여 4월 17일 폼페이우스의 부하들이 지휘하는 군대가 있는 마실리아(현재의 마르세유)에 도착했고 그곳에서 갈리아의 나머지 군단과 합류하는 한편 로마 점령 후 확보한 막대한 국고를 이용하여 군함 12척을 건조하도록 하였다. 그리고 1달 정도 마실리아를 공격하던 카이사르는 마실리아의 저항이 만만치 않자 가이우스 트레보니우스에게 3개 군단을 맡기고 데키무스 브루투스에게 새로 건조된 군함들을 맡겨 각각 지상과 해상에서 마실리아를 공격하도록 한 후 자신은 나머지 6개 군단, 보병 27,000명과 기병 3,000기를 이끌고 피레네 산맥을 넘어 6월 22일 바르셀로나에서 서쪽으로 130km 떨어진 일레르다에 도착했다. 당시 일레르다에는 히스파니아의 두 속주 총독인 폼페이우스를 대신하여 루키우스 아프라니우스와 마르쿠스 페트레이우스가 부총독으로 부임해 있었고 5개 군단과 현지 병력 48,000명을 포함한 총 78,000명의 병력을 보유하고 있었다.(일레르다 전투]) 카이사르는 세그레 강에서 급작스런 홍수를 만나 보급선이 차단당하면서 고전하였으나 작은 배를 연결한 다리를 이용하여 세그레 강을 건너면서 고립상태에서 벗어났다.\n",
    "이후 카이사르는 일레르다 바로 아래쪽에 흐르는 슈리스 강의 물줄기를 일부 바꾸어 자기 진영으로 흐르도록 만들어 이번에는 폼페이우스 군의 보급선을 차단하였다. 이로 인한 식량 부족으로 폼페이우스 군의 탈영병이 급증했고 형세가 불리해지자 후퇴하였으나 카이사르의 추격을 받아 8월 2일 결국 항복해야만 했다. 이후 아프라니우스와 페트레이우스는 다시는 전쟁에 참여하지 않겠다고 약속하고 풀려났으나 이를 어기고 그리스에 있는 폼페이우스에 합류하게 된다. 9월 6일 오랫동안 버티던 마실리아가 함락되고 카이사르가 9월 17일 남쪽 끝의 카디스에 도착한 후 다시 북상하자 9월 25일 타라고나에서 2개 군단을 보유했던 마르쿠스 테렌티우스 바로가 싸워보지도 않고 항복하였다. 이로서 히스파니아는 완전히 카이사르의 수중으로 떨어졌고 카이사르는 로마로 되돌아가 폼페이우스와의 직접 대결을 준비하게 된다.\n",
    "\"\"\""
   ]
  },
  {
   "cell_type": "code",
   "execution_count": 45,
   "metadata": {},
   "outputs": [],
   "source": [
    "from langchain.output_parsers import PydanticOutputParser\n",
    "\n",
    "parser = PydanticOutputParser(pydantic_object=HistorySummary)"
   ]
  },
  {
   "cell_type": "code",
   "execution_count": 46,
   "metadata": {},
   "outputs": [],
   "source": [
    "from langchain.prompts import PromptTemplate\n",
    "\n",
    "prompt = PromptTemplate.from_template(\n",
    "\"\"\"\n",
    "You are a historian and a story teller.\n",
    "\n",
    "Instruction :\n",
    "{instruction}\n",
    "\n",
    "Content :\n",
    "{content}\n",
    "\n",
    "Format :\n",
    "{format}\n",
    "\"\"\"\n",
    ")\n",
    "\n",
    "# format에 PydanticOutputParser의 format 추가\n",
    "prompt = prompt.partial(format=parser.get_format_instructions())"
   ]
  },
  {
   "cell_type": "markdown",
   "metadata": {},
   "source": [
    "#### llm의 output schema의 다름은 parser가 해결(target에 맞춰줌)"
   ]
  },
  {
   "cell_type": "code",
   "execution_count": 58,
   "metadata": {},
   "outputs": [],
   "source": [
    "chain = prompt | llm | parser"
   ]
  },
  {
   "cell_type": "code",
   "execution_count": 59,
   "metadata": {},
   "outputs": [
    {
     "data": {
      "text/plain": [
       "{'title': 'HistorySummary',\n",
       " 'type': 'object',\n",
       " 'properties': {'title': {'title': 'Title',\n",
       "   'description': '제목',\n",
       "   'type': 'string'},\n",
       "  'when': {'title': 'When', 'description': '언제', 'type': 'string'},\n",
       "  'where': {'title': 'Where', 'description': '어디서', 'type': 'string'},\n",
       "  'characters': {'title': 'Characters',\n",
       "   'description': '주요등장인물',\n",
       "   'type': 'array',\n",
       "   'items': {'type': 'string'}},\n",
       "  'summary': {'title': 'Summary', 'description': '사건 요약', 'type': 'string'}},\n",
       " 'required': ['title', 'when', 'where', 'characters', 'summary']}"
      ]
     },
     "execution_count": 59,
     "metadata": {},
     "output_type": "execute_result"
    }
   ],
   "source": [
    "chain.output_schema.schema()"
   ]
  },
  {
   "cell_type": "code",
   "execution_count": 60,
   "metadata": {},
   "outputs": [],
   "source": [
    "response = chain.invoke(\n",
    "    {\n",
    "        \"instruction\": instruction,\n",
    "        \"content\": content,\n",
    "    }\n",
    ")"
   ]
  },
  {
   "cell_type": "code",
   "execution_count": 61,
   "metadata": {},
   "outputs": [
    {
     "data": {
      "text/plain": [
       "HistorySummary(title='카이사르의 히스파니아 정벌', when='기원전 49년 3월 25일 ~ 7월 1일', where='이탈리아, 그리스, 히스파니아, 북아프리카, 동방 속주, 아드리아 해, 피레네 산맥, 일레르다, 슈리스 강, 카디스, 타라고나', characters=['유벤투스(Juvenal)', '루시우스 아프라니우스(Lucius Afranius)', '마쿠스 페트레이우스(Marcus Petreius)', '데키무스 브루투스(Decimus Brutus)', '카이우스 트레보니우스(Gaius Trebonius)', '루키우스 코르넬리우스 렌툴루스 크루스(Lucius Cornelius Lentulus Crus)', '대 가이우스 클라우디우스 마르켈루스(Gaius Claudius Marcellus)', '마쿠스 안토니우스(Markus Antonius)', '카이사르(Caesar)'], summary='기원전 49년, 폼페이우스가 그리스로 떠난 후 카이사르는 베네벤토와 카푸아를 점령하고 남이탈리아를 평정하여 로마로 귀환했다. 그러나 로마에는 최고 통치가 없었기 때문에 카이사르는 법무관 레피두스를 임명하고 자신은 히스파니아로 출발했다. 마실리아에 도착한 카이사르는 갈리아의 군단과 국고를 이용하여 군함을 건조하고, 마실리아를 공격했다. 세그레 강의 홍수로 고전했지만 다리를 이용하여 고립에서 벗어났고, 슈리스 강의 물길을 바꾸어 폼페이우스군의 보급선을 차단했다. 결국 일레르다 전투에서 폼페이우스군은 항복했고, 카이사르는 히스파니아를 평정하고 로마로 귀환하여 폼페이우스와의 대결을 준비했다.')"
      ]
     },
     "execution_count": 61,
     "metadata": {},
     "output_type": "execute_result"
    }
   ],
   "source": [
    "response"
   ]
  },
  {
   "cell_type": "markdown",
   "metadata": {},
   "source": [
    "#### chain에 parser 없이 response 받는 경우 HistorySummary 객체 변환 방법"
   ]
  },
  {
   "cell_type": "code",
   "execution_count": 56,
   "metadata": {},
   "outputs": [
    {
     "data": {
      "text/plain": [
       "{'title': '카이사르의 히스파니아 정벌',\n",
       " 'when': '기원전 49년 3월 25일 ~ 7월 1일',\n",
       " 'where': '이탈리아, 그리스, 히스파니아, 북아프리카, 동방 속주, 아드리아 해, 피레네 산맥, 일레르다, 슈리스 강, 카디스, 타라고나',\n",
       " 'characters': ['유벤투스(Juvenal)',\n",
       "  '루시우스 아프라니우스(Lucius Afranius)',\n",
       "  '마쿠스 페트레이우스(Marcus Petreius)',\n",
       "  '데키무스 브루투스(Decimus Brutus)',\n",
       "  '카이우스 트레보니우스(Gaius Trebonius)',\n",
       "  '루키우스 코르넬리우스 렌툴루스 크루스(Lucius Cornelius Lentulus Crus)',\n",
       "  '대 가이우스 클라우디우스 마르켈루스(Gaius Claudius Marcellus)',\n",
       "  '마쿠스 안토니우스(Markus Antonius)',\n",
       "  '카이사르(Caesar)'],\n",
       " 'summary': '기원전 49년, 폼페이우스가 그리스로 떠난 후 카이사르는 베네벤토와 카푸아를 점령하고 남이탈리아를 평정하여 로마로 귀환했다. 그러나 로마에는 최고 통치가 없었기 때문에 카이사르는 법무관 레피두스를 임명하고 자신은 히스파니아로 출발했다. 마실리아에 도착한 카이사르는 갈리아의 군단과 국고를 이용하여 군함을 건조하고, 마실리아를 공격했다. 세그레 강의 홍수로 고전했지만 다리를 이용하여 고립에서 벗어났고, 슈리스 강의 물길을 바꾸어 폼페이우스군의 보급선을 차단했다. 결국 일레르다 전투에서 폼페이우스군은 항복했고, 카이사르는 히스파니아를 평정하고 로마로 귀환하여 폼페이우스와의 대결을 준비했다.'}"
      ]
     },
     "execution_count": 56,
     "metadata": {},
     "output_type": "execute_result"
    }
   ],
   "source": [
    "# HistorySummary 객체로 변환\n",
    "# Ollama, Huggingface 객체는 JSON string을 반환함\n",
    "if isinstance(llm, Ollama):\n",
    "    import json\n",
    "    dict_obj = json.loads(response)\n",
    "    obj = HistorySummary(**dict_obj)\n",
    "else:\n",
    "    obj = response.content\n",
    "\n",
    "obj"
   ]
  }
 ],
 "metadata": {
  "kernelspec": {
   "display_name": "Python 3",
   "language": "python",
   "name": "python3"
  },
  "language_info": {
   "codemirror_mode": {
    "name": "ipython",
    "version": 3
   },
   "file_extension": ".py",
   "mimetype": "text/x-python",
   "name": "python",
   "nbconvert_exporter": "python",
   "pygments_lexer": "ipython3",
   "version": "3.12.1"
  }
 },
 "nbformat": 4,
 "nbformat_minor": 2
}
