{
 "cells": [
  {
   "cell_type": "code",
   "execution_count": 8,
   "metadata": {},
   "outputs": [],
   "source": [
    "import requests\n",
    "import base64\n",
    "\n",
    "# Define the URL and the payload to send.\n",
    "url = \"http://127.0.0.1:7860\"\n",
    "\n",
    "payload = {\n",
    "    \"prompt\": \"puppy dog\",\n",
    "    \"steps\": 5\n",
    "}\n",
    "\n",
    "# Send said payload to said URL through the API.\n",
    "response = requests.post(url=f'{url}/sdapi/v1/txt2img', json=payload)\n",
    "r = response.json()\n",
    "\n",
    "# Decode and save the image.\n",
    "with open(\"output.png\", 'wb') as f:\n",
    "    f.write(base64.b64decode(r['images'][0]))"
   ]
  },
  {
   "cell_type": "code",
   "execution_count": 56,
   "metadata": {},
   "outputs": [
    {
     "name": "stdout",
     "output_type": "stream",
     "text": [
      "Face swapped image saved to face_swapped_result.png\n"
     ]
    }
   ],
   "source": [
    "import requests\n",
    "import io\n",
    "import base64\n",
    "from PIL import Image\n",
    "\n",
    "def face_swap(source_image_path, target_image_path, output_path):\n",
    "    url = \"http://127.0.0.1:7860/reactor/image\"\n",
    "\n",
    "    # 이미지 로드 및 base64 인코딩\n",
    "    with open(source_image_path, \"rb\") as source_file:\n",
    "        #source_image = f\"data:image/jpeg;base64,{base64.b64encode(source_file.read()).decode('utf-8')}\"\n",
    "        source_image = base64.b64encode(source_file.read()).decode('utf-8')\n",
    "    \n",
    "    #print(source_image)\n",
    "    with open(target_image_path, \"rb\") as target_file:\n",
    "        #target_width, target_height = target_img.size\n",
    "        #target_image = f\"data:image/jpeg;base64,{base64.b64encode(target_img.tobytes()).decode('utf-8')}\"\n",
    "        target_image = base64.b64encode(target_file.read()).decode('utf-8')\n",
    "    #print(target_image)\n",
    "    headers = {\n",
    "        'accept': 'application/json',\n",
    "        'Content-Type': 'application/json'\n",
    "    }\n",
    "    \n",
    "    payload = {\n",
    "        \"source_image\": source_image,\n",
    "        #\"source_image\": \"\",\n",
    "        \"target_image\": target_image,\n",
    "        #\"target_image\": \"\",\n",
    "        \"source_faces_index\": [0],\n",
    "        \"face_index\": [0,1,2,3],\n",
    "        \"upscaler\": \"None\",\n",
    "        \"scale\": 1,\n",
    "        \"upscale_visibility\": 1,\n",
    "        \"face_restorer\": \"CodeFormer\",\n",
    "        \"restorer_visibility\": 1,\n",
    "        \"restore_first\": 1,\n",
    "        \"model\": \"inswapper_128.onnx\", #.\\models\\insightface\n",
    "        \"gender_source\": 0,\n",
    "        \"gender_target\": 0,\n",
    "        \"save_to_file\": 0,\n",
    "        #\"result_file_path\": \"\",\n",
    "        \"device\": \"GPU\",\n",
    "        \"mask_face\": 0,\n",
    "        \"select_source\": 0,\n",
    "        #\"face_model\": \"elena.safetensors\",\n",
    "        #\"source_folder\": \"C:/faces\",\n",
    "        #\"random_image\": 1,\n",
    "        \"upscale_force\": 0\n",
    "    }\n",
    "\n",
    "    response = requests.post(url=url, headers=headers, json=payload)\n",
    "    response.raise_for_status()\n",
    "    \n",
    "    # 결과 이미지 저장\n",
    "    result = response.json()\n",
    "    image_data = base64.b64decode(result['image'])\n",
    "    image = Image.open(io.BytesIO(image_data))\n",
    "    image.save(output_path)\n",
    "    print(f\"Face swapped image saved to {output_path}\")\n",
    "\n",
    "# 사용 예시\n",
    "source_image_path = \"./faces/김태희.jpg\"  # 소스 얼굴 이미지 경로\n",
    "target_image_path = \"./faces/bk.goldengirls01.jpg\"  # 대상 이미지 경로\n",
    "output_path = \"face_swapped_result.png\"  # 결과 이미지 저장 경로\n",
    "\n",
    "face_swap(source_image_path, target_image_path, output_path)"
   ]
  },
  {
   "cell_type": "code",
   "execution_count": null,
   "metadata": {},
   "outputs": [],
   "source": [
    "base_image = \"../face_recognition/test_hanni2.jpg\"\n",
    "target_video = \"hanni.mp4\"\n",
    "\n",
    "import cv2\n",
    "import face_recognition\n",
    "\n",
    "# 특정 인물의 이미지를 로드하여 인코딩\n",
    "known_image = face_recognition.load_image_file(base_image)\n",
    "known_face_encoding = face_recognition.face_encodings(known_image)[0]\n",
    "\n",
    "# 비디오 파일 로드\n",
    "video_capture = cv2.VideoCapture(target_video)"
   ]
  }
 ],
 "metadata": {
  "kernelspec": {
   "display_name": "Python 3",
   "language": "python",
   "name": "python3"
  },
  "language_info": {
   "codemirror_mode": {
    "name": "ipython",
    "version": 3
   },
   "file_extension": ".py",
   "mimetype": "text/x-python",
   "name": "python",
   "nbconvert_exporter": "python",
   "pygments_lexer": "ipython3",
   "version": "3.10.10"
  }
 },
 "nbformat": 4,
 "nbformat_minor": 2
}
