{
 "cells": [
  {
   "cell_type": "markdown",
   "metadata": {},
   "source": [
    "## [실습 환경 Setting]\n",
    "### 1. RealESRGAN 설치\n",
    "- Download RealESRGAN pjt :\n",
    "    ```\n",
    "    pip install basicsr\n",
    "    pip install facexlib\n",
    "    pip install gfpgan\n",
    "    git clone https://github.com/xinntao/Real-ESRGAN.git\n",
    "    <python_home>/Lib/site-packages 위치에 Real-ESRGAN directory 통 copy\n",
    "    cd <python_home>/Lib/site-packages/Real-ESRGAN\n",
    "    pip install -r requirements.txt\n",
    "    python setup.py develop\n",
    "    ```\n",
    "### 2. RealESRGAN 용 AI Model 설치\n",
    "- Download RealESRGAN model(Restoring model):\n",
    "    https://github.com/sczhou/CodeFormer/releases/download/v0.1.0/codeformer.pth\n",
    "    \n",
    "    저장 위치 : python code 에 model 위치 명시"
   ]
  },
  {
   "cell_type": "code",
   "execution_count": 4,
   "metadata": {},
   "outputs": [
    {
     "name": "stdout",
     "output_type": "stream",
     "text": [
      "\tTile 1/2\n",
      "\tTile 2/2\n",
      "업스케일링된 이미지가 upscaled_image.png에 저장되었습니다.\n"
     ]
    }
   ],
   "source": [
    "import torch\n",
    "import cv2\n",
    "import numpy as np\n",
    "from basicsr.archs.rrdbnet_arch import RRDBNet\n",
    "from realesrgan import RealESRGANer\n",
    "\n",
    "def upscale_image(input_path, output_path, model_path, scale=2):\n",
    "    # 장치 설정\n",
    "    device = torch.device('cuda' if torch.cuda.is_available() else 'cpu')\n",
    "    \n",
    "    # 모델 생성\n",
    "    model = RRDBNet(num_in_ch=3, num_out_ch=3, num_feat=64, num_block=23, num_grow_ch=32, scale=scale)\n",
    "    \n",
    "    # 업스케일러 생성 (half=False로 설정하여 FP32 사용)\n",
    "    upscaler = RealESRGANer(scale=scale, model_path=model_path, model=model, tile=400, tile_pad=10, pre_pad=0, half=False)\n",
    " \n",
    "    # 이미지 로드 (OpenCV 사용)\n",
    "    img = cv2.imread(input_path)\n",
    "    img = cv2.cvtColor(img, cv2.COLOR_BGR2RGB)  # BGR에서 RGB로 변환\n",
    "    \n",
    "    # 업스케일링 수행\n",
    "    output, _ = upscaler.enhance(img, outscale=scale)\n",
    "    \n",
    "    # 결과 저장 (OpenCV 사용)\n",
    "    output = cv2.cvtColor(output, cv2.COLOR_RGB2BGR)  # RGB에서 BGR로 변환\n",
    "    cv2.imwrite(output_path, output)\n",
    "    \n",
    "    print(f\"업스케일링된 이미지가 {output_path}에 저장되었습니다.\")\n",
    "\n",
    "if __name__ == \"__main__\":\n",
    "    input_path = r'C:\\pypjt\\images\\hugging.jpg'  # 입력 이미지 경로\n",
    "    output_path = \"upscaled_image.png\"  # 출력 이미지 경로\n",
    "    model_path = r\"C:\\pypjt\\restore\\Lib\\site-packages\\Real-ESRGAN\\weights\\RealESRGAN_x4plus.pth\"  # Real-ESRGAN 모델 파일 경로\n",
    "    \n",
    "    upscale_image(input_path, output_path, model_path, scale=4)"
   ]
  },
  {
   "cell_type": "code",
   "execution_count": null,
   "metadata": {},
   "outputs": [],
   "source": [
    "import cv2\n",
    "from basicsr.archs.rrdbnet_arch import RRDBNet\n",
    "from realesrgan import RealESRGANer\n",
    "from insightface.utils import face_align\n",
    "\n",
    "# RealESRGAN을 이용한 업스케일링\n",
    "model = RRDBNet(num_in_ch=3, num_out_ch=3, num_feat=64, num_block=23, num_grow_ch=32, scale=2)\n",
    "upsampler = RealESRGANer(\n",
    "    scale=2, model_path='weights/RealESRGAN_x4plus.pth', model=model, tile=400, tile_pad=10, pre_pad=0, half=True\n",
    ")\n",
    "\n",
    "# 이미지 불러오기\n",
    "image = cv2.imread(r'C:\\pypjt\\images\\hugging.jpg')\n",
    "\n",
    "# 리사이즈된 이미지를 업스케일링\n",
    "upscaled_image, _ = upsampler.enhance(image, outscale=2)\n",
    "\n",
    "# 결과 저장\n",
    "cv2.imwrite('upscaled_image.jpg', upscaled_image)\n"
   ]
  },
  {
   "cell_type": "code",
   "execution_count": null,
   "metadata": {},
   "outputs": [],
   "source": [
    "import torch\n",
    "import cv2\n",
    "import numpy as np\n",
    "from basicsr.archs.rrdbnet_arch import RRDBNet\n",
    "from basicsr.utils.realesrgan_utils import RealESRGANer\n",
    "from typing import Literal\n",
    "\n",
    "UPSCALE_MODEL_X2 = r\"C:\\pypjt\\restore\\Lib\\site-packages\\Real-ESRGAN\\weights\\RealESRGAN_x2plus.pth\"\n",
    "UPSCALE_MODEL_X4 = r\"C:\\pypjt\\restore\\Lib\\site-packages\\Real-ESRGAN\\weights\\RealESRGAN_x4plus.pth\"\n",
    "\n",
    "def upscale_image(input_image: np.ndarray, scale: Literal[2, 4] = 2) -> np.ndarray:\n",
    "    \"\"\"\n",
    "    이미지를 업스케일링하는 함수.\n",
    "    \n",
    "    :param input_image: ndarray 타입의 입력 이미지\n",
    "    :param model_path: 모델 파일 경로\n",
    "    :param scale: 업스케일 배율 (기본값: 2)\n",
    "    :return: 업스케일링된 ndarray 타입의 이미지\n",
    "    \"\"\"\n",
    "    # 장치 설정\n",
    "    device = torch.device('cuda' if torch.cuda.is_available() else 'cpu')\n",
    "        \n",
    "    # Upscaing Model 선택\n",
    "    model_path = UPSCALE_MODEL_X2 if scale == 2 else UPSCALE_MODEL_X4\n",
    "\n",
    "    # 모델 생성\n",
    "    model = RRDBNet(num_in_ch=3, num_out_ch=3, num_feat=64, num_block=23, num_grow_ch=32, scale=scale)\n",
    "    \n",
    "    # 업스케일러 생성 (half=False로 설정하여 FP32 사용)\n",
    "    upscaler = RealESRGANer(scale=scale, model_path=model_path, model=model, tile=400, tile_pad=10, pre_pad=0, half=False)\n",
    "    \n",
    "    # 입력 이미지가 BGR 형식일 경우, RGB로 변환\n",
    "    if input_image.shape[-1] == 3:  # 이미지가 컬러일 경우\n",
    "        input_image = cv2.cvtColor(input_image, cv2.COLOR_BGR2RGB)\n",
    "    \n",
    "    # 업스케일링 수행\n",
    "    output, _ = upscaler.enhance(input_image, outscale=scale)\n",
    "    \n",
    "    # 결과를 BGR로 다시 변환하여 반환\n",
    "    output = cv2.cvtColor(output, cv2.COLOR_RGB2BGR)\n",
    "    \n",
    "    return output"
   ]
  },
  {
   "cell_type": "code",
   "execution_count": null,
   "metadata": {},
   "outputs": [],
   "source": [
    "import cv2\n",
    "import numpy as np\n",
    "\n",
    "# 입력 이미지 로드\n",
    "input_img = cv2.imread(\"city_image.jpg\")\n",
    "\n",
    "# upscaling 함수 호출\n",
    "upscaled_img = upscale_image(input_img, scale=4)\n",
    "\n",
    "# 결과 저장\n",
    "cv2.imwrite('upscaled_city.jpg', upscaled_img)"
   ]
  }
 ],
 "metadata": {
  "kernelspec": {
   "display_name": ".venv",
   "language": "python",
   "name": "python3"
  },
  "language_info": {
   "codemirror_mode": {
    "name": "ipython",
    "version": 3
   },
   "file_extension": ".py",
   "mimetype": "text/x-python",
   "name": "python",
   "nbconvert_exporter": "python",
   "pygments_lexer": "ipython3",
   "version": "3.12.1"
  }
 },
 "nbformat": 4,
 "nbformat_minor": 2
}
