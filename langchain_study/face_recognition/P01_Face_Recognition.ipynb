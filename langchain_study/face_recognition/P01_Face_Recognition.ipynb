{
 "cells": [
  {
   "cell_type": "code",
   "execution_count": 1,
   "metadata": {},
   "outputs": [
    {
     "name": "stdout",
     "output_type": "stream",
     "text": [
      "Requirement already satisfied: faiss-cpu in c:\\users\\prof\\appdata\\local\\programs\\python\\python312\\lib\\site-packages (1.8.0)\n",
      "Requirement already satisfied: face_recognition in c:\\users\\prof\\appdata\\local\\programs\\python\\python312\\lib\\site-packages (1.3.0)\n",
      "Requirement already satisfied: numpy in c:\\users\\prof\\appdata\\local\\programs\\python\\python312\\lib\\site-packages (from faiss-cpu) (1.26.4)\n",
      "Requirement already satisfied: face-recognition-models>=0.3.0 in c:\\users\\prof\\appdata\\local\\programs\\python\\python312\\lib\\site-packages (from face_recognition) (0.3.0)\n",
      "Requirement already satisfied: Click>=6.0 in c:\\users\\prof\\appdata\\local\\programs\\python\\python312\\lib\\site-packages (from face_recognition) (8.1.7)\n",
      "Requirement already satisfied: dlib>=19.7 in c:\\users\\prof\\appdata\\local\\programs\\python\\python312\\lib\\site-packages (from face_recognition) (19.24.99)\n",
      "Requirement already satisfied: Pillow in c:\\users\\prof\\appdata\\local\\programs\\python\\python312\\lib\\site-packages (from face_recognition) (10.3.0)\n",
      "Requirement already satisfied: colorama in c:\\users\\prof\\appdata\\local\\programs\\python\\python312\\lib\\site-packages (from Click>=6.0->face_recognition) (0.4.6)\n"
     ]
    }
   ],
   "source": [
    "!pip install faiss-cpu face_recognition"
   ]
  },
  {
   "cell_type": "code",
   "execution_count": 2,
   "metadata": {},
   "outputs": [],
   "source": [
    "import face_recognition\n",
    "import os\n",
    "import numpy as np\n",
    "import faiss\n",
    "import pickle\n",
    "from PIL import Image, ImageDraw"
   ]
  },
  {
   "cell_type": "code",
   "execution_count": 3,
   "metadata": {},
   "outputs": [],
   "source": [
    "# 얼굴 DB 구축 및 Faiss 인덱스에 추가\n",
    "# 얼굴 DB 구축 및 Faiss 인덱스에 추가\n",
    "def build_face_db(image_dir):\n",
    "    face_encodings = []\n",
    "    face_labels = []\n",
    "    face_locations = {}\n",
    "\n",
    "    for image_file in os.listdir(image_dir):\n",
    "        if image_file.endswith(('.jpg', '.jpeg', '.png')):\n",
    "            # 이미지 파일 로드\n",
    "            image_path = os.path.join(image_dir, image_file)\n",
    "            image = face_recognition.load_image_file(image_path)\n",
    "            # 모든 얼굴 인코딩과 얼굴 위치 추출\n",
    "            encodings = face_recognition.face_encodings(image)\n",
    "            locations = face_recognition.face_locations(image)\n",
    "\n",
    "            if encodings:\n",
    "                for i, (encoding, location) in enumerate(zip(encodings, locations)):\n",
    "                    # 각 얼굴 인코딩을 저장\n",
    "                    face_encodings.append(encoding)\n",
    "                    # 레이블로 파일명과 얼굴 인덱스를 함께 저장 (ex. image_1_face_1.jpg)\n",
    "                    label = f\"{image_file}_face_{i}\"\n",
    "                    face_labels.append(label)\n",
    "                    # 얼굴 위치도 함께 저장 (이미지 파일명, 얼굴 인덱스와 위치 매핑)\n",
    "                    face_locations[label] = location\n",
    "\n",
    "    # 얼굴 인코딩을 numpy 배열로 변환\n",
    "    face_encodings_np = np.array(face_encodings)\n",
    "\n",
    "    # 인코딩된 얼굴 벡터를 Faiss 인덱스에 추가\n",
    "    index.add(face_encodings_np)\n",
    "\n",
    "    # 얼굴 레이블 및 위치 저장\n",
    "    with open('face_labels.pkl', 'wb') as f:\n",
    "        pickle.dump(face_labels, f)\n",
    "\n",
    "    with open('face_locations.pkl', 'wb') as f:\n",
    "        pickle.dump(face_locations, f)"
   ]
  },
  {
   "cell_type": "code",
   "execution_count": 4,
   "metadata": {},
   "outputs": [],
   "source": [
    "# 얼굴 이미지를 저장할 디렉토리 경로\n",
    "IMAGE_DIR = './faces/'\n",
    "# 벡터 차원 (face_recognition의 얼굴 인코딩 차원은 128)\n",
    "VECTOR_DIM = 128\n",
    "\n",
    "# Faiss 인덱스 생성 (L2 거리 사용)\n",
    "index = faiss.IndexFlatL2(VECTOR_DIM)"
   ]
  },
  {
   "cell_type": "code",
   "execution_count": 5,
   "metadata": {},
   "outputs": [],
   "source": [
    "# 얼굴 DB 구축 실행\n",
    "build_face_db(IMAGE_DIR)"
   ]
  },
  {
   "cell_type": "markdown",
   "metadata": {},
   "source": [
    "#### 비슷한 얼굴 쿼리하기 (모든 얼굴 중 유사한 얼굴 찾기)"
   ]
  },
  {
   "cell_type": "code",
   "execution_count": 6,
   "metadata": {},
   "outputs": [],
   "source": [
    "# 유사한 얼굴 찾기 및 이미지에 얼굴 그리기\n",
    "def find_similar_faces(query_image_path, index, face_labels, face_locations, k=5):\n",
    "    # 쿼리 이미지 로드\n",
    "    query_image = face_recognition.load_image_file(query_image_path)\n",
    "    query_encodings = face_recognition.face_encodings(query_image)\n",
    "\n",
    "    if not query_encodings:\n",
    "        print(\"이미지에서 얼굴을 찾을 수 없습니다.\")\n",
    "        return []\n",
    "\n",
    "    similar_faces = []\n",
    "    # 쿼리 이미지의 모든 얼굴에 대해 검색\n",
    "    for query_encoding in query_encodings:\n",
    "        query_encoding = query_encoding.reshape(1, -1)\n",
    "\n",
    "        # Faiss 인덱스에서 가장 가까운 K개의 얼굴 찾기\n",
    "        distances, indices = index.search(query_encoding, k)\n",
    "\n",
    "        # 결과 저장\n",
    "        for i, idx in enumerate(indices[0]):\n",
    "            similar_faces.append((face_labels[idx], distances[0][i]))\n",
    "\n",
    "    # 거리 기준으로 정렬\n",
    "    similar_faces = sorted(similar_faces, key=lambda x: x[1])\n",
    "\n",
    "    return similar_faces"
   ]
  },
  {
   "cell_type": "code",
   "execution_count": 7,
   "metadata": {},
   "outputs": [],
   "source": [
    "# 쿼리 이미지와 매칭된 얼굴을 박스 처리하여 그리기\n",
    "def draw_faces(matched_faces, face_locations):\n",
    "    for face, _ in matched_faces:\n",
    "        # 얼굴 레이블에서 파일명과 얼굴 인덱스 추출\n",
    "        image_file = face.split('_face_')[0]\n",
    "        image_path = os.path.join(IMAGE_DIR, image_file)\n",
    "        \n",
    "        # 매칭된 DB 이미지 로드\n",
    "        image = Image.open(image_path)\n",
    "        draw = ImageDraw.Draw(image)\n",
    "\n",
    "        # 얼굴 위치 가져오기\n",
    "        location = face_locations.get(face)\n",
    "        if location:\n",
    "            top, right, bottom, left = location\n",
    "            # 얼굴에 박스 그리기\n",
    "            draw.rectangle(((left, top), (right, bottom)), outline=(0, 255, 0), width=3)\n",
    "\n",
    "        # 매칭된 얼굴 이미지 보여주기\n",
    "        image.show()"
   ]
  },
  {
   "cell_type": "code",
   "execution_count": 8,
   "metadata": {},
   "outputs": [],
   "source": [
    "# 얼굴 레이블 및 위치 로드\n",
    "with open('face_labels.pkl', 'rb') as f:\n",
    "    face_labels = pickle.load(f)\n",
    "\n",
    "with open('face_locations.pkl', 'rb') as f:\n",
    "    face_locations = pickle.load(f)"
   ]
  },
  {
   "cell_type": "code",
   "execution_count": 9,
   "metadata": {},
   "outputs": [],
   "source": [
    "query_image_path = './test_hanni.jpg'"
   ]
  },
  {
   "cell_type": "code",
   "execution_count": 10,
   "metadata": {},
   "outputs": [
    {
     "name": "stdout",
     "output_type": "stream",
     "text": [
      "비슷한 얼굴들:\n",
      "newjeans02.jpg_face_4 (유사도 거리: 0.06112991273403168)\n",
      "newjeans01.jpg_face_0 (유사도 거리: 0.09109141677618027)\n",
      "hanni02.jpg_face_0 (유사도 거리: 0.1049562394618988)\n",
      "hanni06.jpg_face_0 (유사도 거리: 0.1453244686126709)\n",
      "newjeans02.jpg_face_0 (유사도 거리: 0.154688760638237)\n"
     ]
    }
   ],
   "source": [
    "# 쿼리 이미지로 비슷한 얼굴 찾기\n",
    "similar_faces = find_similar_faces(query_image_path, index, face_labels, face_locations, k=10)\n",
    "\n",
    "if similar_faces:\n",
    "    print(\"비슷한 얼굴들:\")\n",
    "    for name, distance in similar_faces:\n",
    "        print(f\"{name} (유사도 거리: {distance})\")\n",
    "    \n",
    "    # 매칭된 이미지에서 얼굴을 그리기\n",
    "    draw_faces(similar_faces, face_locations)\n",
    "else:\n",
    "    print(\"유사한 얼굴을 찾을 수 없습니다.\")"
   ]
  }
 ],
 "metadata": {
  "kernelspec": {
   "display_name": "Python 3",
   "language": "python",
   "name": "python3"
  },
  "language_info": {
   "codemirror_mode": {
    "name": "ipython",
    "version": 3
   },
   "file_extension": ".py",
   "mimetype": "text/x-python",
   "name": "python",
   "nbconvert_exporter": "python",
   "pygments_lexer": "ipython3",
   "version": "3.12.1"
  }
 },
 "nbformat": 4,
 "nbformat_minor": 2
}
