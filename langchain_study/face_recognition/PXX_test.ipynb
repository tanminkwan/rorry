{
 "cells": [
  {
   "cell_type": "code",
   "execution_count": 1,
   "metadata": {},
   "outputs": [
    {
     "data": {
      "text/plain": [
       "True"
      ]
     },
     "execution_count": 1,
     "metadata": {},
     "output_type": "execute_result"
    }
   ],
   "source": [
    "from dotenv import load_dotenv\n",
    "\n",
    "# API Key 정보로드\n",
    "load_dotenv()"
   ]
  },
  {
   "cell_type": "code",
   "execution_count": 2,
   "metadata": {},
   "outputs": [],
   "source": [
    "from tools import FaceSwapper, restore_face"
   ]
  },
  {
   "cell_type": "code",
   "execution_count": null,
   "metadata": {},
   "outputs": [],
   "source": [
    "SOURCE_FILE = r\"C:\\stable_diff\\Face\\jo.jpg\"\n",
    "TARGET_FILE = \"./images/man_n_waman.jpg\"\n",
    "\n",
    "import cv2\n",
    "\n",
    "face_swapper = FaceSwapper(ctx_id=0, det_size=(320, 320))\n",
    "\n",
    "# 소스 얼굴 이미지 로드\n",
    "source_img = cv2.imread(SOURCE_FILE)\n",
    "\n",
    "# 소스 얼굴 설정 (face_index는 선택 사항)\n",
    "success = face_swapper.set_source_face(source_img, face_index=0)\n",
    "if not success:\n",
    "    print(\"소스 얼굴 설정에 실패했습니다.\")\n",
    "    exit()\n",
    "    \n",
    "# 대상 이미지 로드\n",
    "target_img = cv2.imread(TARGET_FILE)\n",
    "    \n",
    "# 얼굴 교체 수행 (ndarray 이미지를 입력으로 받아 결과를 ndarray로 반환)\n",
    "swapped_img = face_swapper.swap_faces_in_image(target_img)\n",
    "restored_swapped_img = restore_face(swapped_img, use_gpu=True)\n",
    "\n",
    "if restored_swapped_img is not None:\n",
    "    # 결과 이미지 표시\n",
    "    cv2.imshow('Similarity Result', restored_swapped_img)\n",
    "    cv2.waitKey(0)\n",
    "    cv2.destroyAllWindows()    \n",
    "else:\n",
    "    print(\"얼굴 교체에 실패했습니다.\")"
   ]
  },
  {
   "cell_type": "code",
   "execution_count": null,
   "metadata": {},
   "outputs": [],
   "source": [
    "from pathlib import Path\n",
    "\n",
    "face_path = r\"C:\\stable_diff\\Face\\jo.jpg\"\n",
    "images_path = r\"R:\\[[Models]]\\[small]\\Chloe Temple\\01\"\n",
    "output_path = r\"C:\\Users\\tanmi\\stable-diffusion-webui\\outputs\\extras-images\\jo1\"\n",
    "\n",
    "face_swapper = FaceSwapper(det_size=(320, 320))\n",
    "\n",
    "# 소스 얼굴 이미지 로드\n",
    "source_img = cv2.imread(face_path)\n",
    "    \n",
    "# 소스 얼굴 설정 (face_index는 선택 사항)\n",
    "success = face_swapper.set_source_face(source_img, face_index=0)\n",
    "if not success:\n",
    "    print(\"소스 얼굴 설정에 실패했습니다.\")\n",
    "    exit()\n",
    "\n",
    "output_dir = Path(output_path)\n",
    "output_dir.mkdir(exist_ok=True)\n",
    "\n",
    "# Find image files (jpg and png)\n",
    "image_files = sorted(Path(images_path).glob(\"*.jpg\")) + sorted(Path(images_path).glob(\"*.png\"))\n",
    "if not image_files:\n",
    "    raise ValueError(\"No jpg or png images found in the specified directory.\")\n",
    "\n",
    "for idx, image_file in enumerate(image_files):\n",
    "\n",
    "    target_img = cv2.imread(image_file)\n",
    "        \n",
    "    if \"_skip\" in image_file.name.lower():\n",
    "        restored_swapped_img = target_img\n",
    "    else:\n",
    "        # 얼굴 교체 수행 (ndarray 이미지를 입력으로 받아 결과를 ndarray로 반환)\n",
    "        swapped_img = face_swapper.swap_faces_in_image(target_img)\n",
    "\n",
    "        if swapped_img is None:\n",
    "            restored_swapped_img = target_img\n",
    "        else:\n",
    "            restored_swapped_img = restore_face(swapped_img)\n",
    "\n",
    "    new_name = output_dir / f\"{image_file.name}\"\n",
    "\n",
    "    if restored_swapped_img is not None:\n",
    "        cv2.imwrite(new_name, restored_swapped_img)"
   ]
  }
 ],
 "metadata": {
  "kernelspec": {
   "display_name": ".venv",
   "language": "python",
   "name": "python3"
  },
  "language_info": {
   "codemirror_mode": {
    "name": "ipython",
    "version": 3
   },
   "file_extension": ".py",
   "mimetype": "text/x-python",
   "name": "python",
   "nbconvert_exporter": "python",
   "pygments_lexer": "ipython3",
   "version": "3.12.0rc3"
  }
 },
 "nbformat": 4,
 "nbformat_minor": 2
}
