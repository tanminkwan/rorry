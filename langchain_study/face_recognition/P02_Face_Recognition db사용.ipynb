{
 "cells": [
  {
   "cell_type": "markdown",
   "metadata": {},
   "source": [
    "#### 0. 필수 package 설치\n",
    "- dlib 설치\n",
    "  - Windows 의 경우 아래 주소에서 python version에 맞는 whl 파일 download 받아서 설치\n",
    "  - https://github.com/z-mahmud22/Dlib_Windows_Python3.x/tree/main\n",
    "  - `pip install dlib-19.22.99-cp310-cp310-win_amd64.whl`"
   ]
  },
  {
   "cell_type": "markdown",
   "metadata": {},
   "source": [
    "- 기타 library 설치"
   ]
  },
  {
   "cell_type": "code",
   "execution_count": 2,
   "metadata": {},
   "outputs": [
    {
     "name": "stdout",
     "output_type": "stream",
     "text": [
      "Collecting faiss-cpu\n",
      "  Using cached faiss_cpu-1.8.0.post1-cp310-cp310-win_amd64.whl.metadata (3.8 kB)\n",
      "Collecting face_recognition\n",
      "  Using cached face_recognition-1.3.0-py2.py3-none-any.whl.metadata (21 kB)\n",
      "Requirement already satisfied: sqlalchemy in c:\\python310\\lib\\site-packages (2.0.28)\n",
      "Requirement already satisfied: numpy in c:\\python310\\lib\\site-packages (1.26.4)\n",
      "Requirement already satisfied: packaging in c:\\python310\\lib\\site-packages (from faiss-cpu) (23.2)\n",
      "Collecting face-recognition-models>=0.3.0 (from face_recognition)\n",
      "  Using cached face_recognition_models-0.3.0-py2.py3-none-any.whl\n",
      "Requirement already satisfied: Click>=6.0 in c:\\python310\\lib\\site-packages (from face_recognition) (8.1.7)\n",
      "Requirement already satisfied: dlib>=19.7 in c:\\python310\\lib\\site-packages (from face_recognition) (19.22.99)\n",
      "Requirement already satisfied: Pillow in c:\\python310\\lib\\site-packages (from face_recognition) (10.2.0)\n",
      "Requirement already satisfied: typing-extensions>=4.6.0 in c:\\python310\\lib\\site-packages (from sqlalchemy) (4.10.0)\n",
      "Requirement already satisfied: greenlet!=0.4.17 in c:\\python310\\lib\\site-packages (from sqlalchemy) (3.0.3)\n",
      "Requirement already satisfied: colorama in c:\\python310\\lib\\site-packages (from Click>=6.0->face_recognition) (0.4.6)\n",
      "Using cached faiss_cpu-1.8.0.post1-cp310-cp310-win_amd64.whl (14.6 MB)\n",
      "Using cached face_recognition-1.3.0-py2.py3-none-any.whl (15 kB)\n",
      "Installing collected packages: face-recognition-models, faiss-cpu, face_recognition\n",
      "Successfully installed face-recognition-models-0.3.0 face_recognition-1.3.0 faiss-cpu-1.8.0.post1\n"
     ]
    },
    {
     "name": "stderr",
     "output_type": "stream",
     "text": [
      "\n",
      "[notice] A new release of pip is available: 24.1.2 -> 24.2\n",
      "[notice] To update, run: python.exe -m pip install --upgrade pip\n"
     ]
    }
   ],
   "source": [
    "!pip install faiss-cpu face_recognition sqlalchemy numpy"
   ]
  },
  {
   "cell_type": "markdown",
   "metadata": {},
   "source": [
    "#### 1. 데이터베이스 설정 (SQLAlchemy)"
   ]
  },
  {
   "cell_type": "code",
   "execution_count": 1,
   "metadata": {},
   "outputs": [],
   "source": [
    "from sqlalchemy import create_engine, Column, Integer, String, LargeBinary\n",
    "from sqlalchemy.orm import declarative_base\n",
    "from sqlalchemy.orm import sessionmaker\n",
    "\n",
    "Base = declarative_base()\n",
    "\n",
    "class Face(Base):\n",
    "    __tablename__ = 'faces'\n",
    "    \n",
    "    id = Column(Integer, primary_key=True)\n",
    "    image_file = Column(String)  # 이미지 파일명\n",
    "    face_index = Column(Integer)  # 얼굴 인덱스 (한 이미지에 여러 얼굴이 있을 수 있음)\n",
    "    encoding = Column(LargeBinary)  # 얼굴 인코딩 (numpy 배열을 binary로 저장)\n",
    "    top = Column(Integer)  # 얼굴 위치 (top 좌표)\n",
    "    right = Column(Integer)\n",
    "    bottom = Column(Integer)\n",
    "    left = Column(Integer)"
   ]
  },
  {
   "cell_type": "code",
   "execution_count": 2,
   "metadata": {},
   "outputs": [],
   "source": [
    "# SQLite 엔진 생성 및 세션 설정\n",
    "engine = create_engine('sqlite:///faces.db')\n",
    "Base.metadata.create_all(engine)\n",
    "Session = sessionmaker(bind=engine)\n",
    "session = Session()"
   ]
  },
  {
   "cell_type": "markdown",
   "metadata": {},
   "source": [
    "#### 2. 얼굴 인코딩 저장"
   ]
  },
  {
   "cell_type": "code",
   "execution_count": 3,
   "metadata": {},
   "outputs": [],
   "source": [
    "import face_recognition\n",
    "import os\n",
    "import numpy as np\n",
    "\n",
    "# 얼굴 DB 구축 및 SQLite에 저장\n",
    "def build_face_db(image_dir):\n",
    "    for image_file in os.listdir(image_dir):\n",
    "        if image_file.endswith(('.jpg', '.jpeg', '.png')):\n",
    "            image_path = os.path.join(image_dir, image_file)\n",
    "            image = face_recognition.load_image_file(image_path)\n",
    "            encodings = face_recognition.face_encodings(image)\n",
    "            locations = face_recognition.face_locations(image)\n",
    "\n",
    "            if encodings:\n",
    "                for i, (encoding, location) in enumerate(zip(encodings, locations)):\n",
    "                    face = Face(\n",
    "                        image_file=image_file,\n",
    "                        face_index=i,\n",
    "                        encoding=np.array(encoding).tobytes(),  # numpy 배열을 binary로 저장\n",
    "                        top=location[0],\n",
    "                        right=location[1],\n",
    "                        bottom=location[2],\n",
    "                        left=location[3]\n",
    "                    )\n",
    "                    session.add(face)\n",
    "    \n",
    "    session.commit()"
   ]
  },
  {
   "cell_type": "code",
   "execution_count": 4,
   "metadata": {},
   "outputs": [],
   "source": [
    "# 얼굴 DB 구축 실행\n",
    "faces_path = './faces'\n",
    "build_face_db(faces_path)"
   ]
  },
  {
   "cell_type": "markdown",
   "metadata": {},
   "source": [
    "#### 3. Faiss 인덱스 생성 및 저장"
   ]
  },
  {
   "cell_type": "code",
   "execution_count": 5,
   "metadata": {},
   "outputs": [],
   "source": [
    "import faiss\n",
    "\n",
    "# Faiss 인덱스와 ID 매핑을 파일로 저장하는 함수\n",
    "def save_faiss_index(index, id_map, index_file='faiss_index.index', id_map_file='id_map.npy'):\n",
    "    faiss.write_index(index, index_file)\n",
    "    np.save(id_map_file, id_map)\n",
    "\n",
    "# Faiss 인덱스와 ID 매핑을 파일에서 불러오는 함수\n",
    "def load_faiss_index(index_file='faiss_index.index', id_map_file='id_map.npy'):\n",
    "    index = faiss.read_index(index_file)\n",
    "    id_map = np.load(id_map_file)\n",
    "    return index, id_map\n",
    "\n",
    "# Faiss 인덱스 생성 및 저장\n",
    "def build_and_save_faiss_index():\n",
    "    # SQLite에서 얼굴 인코딩 가져오기\n",
    "    faces = session.query(Face.id, Face.encoding).all()\n",
    "\n",
    "    vector_dim = 128  # face_recognition 얼굴 인코딩 차원\n",
    "    index = faiss.IndexFlatL2(vector_dim)\n",
    "\n",
    "    encodings = []\n",
    "    face_ids = []\n",
    "    for face in faces:\n",
    "        encoding = np.frombuffer(face.encoding, dtype=np.float64)\n",
    "        encodings.append(encoding)\n",
    "        face_ids.append(face.id)\n",
    "\n",
    "    if encodings:\n",
    "        encodings_np = np.array(encodings).astype(np.float32)\n",
    "        index.add(encodings_np)\n",
    "\n",
    "    # ID 매핑 배열 생성\n",
    "    id_map = np.array(face_ids)\n",
    "\n",
    "    # 인덱스와 ID 매핑 저장\n",
    "    save_faiss_index(index, id_map)\n",
    "\n",
    "    return index, id_map"
   ]
  },
  {
   "cell_type": "code",
   "execution_count": 6,
   "metadata": {},
   "outputs": [
    {
     "data": {
      "text/plain": [
       "(<faiss.swigfaiss_avx2.IndexFlatL2; proxy of <Swig Object of type 'faiss::IndexFlatL2 *' at 0x000001FA8425AAC0> >,\n",
       " array([ 1,  2,  3,  4,  5,  6,  7,  8,  9, 10, 11, 12, 13, 14, 15, 16, 17,\n",
       "        18, 19, 20, 21, 22, 23, 24, 25, 26, 27, 28, 29, 30, 31, 32, 33, 34,\n",
       "        35, 36, 37, 38, 39, 40]))"
      ]
     },
     "execution_count": 6,
     "metadata": {},
     "output_type": "execute_result"
    }
   ],
   "source": [
    "# 인덱스 구축 후 파일로 저장\n",
    "build_and_save_faiss_index()"
   ]
  },
  {
   "cell_type": "markdown",
   "metadata": {},
   "source": [
    "#### 4. 유사한 얼굴 찾기 함수 정의(Faiss 인덱스 사용)"
   ]
  },
  {
   "cell_type": "code",
   "execution_count": 7,
   "metadata": {},
   "outputs": [],
   "source": [
    "from sqlalchemy import select\n",
    "\n",
    "def find_similar_faces_with_faiss(query_image_path, faiss_index, id_map, k=5):\n",
    "    query_image = face_recognition.load_image_file(query_image_path)\n",
    "    query_encodings = face_recognition.face_encodings(query_image)\n",
    "\n",
    "    if not query_encodings:\n",
    "        print(\"이미지에서 얼굴을 찾을 수 없습니다.\")\n",
    "        return []\n",
    "\n",
    "    similar_faces = []\n",
    "    for query_encoding in query_encodings:\n",
    "        query_encoding = np.array(query_encoding).reshape(1, -1).astype(np.float32)\n",
    "\n",
    "        distances, indices = faiss_index.search(query_encoding, k)\n",
    "\n",
    "        face_ids = id_map[indices[0]]\n",
    "        \n",
    "        # Face.id와 거리를 딕셔너리로 매핑\n",
    "        id_distance_map = dict(zip(face_ids, distances[0]))\n",
    "\n",
    "        # 데이터베이스에서 Face 객체 조회\n",
    "        stmt = select(Face).where(Face.id.in_(face_ids.tolist()))\n",
    "        result = session.execute(stmt).scalars().all()\n",
    "\n",
    "        # 각 Face 객체에 대해 정확한 거리 값을 찾아 리스트에 추가\n",
    "        for face in result:\n",
    "            distance = id_distance_map[face.id]\n",
    "            similar_faces.append((face, distance))\n",
    "\n",
    "        # 거리에 따라 결과 정렬\n",
    "        similar_faces.sort(key=lambda x: x[1])\n",
    "\n",
    "    return similar_faces"
   ]
  },
  {
   "cell_type": "markdown",
   "metadata": {},
   "source": [
    "#### 5. 시각화 함수 정의"
   ]
  },
  {
   "cell_type": "code",
   "execution_count": 8,
   "metadata": {},
   "outputs": [],
   "source": [
    "from PIL import Image, ImageDraw, ImageFont\n",
    "\n",
    "# 매칭된 이미지의 얼굴을 박스 처리하고 유사도 출력하기\n",
    "def draw_faces(matched_faces, faces_path):\n",
    "    for face, distance in matched_faces:\n",
    "        image_path = os.path.join(faces_path, face.image_file)\n",
    "        image = Image.open(image_path)\n",
    "        draw = ImageDraw.Draw(image)\n",
    "\n",
    "        # 얼굴 위치 가져오기\n",
    "        top, right, bottom, left = face.top, face.right, face.bottom, face.left\n",
    "        \n",
    "        # 얼굴 주위에 박스 그리기\n",
    "        draw.rectangle(((left, top), (right, bottom)), outline=(0, 255, 0), width=3)\n",
    "\n",
    "        # 유사도 값 소수점 두 자리로 변환하여 문자열로 저장\n",
    "        similarity_text = f\"{distance:.2f}\"\n",
    "\n",
    "        # 얼굴 박스 위에 유사도 값 표시 (박스의 좌측 상단에 표시)\n",
    "        text_position = (left, top - 40)  # 텍스트 위치를 박스 위로 조정\n",
    "        \n",
    "        # 폰트 설정 (폰트 크기를 크게 조정)\n",
    "        font = ImageFont.truetype(\"arial.ttf\", 24)  # 폰트 경로와 크기 설정\n",
    "        \n",
    "        # 글자 테두리 그리기 (흰색 테두리로 어두운 배경에서도 가독성 향상)\n",
    "        # 테두리를 먼저 흰색으로 그린 후, 중앙에 검은 글자를 그리는 방식\n",
    "        outline_color = \"white\"\n",
    "        draw.text((text_position[0] - 1, text_position[1] - 1), similarity_text, font=font, fill=outline_color)\n",
    "        draw.text((text_position[0] + 1, text_position[1] - 1), similarity_text, font=font, fill=outline_color)\n",
    "        draw.text((text_position[0] - 1, text_position[1] + 1), similarity_text, font=font, fill=outline_color)\n",
    "        draw.text((text_position[0] + 1, text_position[1] + 1), similarity_text, font=font, fill=outline_color)\n",
    "\n",
    "        # 본문 텍스트 (검은 글자)\n",
    "        draw.text(text_position, similarity_text, font=font, fill=\"black\")\n",
    "\n",
    "        # 매칭된 얼굴 이미지 보여주기\n",
    "        image.show()"
   ]
  },
  {
   "cell_type": "markdown",
   "metadata": {},
   "source": [
    "#### 6. 실행"
   ]
  },
  {
   "cell_type": "code",
   "execution_count": 9,
   "metadata": {},
   "outputs": [],
   "source": [
    "# 쿼리 이미지 설정\n",
    "query_image_path = './test_hanni.jpg'"
   ]
  },
  {
   "cell_type": "code",
   "execution_count": 10,
   "metadata": {},
   "outputs": [
    {
     "name": "stdout",
     "output_type": "stream",
     "text": [
      "비슷한 얼굴들:\n",
      "newjeans02.jpg 얼굴 4 (유사도 거리: 0.06112991273403168)\n",
      "newjeans01.jpg 얼굴 0 (유사도 거리: 0.09109141677618027)\n",
      "hanni02.jpg 얼굴 0 (유사도 거리: 0.1049562394618988)\n",
      "hanni06.jpg 얼굴 0 (유사도 거리: 0.1453244686126709)\n",
      "newjeans02.jpg 얼굴 0 (유사도 거리: 0.154688760638237)\n",
      "newjeans01.jpg 얼굴 2 (유사도 거리: 0.17067113518714905)\n",
      "newjeans02.jpg 얼굴 2 (유사도 거리: 0.18196284770965576)\n",
      "hanni04.jpg 얼굴 0 (유사도 거리: 0.1861667037010193)\n",
      "nobody.jpg 얼굴 2 (유사도 거리: 0.19330571591854095)\n",
      "hanni03.jpg 얼굴 0 (유사도 거리: 0.20511700212955475)\n",
      "신세경.jpg 얼굴 0 (유사도 거리: 0.2137187123298645)\n",
      "newjeans01.jpg 얼굴 3 (유사도 거리: 0.21556031703948975)\n",
      "newjeans02.jpg 얼굴 1 (유사도 거리: 0.21713560819625854)\n",
      "newjeans01.jpg 얼굴 1 (유사도 거리: 0.22216691076755524)\n",
      "김희선.jpg 얼굴 0 (유사도 거리: 0.22664082050323486)\n",
      "hanni01.jpg 얼굴 0 (유사도 거리: 0.23257119953632355)\n",
      "nobody.jpg 얼굴 0 (유사도 거리: 0.23509380221366882)\n",
      "김태희.jpg 얼굴 0 (유사도 거리: 0.2478526532649994)\n",
      "newjeans01.jpg 얼굴 4 (유사도 거리: 0.2622310519218445)\n",
      "nobody.jpg 얼굴 3 (유사도 거리: 0.2630600929260254)\n"
     ]
    }
   ],
   "source": [
    "# Faiss Load\n",
    "faiss_index, id_map = load_faiss_index()\n",
    "\n",
    "# 쿼리 이미지로 비슷한 얼굴 찾기\n",
    "similar_faces = find_similar_faces_with_faiss(query_image_path, faiss_index, id_map, k=5)\n",
    "\n",
    "if similar_faces:\n",
    "    print(\"비슷한 얼굴들:\")\n",
    "    for face, distance in similar_faces:\n",
    "        print(f\"{face.image_file} 얼굴 {face.face_index} (유사도 거리: {distance})\")\n",
    "    \n",
    "    # 매칭된 이미지에서 얼굴을 그리기\n",
    "    draw_faces(similar_faces, faces_path)\n",
    "else:\n",
    "    print(\"유사한 얼굴을 찾을 수 없습니다.\")"
   ]
  }
 ],
 "metadata": {
  "kernelspec": {
   "display_name": "Python 3",
   "language": "python",
   "name": "python3"
  },
  "language_info": {
   "codemirror_mode": {
    "name": "ipython",
    "version": 3
   },
   "file_extension": ".py",
   "mimetype": "text/x-python",
   "name": "python",
   "nbconvert_exporter": "python",
   "pygments_lexer": "ipython3",
   "version": "3.10.10"
  }
 },
 "nbformat": 4,
 "nbformat_minor": 2
}
